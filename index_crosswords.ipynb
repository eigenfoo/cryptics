{
 "cells": [
  {
   "cell_type": "raw",
   "metadata": {},
   "source": [
    "import sqlite3\n",
    "import tqdm\n",
    "\n",
    "import bs4\n",
    "\n",
    "from cryptic_index.parse import try_parse\n",
    "from cryptic_index.utils import extract_puzzle_name"
   ]
  },
  {
   "cell_type": "raw",
   "metadata": {},
   "source": [
    "with sqlite3.connect(\"cryptic_index/cryptics.sqlite3\") as conn:\n",
    "    cursor = conn.cursor()\n",
    "    cursor.execute(\"SELECT url FROM raw_times_xwd_times WHERE is_parsed;\")\n",
    "    urls = [url for url, in cursor.fetchall()]"
   ]
  },
  {
   "cell_type": "raw",
   "metadata": {},
   "source": [
    "for url in tqdm.tqdm(urls):\n",
    "    with sqlite3.connect(\"cryptic_index/cryptics.sqlite3\") as conn:\n",
    "        cursor = conn.cursor()\n",
    "        cursor.execute(f\"SELECT html FROM raw_times_xwd_times WHERE url = '{url}';\")\n",
    "        html, = cursor.fetchone()\n",
    "\n",
    "    try:\n",
    "        puzzle_name = extract_puzzle_name(url, bs4.BeautifulSoup(html))\n",
    "    except:\n",
    "        continue\n",
    "\n",
    "    with sqlite3.connect(\"cryptic_index/cryptics.sqlite3\") as conn:\n",
    "        cursor = conn.cursor()\n",
    "        sql = f\"UPDATE raw_times_xwd_times SET datetime_parsed = datetime('now') WHERE url = '{url}';\"\n",
    "        cursor.execute(sql)\n",
    "\n",
    "        sql = f\"UPDATE parsed_times_xwd_times SET puzzle_name = '{puzzle_name}' WHERE source_url = '{url}';\"\n",
    "        cursor.execute(sql)"
   ]
  },
  {
   "cell_type": "raw",
   "metadata": {},
   "source": [
    "for url in tqdm.tqdm(urls):\n",
    "    with sqlite3.connect(\"cryptic_info/cryptics.sqlite3\") as conn:\n",
    "        cursor = conn.cursor()\n",
    "        cursor.execute(f\"SELECT html FROM raw_fifteensquared WHERE url = '{url}';\")\n",
    "        html, = cursor.fetchone()\n",
    "\n",
    "    try:\n",
    "        data = try_parse(html, url)\n",
    "    except:\n",
    "        pass\n",
    "    \n",
    "    if data is None:\n",
    "        continue\n",
    "\n",
    "    with sqlite3.connect(\"cryptic_info/cryptics.sqlite3\") as conn:\n",
    "        data.to_sql(\"parsed_fifteensquared\", conn, if_exists=\"append\", index=False)\n",
    "\n",
    "        cursor = conn.cursor()\n",
    "        sql = f\"UPDATE raw_fifteensquared SET is_parsed = TRUE, datetime_parsed = datetime('now') WHERE url = '{url}';\"\n",
    "        cursor.execute(sql)"
   ]
  },
  {
   "cell_type": "code",
   "execution_count": null,
   "metadata": {},
   "outputs": [],
   "source": []
  },
  {
   "cell_type": "markdown",
   "metadata": {},
   "source": [
    "# Indexing Crosswords"
   ]
  },
  {
   "cell_type": "code",
   "execution_count": 1,
   "metadata": {},
   "outputs": [
    {
     "data": {
      "application/javascript": [
       "\n",
       "            setTimeout(function() {\n",
       "                var nbb_cell_id = 1;\n",
       "                var nbb_unformatted_code = \"%load_ext nb_black\\n\\nimport traceback\\nimport datetime\\nimport os\\nimport re\\nimport time\\nimport random\\nimport json\\nimport sqlite3\\nfrom collections import defaultdict\\n\\nimport requests\\nimport bs4\\nimport numpy as np\\nimport pandas as pd\\nimport tqdm\\n\\nimport ipdb\\n\\nfrom cryptic_index.parse import try_parse\";\n",
       "                var nbb_formatted_code = \"%load_ext nb_black\\n\\nimport traceback\\nimport datetime\\nimport os\\nimport re\\nimport time\\nimport random\\nimport json\\nimport sqlite3\\nfrom collections import defaultdict\\n\\nimport requests\\nimport bs4\\nimport numpy as np\\nimport pandas as pd\\nimport tqdm\\n\\nimport ipdb\\n\\nfrom cryptic_index.parse import try_parse\";\n",
       "                var nbb_cells = Jupyter.notebook.get_cells();\n",
       "                for (var i = 0; i < nbb_cells.length; ++i) {\n",
       "                    if (nbb_cells[i].input_prompt_number == nbb_cell_id) {\n",
       "                        if (nbb_cells[i].get_text() == nbb_unformatted_code) {\n",
       "                             nbb_cells[i].set_text(nbb_formatted_code);\n",
       "                        }\n",
       "                        break;\n",
       "                    }\n",
       "                }\n",
       "            }, 500);\n",
       "            "
      ],
      "text/plain": [
       "<IPython.core.display.Javascript object>"
      ]
     },
     "metadata": {},
     "output_type": "display_data"
    }
   ],
   "source": [
    "%load_ext nb_black\n",
    "\n",
    "import traceback\n",
    "import datetime\n",
    "import os\n",
    "import re\n",
    "import time\n",
    "import random\n",
    "import json\n",
    "import sqlite3\n",
    "from collections import defaultdict\n",
    "\n",
    "import requests\n",
    "import bs4\n",
    "import numpy as np\n",
    "import pandas as pd\n",
    "import tqdm\n",
    "\n",
    "import ipdb\n",
    "\n",
    "from cryptic_index.parse import try_parse"
   ]
  },
  {
   "cell_type": "code",
   "execution_count": 2,
   "metadata": {},
   "outputs": [
    {
     "data": {
      "application/javascript": [
       "\n",
       "            setTimeout(function() {\n",
       "                var nbb_cell_id = 2;\n",
       "                var nbb_unformatted_code = \"from cryptic_index.tables import *\\nfrom cryptic_index.text import *\\nfrom cryptic_index.lists import *\\nfrom cryptic_index.utils import extract_puzzle_url\";\n",
       "                var nbb_formatted_code = \"from cryptic_index.tables import *\\nfrom cryptic_index.text import *\\nfrom cryptic_index.lists import *\\nfrom cryptic_index.utils import extract_puzzle_url\";\n",
       "                var nbb_cells = Jupyter.notebook.get_cells();\n",
       "                for (var i = 0; i < nbb_cells.length; ++i) {\n",
       "                    if (nbb_cells[i].input_prompt_number == nbb_cell_id) {\n",
       "                        if (nbb_cells[i].get_text() == nbb_unformatted_code) {\n",
       "                             nbb_cells[i].set_text(nbb_formatted_code);\n",
       "                        }\n",
       "                        break;\n",
       "                    }\n",
       "                }\n",
       "            }, 500);\n",
       "            "
      ],
      "text/plain": [
       "<IPython.core.display.Javascript object>"
      ]
     },
     "metadata": {},
     "output_type": "display_data"
    }
   ],
   "source": [
    "from cryptic_index.tables import *\n",
    "from cryptic_index.text import *\n",
    "from cryptic_index.lists import *\n",
    "from cryptic_index.utils import extract_puzzle_url"
   ]
  },
  {
   "cell_type": "code",
   "execution_count": 3,
   "metadata": {},
   "outputs": [
    {
     "data": {
      "application/javascript": [
       "\n",
       "            setTimeout(function() {\n",
       "                var nbb_cell_id = 3;\n",
       "                var nbb_unformatted_code = \"headers = {\\n    \\\"User-Agent\\\": \\\"Mozilla/5.0 (X11; Linux x86_64)\\\",\\n    \\\"Accept-Encoding\\\": \\\"gzip\\\",\\n}\";\n",
       "                var nbb_formatted_code = \"headers = {\\n    \\\"User-Agent\\\": \\\"Mozilla/5.0 (X11; Linux x86_64)\\\",\\n    \\\"Accept-Encoding\\\": \\\"gzip\\\",\\n}\";\n",
       "                var nbb_cells = Jupyter.notebook.get_cells();\n",
       "                for (var i = 0; i < nbb_cells.length; ++i) {\n",
       "                    if (nbb_cells[i].input_prompt_number == nbb_cell_id) {\n",
       "                        if (nbb_cells[i].get_text() == nbb_unformatted_code) {\n",
       "                             nbb_cells[i].set_text(nbb_formatted_code);\n",
       "                        }\n",
       "                        break;\n",
       "                    }\n",
       "                }\n",
       "            }, 500);\n",
       "            "
      ],
      "text/plain": [
       "<IPython.core.display.Javascript object>"
      ]
     },
     "metadata": {},
     "output_type": "display_data"
    }
   ],
   "source": [
    "headers = {\n",
    "    \"User-Agent\": \"Mozilla/5.0 (X11; Linux x86_64)\",\n",
    "    \"Accept-Encoding\": \"gzip\",\n",
    "}"
   ]
  },
  {
   "cell_type": "code",
   "execution_count": null,
   "metadata": {},
   "outputs": [],
   "source": []
  },
  {
   "cell_type": "markdown",
   "metadata": {},
   "source": [
    "## `fifteensquared`"
   ]
  },
  {
   "cell_type": "raw",
   "metadata": {},
   "source": [
    "# Tables - type 1\n",
    "# source_url = (\n",
    "# \"https://www.fifteensquared.net/2021/05/20/financial-times-16790-by-leonidas/\"\n",
    "# \"https://www.fifteensquared.net/2021/05/21/financial-times-16791-by-buccaneer/\"\n",
    "# \"https://www.fifteensquared.net/2021/05/21/independent-10797-by-phi/\"\n",
    "# \"https://www.fifteensquared.net/2021/05/23/azed-no-2553-plain/\"\n",
    "# \"https://www.fifteensquared.net/2021/05/23/everyman-3892/\"\n",
    "# \"https://www.fifteensquared.net/2021/05/30/azed-no-2554-plain/\"\n",
    "# )\n",
    "\n",
    "# Tables - type 2\n",
    "# source_url = \"https://www.fifteensquared.net/2021/05/17/guardian-28447-anto/\"\n",
    "\n",
    "# Table - type 3\n",
    "# source_url = \"http://www.fifteensquared.net/2021/05/22/independent-10798-by-alchemi-saturday-puzzle-22-may-2021/\"\n",
    "# source_url = \"http://www.fifteensquared.net/2021/05/24/cyclops-702-gigantic-hiccup/\"\n",
    "\n",
    "# Table - type 4\n",
    "# source_url = \"https://www.fifteensquared.net/2020/09/06/azed-2516/\"\n",
    "# source_url = \"https://www.fifteensquared.net/2020/09/02/independent-10574-eccles/\"\n",
    "# source_url = \"https://www.fifteensquared.net/2020/09/08/independent-10579-kairos/\"\n",
    "\n",
    "# List - type 1\n",
    "# source_url = (\n",
    "# \"https://www.fifteensquared.net/2021/05/22/guardian-saturday-puzzle-28446-tramp/\"\n",
    "# \"https://www.fifteensquared.net/2021/05/23/independent-on-sunday-1630-by-raich/\"\n",
    "# \"https://www.fifteensquared.net/2021/05/19/guardian-28449-pasquale/\"\n",
    "# \"https://www.fifteensquared.net/2021/05/17/guardian-quiptic-1122-hectence/\"\n",
    "# \"https://www.fifteensquared.net/2021/05/16/independent-on-sunday-1629-hoskins/\"\n",
    "# )\n",
    "\n",
    "# List - type 2\n",
    "# source_url = (\n",
    "# \"https://www.fifteensquared.net/2021/05/20/independent-10796-by-tees/\"\n",
    "# \"https://www.fifteensquared.net/2021/05/17/financial-times-16787-by-peto/\"\n",
    "# \"https://www.fifteensquared.net/2021/06/02/guardian-28461-imogen/\"\n",
    "# \"https://www.fifteensquared.net/2021/06/01/independent-10806-by-kairos/\"\n",
    "# \"http://www.fifteensquared.net/2021/05/15/independent-10792-by-monk/\"\n",
    "# )\n",
    "\n",
    "# List - type 3\n",
    "# source_url = \"https://www.fifteensquared.net/2021/06/01/financial-times-16800-chalmie/\"\n",
    "# source_url = \"https://www.fifteensquared.net/2021/05/21/guardian-cryptic-28451-puck/\"\n",
    "# source_url = \"https://www.fifteensquared.net/2021/05/24/guardian-quiptic-1123-matilda/\"\n",
    "\n",
    "# Hihoba does hard themed puzzles, and formats their posts fairly inconsistently, depending on the theme\n",
    "# https://www.fifteensquared.net/author/hihoba/\n",
    "# source_url = \"https://www.fifteensquared.net/2021/05/18/inquisitor-1698-spooky-manifestations-by-kruger/\"\n",
    "\n",
    "# RatkojaRiku does not include clues with their posts.\n",
    "# https://www.fifteensquared.net/author/ratkojariku/\n",
    "# source_url = \"https://www.fifteensquared.net/2021/05/13/independent-10790-serpent/\"\n",
    "\n",
    "# FIXME: why does the extract_definitions fail? Not urgent\n",
    "# source_url = \"https://www.fifteensquared.net/2021/05/16/everyman-3891/\"\n",
    "\n",
    "# TODO\n",
    "# source_url = \"https://www.fifteensquared.net/2020/09/03/independent-10575-dalibor/\"\n",
    "# source_url = \"https://www.fifteensquared.net/2020/09/05/guardian-prize-28225-by-maskarade/\"\n",
    "# source_url = \"https://www.fifteensquared.net/2020/09/09/independent-10580-tees/\"\n",
    "\n",
    "response = requests.get(source_url, headers=headers)"
   ]
  },
  {
   "cell_type": "raw",
   "metadata": {
    "scrolled": true
   },
   "source": [
    "data = try_parse(response.text, source_url)\n",
    "data"
   ]
  },
  {
   "cell_type": "code",
   "execution_count": null,
   "metadata": {},
   "outputs": [],
   "source": []
  },
  {
   "cell_type": "markdown",
   "metadata": {},
   "source": [
    "## `times-xwd-times`"
   ]
  },
  {
   "cell_type": "raw",
   "metadata": {},
   "source": [
    "# Text - type 1\n",
    "# source_url = \"https://times-xwd-times.livejournal.com/2550896.html\"\n",
    "# source_url = \"https://times-xwd-times.livejournal.com/2566520.html\"\n",
    "# source_url = \"https://times-xwd-times.livejournal.com/2566074.html\"\n",
    "\n",
    "# Table - type 5\n",
    "# source_url = \"https://times-xwd-times.livejournal.com/2565866.html\"\n",
    "# source_url = \"https://times-xwd-times.livejournal.com/2558118.html\"\n",
    "# source_url = \"https://times-xwd-times.livejournal.com/2561764.html\"\n",
    "# source_url = \"https://times-xwd-times.livejournal.com/1514096.html\"\n",
    "source_url = \"https://times-xwd-times.livejournal.com/1781950.html\"\n",
    "\n",
    "# TODO: three-line\n",
    "# source_url = \"https://times-xwd-times.livejournal.com/2558684.html\"\n",
    "\n",
    "response = requests.get(source_url, headers=headers)"
   ]
  },
  {
   "cell_type": "raw",
   "metadata": {},
   "source": [
    "data = try_parse(response.text, source_url)\n",
    "data"
   ]
  },
  {
   "cell_type": "code",
   "execution_count": null,
   "metadata": {},
   "outputs": [],
   "source": []
  },
  {
   "cell_type": "markdown",
   "metadata": {},
   "source": [
    "## `bigdave44`"
   ]
  },
  {
   "cell_type": "code",
   "execution_count": 4,
   "metadata": {},
   "outputs": [
    {
     "data": {
      "application/javascript": [
       "\n",
       "            setTimeout(function() {\n",
       "                var nbb_cell_id = 4;\n",
       "                var nbb_unformatted_code = \"# With buttons\\n# source_url = \\\"http://bigdave44.com/2021/07/05/dt-29719/\\\"\\n# source_url = \\\"http://bigdave44.com/2021/07/03/ntspp-595/\\\"\\n# source_url = \\\"http://bigdave44.com/2021/07/02/toughie-2672/\\\"\\n# source_url = \\\"http://bigdave44.com/2021/07/02/dt-29717/\\\"\\n# source_url = \\\"http://bigdave44.com/2021/07/02/dt-29712/\\\"\\n# source_url = \\\"http://bigdave44.com/2021/07/01/toughie-2671/\\\"\\n# source_url = \\\"http://bigdave44.com/2021/07/01/dt-29716/\\\"\\n# source_url = \\\"http://bigdave44.com/2021/06/30/dt-29715/\\\"\\n# source_url = \\\"http://bigdave44.com/2012/12/21/dt-27050/\\\"\\n\\n# With white text in { }\\n# source_url = \\\"http://bigdave44.com/2011/09/29/toughie-641/\\\"\\nsource_url = \\\"http://bigdave44.com/2012/07/30/dt-26931/\\\"\\n\\nresponse = requests.get(source_url, headers=headers)\";\n",
       "                var nbb_formatted_code = \"# With buttons\\n# source_url = \\\"http://bigdave44.com/2021/07/05/dt-29719/\\\"\\n# source_url = \\\"http://bigdave44.com/2021/07/03/ntspp-595/\\\"\\n# source_url = \\\"http://bigdave44.com/2021/07/02/toughie-2672/\\\"\\n# source_url = \\\"http://bigdave44.com/2021/07/02/dt-29717/\\\"\\n# source_url = \\\"http://bigdave44.com/2021/07/02/dt-29712/\\\"\\n# source_url = \\\"http://bigdave44.com/2021/07/01/toughie-2671/\\\"\\n# source_url = \\\"http://bigdave44.com/2021/07/01/dt-29716/\\\"\\n# source_url = \\\"http://bigdave44.com/2021/06/30/dt-29715/\\\"\\n# source_url = \\\"http://bigdave44.com/2012/12/21/dt-27050/\\\"\\n\\n# With white text in { }\\n# source_url = \\\"http://bigdave44.com/2011/09/29/toughie-641/\\\"\\nsource_url = \\\"http://bigdave44.com/2012/07/30/dt-26931/\\\"\\n\\nresponse = requests.get(source_url, headers=headers)\";\n",
       "                var nbb_cells = Jupyter.notebook.get_cells();\n",
       "                for (var i = 0; i < nbb_cells.length; ++i) {\n",
       "                    if (nbb_cells[i].input_prompt_number == nbb_cell_id) {\n",
       "                        if (nbb_cells[i].get_text() == nbb_unformatted_code) {\n",
       "                             nbb_cells[i].set_text(nbb_formatted_code);\n",
       "                        }\n",
       "                        break;\n",
       "                    }\n",
       "                }\n",
       "            }, 500);\n",
       "            "
      ],
      "text/plain": [
       "<IPython.core.display.Javascript object>"
      ]
     },
     "metadata": {},
     "output_type": "display_data"
    }
   ],
   "source": [
    "# With buttons\n",
    "# source_url = \"http://bigdave44.com/2021/07/05/dt-29719/\"\n",
    "# source_url = \"http://bigdave44.com/2021/07/03/ntspp-595/\"\n",
    "# source_url = \"http://bigdave44.com/2021/07/02/toughie-2672/\"\n",
    "# source_url = \"http://bigdave44.com/2021/07/02/dt-29717/\"\n",
    "# source_url = \"http://bigdave44.com/2021/07/02/dt-29712/\"\n",
    "# source_url = \"http://bigdave44.com/2021/07/01/toughie-2671/\"\n",
    "# source_url = \"http://bigdave44.com/2021/07/01/dt-29716/\"\n",
    "# source_url = \"http://bigdave44.com/2021/06/30/dt-29715/\"\n",
    "# source_url = \"http://bigdave44.com/2012/12/21/dt-27050/\"\n",
    "\n",
    "# With white text in { }\n",
    "# source_url = \"http://bigdave44.com/2011/09/29/toughie-641/\"\n",
    "source_url = \"http://bigdave44.com/2012/07/30/dt-26931/\"\n",
    "# http://bigdave44.com/2009/08/11/toughie-196/\n",
    "# http://bigdave44.com/2010/11/03/toughie-452/\n",
    "# http://bigdave44.com/2010/10/15/toughie-442/\n",
    "\n",
    "response = requests.get(source_url, headers=headers)"
   ]
  },
  {
   "cell_type": "raw",
   "metadata": {},
   "source": [
    "soup = bs4.BeautifulSoup(response.text, \"html.parser\")\n",
    "asset_body = soup.find(\n",
    "    \"div\", attrs={\"class\": lambda s: s in [\"asset-body\", \"entry-content\"]}\n",
    ")\n",
    "for br in asset_body.find_all(\"br\"):\n",
    "    br.replace_with(\"\\n\")"
   ]
  },
  {
   "cell_type": "raw",
   "metadata": {},
   "source": [
    "# At least 20 underlined entries (definitions)\n",
    "20 <= len(\n",
    "    asset_body.find_all(\"u\")\n",
    "    + asset_body.find_all(\"span\", attrs={\"style\": re.compile(\"(underline|color)\")})\n",
    ")\n",
    "# At least 20 \"ANSWER - annotation\" lines\n",
    "(\n",
    "    20 <= len(yre.findall(r\"\\s+[A-Z ]+\\s*[-|—|–|:]\\s+\", asset_body.text))\n",
    "    or 20 <= len(re.findall(r\"\\s+\\{[A-Z ]+\\}\\s*\", asset_body.text))\n",
    ")\n",
    "# At least 20 \"123a clue goes here (123)\" lines\n",
    "20 <= len(re.findall(r\"\\s+[0-9]+[a|d]?\\.?\\s+.*\\([0-9, ]+\\)\", asset_body.text))"
   ]
  },
  {
   "cell_type": "code",
   "execution_count": 5,
   "metadata": {},
   "outputs": [
    {
     "data": {
      "text/plain": [
       "True"
      ]
     },
     "execution_count": 5,
     "metadata": {},
     "output_type": "execute_result"
    },
    {
     "data": {
      "application/javascript": [
       "\n",
       "            setTimeout(function() {\n",
       "                var nbb_cell_id = 5;\n",
       "                var nbb_unformatted_code = \"is_parsable_text_type_1(response.text)\";\n",
       "                var nbb_formatted_code = \"is_parsable_text_type_1(response.text)\";\n",
       "                var nbb_cells = Jupyter.notebook.get_cells();\n",
       "                for (var i = 0; i < nbb_cells.length; ++i) {\n",
       "                    if (nbb_cells[i].input_prompt_number == nbb_cell_id) {\n",
       "                        if (nbb_cells[i].get_text() == nbb_unformatted_code) {\n",
       "                             nbb_cells[i].set_text(nbb_formatted_code);\n",
       "                        }\n",
       "                        break;\n",
       "                    }\n",
       "                }\n",
       "            }, 500);\n",
       "            "
      ],
      "text/plain": [
       "<IPython.core.display.Javascript object>"
      ]
     },
     "metadata": {},
     "output_type": "display_data"
    }
   ],
   "source": [
    "is_parsable_text_type_1(response.text)"
   ]
  },
  {
   "cell_type": "code",
   "execution_count": 6,
   "metadata": {
    "scrolled": false
   },
   "outputs": [
    {
     "name": "stderr",
     "output_type": "stream",
     "text": [
      "ERROR:root:No traceback has been produced, nothing to debug.\n"
     ]
    },
    {
     "data": {
      "text/html": [
       "<div>\n",
       "<style scoped>\n",
       "    .dataframe tbody tr th:only-of-type {\n",
       "        vertical-align: middle;\n",
       "    }\n",
       "\n",
       "    .dataframe tbody tr th {\n",
       "        vertical-align: top;\n",
       "    }\n",
       "\n",
       "    .dataframe thead th {\n",
       "        text-align: right;\n",
       "    }\n",
       "</style>\n",
       "<table border=\"1\" class=\"dataframe\">\n",
       "  <thead>\n",
       "    <tr style=\"text-align: right;\">\n",
       "      <th></th>\n",
       "      <th>clue_number</th>\n",
       "      <th>clue</th>\n",
       "      <th>definition</th>\n",
       "      <th>answer</th>\n",
       "      <th>annotation</th>\n",
       "    </tr>\n",
       "  </thead>\n",
       "  <tbody>\n",
       "    <tr>\n",
       "      <th>0</th>\n",
       "      <td>1a</td>\n",
       "      <td>Superficial display is all-embracing (7)</td>\n",
       "      <td>nan</td>\n",
       "      <td>SHALLOW</td>\n",
       "      <td>A synonym for present or exhibit is placed aro...</td>\n",
       "    </tr>\n",
       "    <tr>\n",
       "      <th>1</th>\n",
       "      <td>5a</td>\n",
       "      <td>Athlete who’s out of place on the track (4-3)</td>\n",
       "      <td>nan</td>\n",
       "      <td>ALSO</td>\n",
       "      <td>RAN} – A contestant who fails to finish among ...</td>\n",
       "    </tr>\n",
       "    <tr>\n",
       "      <th>2</th>\n",
       "      <td>9a</td>\n",
       "      <td>The words of a song upset Cyril (5)</td>\n",
       "      <td>nan</td>\n",
       "      <td>LYRIC</td>\n",
       "      <td>An anagram (upset) of CYRIL</td>\n",
       "    </tr>\n",
       "    <tr>\n",
       "      <th>3</th>\n",
       "      <td>10a</td>\n",
       "      <td>Understanding the crowd (9)</td>\n",
       "      <td>nan</td>\n",
       "      <td>GATHERING</td>\n",
       "      <td>Double definition, concluding or a group of pe...</td>\n",
       "    </tr>\n",
       "    <tr>\n",
       "      <th>4</th>\n",
       "      <td>11a</td>\n",
       "      <td>The earliest literary form (10)</td>\n",
       "      <td>nan</td>\n",
       "      <td>MANUSCRIPT</td>\n",
       "      <td>A book or document written by hand</td>\n",
       "    </tr>\n",
       "    <tr>\n",
       "      <th>5</th>\n",
       "      <td>12a</td>\n",
       "      <td>A key, it is needed for opening (4)</td>\n",
       "      <td>nan</td>\n",
       "      <td>ADIT</td>\n",
       "      <td>A D (musical key) + IT is an almost horizontal...</td>\n",
       "    </tr>\n",
       "    <tr>\n",
       "      <th>6</th>\n",
       "      <td>14a</td>\n",
       "      <td>Painter calling home, possibly about start of ...</td>\n",
       "      <td>nan</td>\n",
       "      <td>MICHELANGELO</td>\n",
       "      <td>The painter of the Sistene Chapel is an anagra...</td>\n",
       "    </tr>\n",
       "    <tr>\n",
       "      <th>7</th>\n",
       "      <td>18a</td>\n",
       "      <td>Hard court service? (5,7)</td>\n",
       "      <td>nan</td>\n",
       "      <td>ROUGH JUSTICE</td>\n",
       "      <td>I suppose you are meant to think about a tenni...</td>\n",
       "    </tr>\n",
       "    <tr>\n",
       "      <th>8</th>\n",
       "      <td>21a</td>\n",
       "      <td>Institution that’s likely to make a hit (4)</td>\n",
       "      <td>nan</td>\n",
       "      <td>CLUB</td>\n",
       "      <td>Double definition, A group or association of p...</td>\n",
       "    </tr>\n",
       "    <tr>\n",
       "      <th>9</th>\n",
       "      <td>22a</td>\n",
       "      <td>Executive recruitment agent seeking a school p...</td>\n",
       "      <td>nan</td>\n",
       "      <td>HEAD HUNTER</td>\n",
       "      <td>A recruiter of personnel, especially for large...</td>\n",
       "    </tr>\n",
       "    <tr>\n",
       "      <th>10</th>\n",
       "      <td>25a</td>\n",
       "      <td>Hole in one, perhaps, for mariner’s dependant (9)</td>\n",
       "      <td>nan</td>\n",
       "      <td>ALBATROSS</td>\n",
       "      <td>A score of three strokes under par for a hole ...</td>\n",
       "    </tr>\n",
       "    <tr>\n",
       "      <th>11</th>\n",
       "      <td>26a</td>\n",
       "      <td>Unable to sleep because of an all-night party?...</td>\n",
       "      <td>nan</td>\n",
       "      <td>AWAKE</td>\n",
       "      <td>A and the sort of party that takes place over ...</td>\n",
       "    </tr>\n",
       "    <tr>\n",
       "      <th>12</th>\n",
       "      <td>27a</td>\n",
       "      <td>They reward or punish unruly priests (7)</td>\n",
       "      <td>nan</td>\n",
       "      <td>STRIPES</td>\n",
       "      <td>An anagram (unruly) of PRIESTS are also pieces...</td>\n",
       "    </tr>\n",
       "    <tr>\n",
       "      <th>13</th>\n",
       "      <td>28a</td>\n",
       "      <td>Time the bowler started? More than time! (7)</td>\n",
       "      <td>nan</td>\n",
       "      <td>OVERDUE</td>\n",
       "      <td>Time to start a new series of six balls in cri...</td>\n",
       "    </tr>\n",
       "    <tr>\n",
       "      <th>14</th>\n",
       "      <td>1d</td>\n",
       "      <td>Banger unfortunately overturned on motorway (6)</td>\n",
       "      <td>nan</td>\n",
       "      <td>SALAMI</td>\n",
       "      <td>A highly spiced Italian sausage is a reversed ...</td>\n",
       "    </tr>\n",
       "    <tr>\n",
       "      <th>15</th>\n",
       "      <td>2d</td>\n",
       "      <td>They’re used for protection, with strings atta...</td>\n",
       "      <td>nan</td>\n",
       "      <td>APRONS</td>\n",
       "      <td>A protective garment, tied around the waist, o...</td>\n",
       "    </tr>\n",
       "    <tr>\n",
       "      <th>16</th>\n",
       "      <td>3d</td>\n",
       "      <td>Key workers seen in hairdressers? (10)</td>\n",
       "      <td>nan</td>\n",
       "      <td>LOCKSMITHS</td>\n",
       "      <td>People who make or repair security devices usu...</td>\n",
       "    </tr>\n",
       "    <tr>\n",
       "      <th>17</th>\n",
       "      <td>4d</td>\n",
       "      <td>Grew agitated about a gambling venture (5)</td>\n",
       "      <td>nan</td>\n",
       "      <td>WAGER</td>\n",
       "      <td>An anagram (agitated) of GREW about A</td>\n",
       "    </tr>\n",
       "    <tr>\n",
       "      <th>18</th>\n",
       "      <td>5d</td>\n",
       "      <td>George can fly a kite unaided (9)</td>\n",
       "      <td>nan</td>\n",
       "      <td>AUTOPILOT</td>\n",
       "      <td>George is an informal name used to describe a ...</td>\n",
       "    </tr>\n",
       "    <tr>\n",
       "      <th>19</th>\n",
       "      <td>6d</td>\n",
       "      <td>Next year’s grass court player? (4)</td>\n",
       "      <td>nan</td>\n",
       "      <td>SEED</td>\n",
       "      <td>A player given a rank for Wimbledon for exampl...</td>\n",
       "    </tr>\n",
       "    <tr>\n",
       "      <th>20</th>\n",
       "      <td>7d</td>\n",
       "      <td>Check grass-raised animals (8)</td>\n",
       "      <td>nan</td>\n",
       "      <td>REINDEER</td>\n",
       "      <td>A word that means to check or hold back is fol...</td>\n",
       "    </tr>\n",
       "    <tr>\n",
       "      <th>21</th>\n",
       "      <td>8d</td>\n",
       "      <td>Antigone’s form of denial (8)</td>\n",
       "      <td>nan</td>\n",
       "      <td>NEGATION</td>\n",
       "      <td>An anagram (form) of ANTIGONE</td>\n",
       "    </tr>\n",
       "    <tr>\n",
       "      <th>22</th>\n",
       "      <td>13d</td>\n",
       "      <td>I can upset clergyman — but it’s not right (10)</td>\n",
       "      <td>nan</td>\n",
       "      <td>INACCURATE</td>\n",
       "      <td>I then a reversal (upset) of CAN which is then...</td>\n",
       "    </tr>\n",
       "    <tr>\n",
       "      <th>23</th>\n",
       "      <td>15d</td>\n",
       "      <td>Use photos to restore position of chimneys (9)</td>\n",
       "      <td>nan</td>\n",
       "      <td>HOUSETOPS</td>\n",
       "      <td>Another anagram (to restore), this time of USE...</td>\n",
       "    </tr>\n",
       "    <tr>\n",
       "      <th>24</th>\n",
       "      <td>16d</td>\n",
       "      <td>Pupils who draw on their teacher’s guidance (3,5)</td>\n",
       "      <td>nan</td>\n",
       "      <td>ART CLASS</td>\n",
       "      <td>A lesson in which you learn to draw or paint</td>\n",
       "    </tr>\n",
       "    <tr>\n",
       "      <th>25</th>\n",
       "      <td>17d</td>\n",
       "      <td>One proverbially remains cool, though often fr...</td>\n",
       "      <td>nan</td>\n",
       "      <td>CUCUMBER</td>\n",
       "      <td>Is also a cylindrical green fruit with thin gr...</td>\n",
       "    </tr>\n",
       "    <tr>\n",
       "      <th>26</th>\n",
       "      <td>19d</td>\n",
       "      <td>Leave without resources — need way to get curr...</td>\n",
       "      <td>nan</td>\n",
       "      <td>STRAND</td>\n",
       "      <td>ST (street, way) and the South African currency</td>\n",
       "    </tr>\n",
       "    <tr>\n",
       "      <th>27</th>\n",
       "      <td>20d</td>\n",
       "      <td>Economic measure makes you go cold all over (6)</td>\n",
       "      <td>nan</td>\n",
       "      <td>FREEZE</td>\n",
       "      <td>A word that can describe fixing prices or wage...</td>\n",
       "    </tr>\n",
       "    <tr>\n",
       "      <th>28</th>\n",
       "      <td>23d</td>\n",
       "      <td>Girl’s firm provides entertainment (5)</td>\n",
       "      <td>nan</td>\n",
       "      <td>DISCO</td>\n",
       "      <td>DIS (girls) and CO (firm</td>\n",
       "    </tr>\n",
       "    <tr>\n",
       "      <th>29</th>\n",
       "      <td>24d</td>\n",
       "      <td>Stage favourites’ elevation (4)</td>\n",
       "      <td>nan</td>\n",
       "      <td>STEP</td>\n",
       "      <td>One of a series of actions is also a reversed ...</td>\n",
       "    </tr>\n",
       "  </tbody>\n",
       "</table>\n",
       "</div>"
      ],
      "text/plain": [
       "   clue_number                                               clue definition  \\\n",
       "0           1a           Superficial display is all-embracing (7)        nan   \n",
       "1           5a      Athlete who’s out of place on the track (4-3)        nan   \n",
       "2           9a                The words of a song upset Cyril (5)        nan   \n",
       "3          10a                        Understanding the crowd (9)        nan   \n",
       "4          11a                    The earliest literary form (10)        nan   \n",
       "5          12a                A key, it is needed for opening (4)        nan   \n",
       "6          14a  Painter calling home, possibly about start of ...        nan   \n",
       "7          18a                          Hard court service? (5,7)        nan   \n",
       "8          21a        Institution that’s likely to make a hit (4)        nan   \n",
       "9          22a  Executive recruitment agent seeking a school p...        nan   \n",
       "10         25a  Hole in one, perhaps, for mariner’s dependant (9)        nan   \n",
       "11         26a  Unable to sleep because of an all-night party?...        nan   \n",
       "12         27a           They reward or punish unruly priests (7)        nan   \n",
       "13         28a       Time the bowler started? More than time! (7)        nan   \n",
       "14          1d    Banger unfortunately overturned on motorway (6)        nan   \n",
       "15          2d  They’re used for protection, with strings atta...        nan   \n",
       "16          3d             Key workers seen in hairdressers? (10)        nan   \n",
       "17          4d         Grew agitated about a gambling venture (5)        nan   \n",
       "18          5d                  George can fly a kite unaided (9)        nan   \n",
       "19          6d                Next year’s grass court player? (4)        nan   \n",
       "20          7d                     Check grass-raised animals (8)        nan   \n",
       "21          8d                      Antigone’s form of denial (8)        nan   \n",
       "22         13d    I can upset clergyman — but it’s not right (10)        nan   \n",
       "23         15d     Use photos to restore position of chimneys (9)        nan   \n",
       "24         16d  Pupils who draw on their teacher’s guidance (3,5)        nan   \n",
       "25         17d  One proverbially remains cool, though often fr...        nan   \n",
       "26         19d  Leave without resources — need way to get curr...        nan   \n",
       "27         20d    Economic measure makes you go cold all over (6)        nan   \n",
       "28         23d             Girl’s firm provides entertainment (5)        nan   \n",
       "29         24d                    Stage favourites’ elevation (4)        nan   \n",
       "\n",
       "           answer                                         annotation  \n",
       "0         SHALLOW  A synonym for present or exhibit is placed aro...  \n",
       "1            ALSO  RAN} – A contestant who fails to finish among ...  \n",
       "2           LYRIC                        An anagram (upset) of CYRIL  \n",
       "3       GATHERING  Double definition, concluding or a group of pe...  \n",
       "4      MANUSCRIPT                 A book or document written by hand  \n",
       "5            ADIT  A D (musical key) + IT is an almost horizontal...  \n",
       "6    MICHELANGELO  The painter of the Sistene Chapel is an anagra...  \n",
       "7   ROUGH JUSTICE  I suppose you are meant to think about a tenni...  \n",
       "8            CLUB  Double definition, A group or association of p...  \n",
       "9     HEAD HUNTER  A recruiter of personnel, especially for large...  \n",
       "10      ALBATROSS  A score of three strokes under par for a hole ...  \n",
       "11          AWAKE  A and the sort of party that takes place over ...  \n",
       "12        STRIPES  An anagram (unruly) of PRIESTS are also pieces...  \n",
       "13        OVERDUE  Time to start a new series of six balls in cri...  \n",
       "14         SALAMI  A highly spiced Italian sausage is a reversed ...  \n",
       "15         APRONS  A protective garment, tied around the waist, o...  \n",
       "16     LOCKSMITHS  People who make or repair security devices usu...  \n",
       "17          WAGER              An anagram (agitated) of GREW about A  \n",
       "18      AUTOPILOT  George is an informal name used to describe a ...  \n",
       "19           SEED  A player given a rank for Wimbledon for exampl...  \n",
       "20       REINDEER  A word that means to check or hold back is fol...  \n",
       "21       NEGATION                      An anagram (form) of ANTIGONE  \n",
       "22     INACCURATE  I then a reversal (upset) of CAN which is then...  \n",
       "23      HOUSETOPS  Another anagram (to restore), this time of USE...  \n",
       "24      ART CLASS       A lesson in which you learn to draw or paint  \n",
       "25       CUCUMBER  Is also a cylindrical green fruit with thin gr...  \n",
       "26         STRAND    ST (street, way) and the South African currency  \n",
       "27         FREEZE  A word that can describe fixing prices or wage...  \n",
       "28          DISCO                           DIS (girls) and CO (firm  \n",
       "29           STEP  One of a series of actions is also a reversed ...  "
      ]
     },
     "execution_count": 6,
     "metadata": {},
     "output_type": "execute_result"
    },
    {
     "data": {
      "application/javascript": [
       "\n",
       "            setTimeout(function() {\n",
       "                var nbb_cell_id = 6;\n",
       "                var nbb_unformatted_code = \"%debug\\nparse_text_type_1(response.text)\";\n",
       "                var nbb_formatted_code = \"%debug\\nparse_text_type_1(response.text)\";\n",
       "                var nbb_cells = Jupyter.notebook.get_cells();\n",
       "                for (var i = 0; i < nbb_cells.length; ++i) {\n",
       "                    if (nbb_cells[i].input_prompt_number == nbb_cell_id) {\n",
       "                        if (nbb_cells[i].get_text() == nbb_unformatted_code) {\n",
       "                             nbb_cells[i].set_text(nbb_formatted_code);\n",
       "                        }\n",
       "                        break;\n",
       "                    }\n",
       "                }\n",
       "            }, 500);\n",
       "            "
      ],
      "text/plain": [
       "<IPython.core.display.Javascript object>"
      ]
     },
     "metadata": {},
     "output_type": "display_data"
    }
   ],
   "source": [
    "# FIXME: look at ALSO RAN... it's been split up across the answer and annotation columns!\n",
    "%debug\n",
    "parse_text_type_1(response.text)"
   ]
  },
  {
   "cell_type": "code",
   "execution_count": null,
   "metadata": {},
   "outputs": [],
   "source": []
  },
  {
   "cell_type": "code",
   "execution_count": null,
   "metadata": {},
   "outputs": [],
   "source": []
  },
  {
   "cell_type": "code",
   "execution_count": null,
   "metadata": {},
   "outputs": [],
   "source": []
  },
  {
   "cell_type": "code",
   "execution_count": 5,
   "metadata": {
    "scrolled": false
   },
   "outputs": [
    {
     "data": {
      "application/javascript": [
       "\n",
       "            setTimeout(function() {\n",
       "                var nbb_cell_id = 5;\n",
       "                var nbb_unformatted_code = \"data = try_parse(response.text, source_url)\\ndata\";\n",
       "                var nbb_formatted_code = \"data = try_parse(response.text, source_url)\\ndata\";\n",
       "                var nbb_cells = Jupyter.notebook.get_cells();\n",
       "                for (var i = 0; i < nbb_cells.length; ++i) {\n",
       "                    if (nbb_cells[i].input_prompt_number == nbb_cell_id) {\n",
       "                        if (nbb_cells[i].get_text() == nbb_unformatted_code) {\n",
       "                             nbb_cells[i].set_text(nbb_formatted_code);\n",
       "                        }\n",
       "                        break;\n",
       "                    }\n",
       "                }\n",
       "            }, 500);\n",
       "            "
      ],
      "text/plain": [
       "<IPython.core.display.Javascript object>"
      ]
     },
     "metadata": {},
     "output_type": "display_data"
    }
   ],
   "source": [
    "data = try_parse(response.text, source_url)\n",
    "data"
   ]
  },
  {
   "cell_type": "code",
   "execution_count": null,
   "metadata": {},
   "outputs": [],
   "source": []
  },
  {
   "cell_type": "code",
   "execution_count": null,
   "metadata": {},
   "outputs": [],
   "source": []
  },
  {
   "cell_type": "code",
   "execution_count": null,
   "metadata": {},
   "outputs": [],
   "source": []
  }
 ],
 "metadata": {
  "kernelspec": {
   "display_name": "Python 3",
   "language": "python",
   "name": "python3"
  },
  "language_info": {
   "codemirror_mode": {
    "name": "ipython",
    "version": 3
   },
   "file_extension": ".py",
   "mimetype": "text/x-python",
   "name": "python",
   "nbconvert_exporter": "python",
   "pygments_lexer": "ipython3",
   "version": "3.7.6"
  }
 },
 "nbformat": 4,
 "nbformat_minor": 4
}
