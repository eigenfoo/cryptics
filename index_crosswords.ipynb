{
 "cells": [
  {
   "cell_type": "code",
   "execution_count": 1,
   "metadata": {},
   "outputs": [],
   "source": [
    "import sqlite3\n",
    "import tqdm\n",
    "from cryptic_info.parse import try_parse"
   ]
  },
  {
   "cell_type": "code",
   "execution_count": 2,
   "metadata": {},
   "outputs": [],
   "source": [
    "with sqlite3.connect(\"cryptic_info/cryptics.sqlite3\") as conn:\n",
    "    cursor = conn.cursor()\n",
    "    cursor.execute(\"SELECT url FROM raw_fifteensquared WHERE NOT is_parsed;\")\n",
    "    urls = [url for url, in cursor.fetchall()]"
   ]
  },
  {
   "cell_type": "code",
   "execution_count": null,
   "metadata": {
    "scrolled": true
   },
   "outputs": [
    {
     "name": "stderr",
     "output_type": "stream",
     "text": [
      "\r",
      "  0%|          | 0/19052 [00:00<?, ?it/s]"
     ]
    },
    {
     "name": "stdout",
     "output_type": "stream",
     "text": [
      "https://www.fifteensquared.net/2020/10/22/independent-10617-bluth/\n"
     ]
    },
    {
     "name": "stderr",
     "output_type": "stream",
     "text": [
      "\r",
      "  0%|          | 1/19052 [00:00<2:10:53,  2.43it/s]"
     ]
    },
    {
     "name": "stdout",
     "output_type": "stream",
     "text": [
      "https://www.fifteensquared.net/2021/01/05/independent-10680-wire/\n"
     ]
    },
    {
     "name": "stderr",
     "output_type": "stream",
     "text": [
      "\r",
      "  0%|          | 2/19052 [00:00<1:47:07,  2.96it/s]"
     ]
    },
    {
     "name": "stdout",
     "output_type": "stream",
     "text": [
      "https://www.fifteensquared.net/2021/04/26/guardian-cryptic-28429-by-matilda/\n",
      "Parsing using parse_table_type_1\n"
     ]
    },
    {
     "name": "stderr",
     "output_type": "stream",
     "text": [
      "\r",
      "  0%|          | 3/19052 [00:01<1:53:10,  2.81it/s]"
     ]
    },
    {
     "name": "stdout",
     "output_type": "stream",
     "text": [
      "https://www.fifteensquared.net/2021/04/29/independent-10778-by-serpent/\n",
      "Parsing using parse_table_type_1\n"
     ]
    },
    {
     "name": "stderr",
     "output_type": "stream",
     "text": [
      "\r",
      "  0%|          | 4/19052 [00:01<1:46:17,  2.99it/s]"
     ]
    },
    {
     "name": "stdout",
     "output_type": "stream",
     "text": [
      "https://www.fifteensquared.net/2021/05/11/guardian-28442-brummie/\n",
      "Parsing using parse_list_type_1\n"
     ]
    },
    {
     "name": "stderr",
     "output_type": "stream",
     "text": [
      "\r",
      "  0%|          | 5/19052 [00:01<2:14:48,  2.35it/s]"
     ]
    },
    {
     "name": "stdout",
     "output_type": "stream",
     "text": [
      "https://www.fifteensquared.net/2020/12/15/inquisitor-1676-hands-across-the-sea-by-ifor/\n"
     ]
    },
    {
     "name": "stderr",
     "output_type": "stream",
     "text": [
      "\r",
      "  0%|          | 6/19052 [00:02<1:58:30,  2.68it/s]"
     ]
    },
    {
     "name": "stdout",
     "output_type": "stream",
     "text": [
      "https://www.fifteensquared.net/2021/05/26/financial-times-16795-by-artexlen/\n",
      "Parsing using parse_table_type_1\n"
     ]
    },
    {
     "name": "stderr",
     "output_type": "stream",
     "text": [
      "\r",
      "  0%|          | 7/19052 [00:02<1:46:17,  2.99it/s]"
     ]
    },
    {
     "name": "stdout",
     "output_type": "stream",
     "text": [
      "https://www.fifteensquared.net/2021/06/04/independent-10609-phi/\n"
     ]
    },
    {
     "name": "stderr",
     "output_type": "stream",
     "text": [
      "  0%|          | 9/19052 [00:02<1:30:43,  3.50it/s]"
     ]
    },
    {
     "name": "stdout",
     "output_type": "stream",
     "text": [
      "https://www.fifteensquared.net/2020/12/24/financial-times-16669-by-io/\n",
      "Parsing using parse_table_type_1\n",
      "https://www.fifteensquared.net/2021/06/17/financial-times-16804-by-mudd/\n"
     ]
    },
    {
     "name": "stderr",
     "output_type": "stream",
     "text": [
      "\r",
      "  0%|          | 10/19052 [00:03<1:21:53,  3.88it/s]"
     ]
    },
    {
     "name": "stdout",
     "output_type": "stream",
     "text": [
      "Parsing using parse_table_type_1\n",
      "https://www.fifteensquared.net/2021/04/29/financial-times-16772-by-julius/\n"
     ]
    },
    {
     "name": "stderr",
     "output_type": "stream",
     "text": [
      "\r",
      "  0%|          | 11/19052 [00:03<1:19:45,  3.98it/s]"
     ]
    },
    {
     "name": "stdout",
     "output_type": "stream",
     "text": [
      "Parsing using parse_table_type_1\n",
      "https://www.fifteensquared.net/2020/12/31/guardian-cryptic-28330-by-paul/\n",
      "Parsing using parse_table_type_1\n"
     ]
    },
    {
     "name": "stderr",
     "output_type": "stream",
     "text": [
      "\r",
      "  0%|          | 12/19052 [00:03<1:35:13,  3.33it/s]"
     ]
    },
    {
     "name": "stdout",
     "output_type": "stream",
     "text": [
      "https://www.fifteensquared.net/2020/12/10/independent-10659-by-klingsor/\n",
      "Parsing using parse_table_type_1\n"
     ]
    },
    {
     "name": "stderr",
     "output_type": "stream",
     "text": [
      "\r",
      "  0%|          | 13/19052 [00:04<1:26:27,  3.67it/s]"
     ]
    },
    {
     "name": "stdout",
     "output_type": "stream",
     "text": [
      "https://www.fifteensquared.net/2021/05/20/guardian-cryptic-28450-by-maskarade/\n",
      "Parsing using parse_table_type_1\n"
     ]
    },
    {
     "name": "stderr",
     "output_type": "stream",
     "text": [
      "\r",
      "  0%|          | 14/19052 [00:04<1:32:07,  3.44it/s]"
     ]
    },
    {
     "name": "stdout",
     "output_type": "stream",
     "text": [
      "https://www.fifteensquared.net/2020/11/27/guardian-cryptic-28302-pasquale/\n",
      "Parsing using parse_list_type_3\n"
     ]
    },
    {
     "name": "stderr",
     "output_type": "stream",
     "text": [
      "  0%|          | 16/19052 [00:05<1:59:14,  2.66it/s]"
     ]
    },
    {
     "name": "stdout",
     "output_type": "stream",
     "text": [
      "https://www.fifteensquared.net/2021/06/02/independent-10807-by-tees/\n",
      "Parsing using parse_table_type_1\n",
      "https://www.fifteensquared.net/2021/02/09/inquisitor-1684-frustration-by-skylark/\n"
     ]
    },
    {
     "name": "stderr",
     "output_type": "stream",
     "text": [
      "\r",
      "  0%|          | 17/19052 [00:05<1:58:46,  2.67it/s]"
     ]
    },
    {
     "name": "stdout",
     "output_type": "stream",
     "text": [
      "https://www.fifteensquared.net/2020/09/20/everyman-3857/\n",
      "Parsing using parse_table_type_1\n"
     ]
    },
    {
     "name": "stderr",
     "output_type": "stream",
     "text": [
      "\r",
      "  0%|          | 18/19052 [00:06<1:47:07,  2.96it/s]"
     ]
    },
    {
     "name": "stdout",
     "output_type": "stream",
     "text": [
      "https://www.fifteensquared.net/2020/11/30/guardian-cryptic-28304-by-pan/\n",
      "Parsing using parse_table_type_1\n",
      "https://www.fifteensquared.net/2021/01/27/financial-times-16694-by-gozo/\n",
      "Parsing using parse_table_type_1\n"
     ]
    },
    {
     "name": "stderr",
     "output_type": "stream",
     "text": [
      "\r",
      "  0%|          | 20/19052 [00:06<1:19:02,  4.01it/s]"
     ]
    },
    {
     "name": "stdout",
     "output_type": "stream",
     "text": [
      "https://www.fifteensquared.net/2021/04/13/inquisitor-1693-culprit-by-poat/\n"
     ]
    },
    {
     "name": "stderr",
     "output_type": "stream",
     "text": [
      "  0%|          | 22/19052 [00:07<1:28:47,  3.57it/s]"
     ]
    },
    {
     "name": "stdout",
     "output_type": "stream",
     "text": [
      "https://www.fifteensquared.net/2021/06/03/guardian-cryptic-28462-by-picaroon/\n",
      "Parsing using parse_table_type_1\n",
      "https://www.fifteensquared.net/2021/05/04/guardian-cryptic-28436-by-carpathian/\n",
      "Parsing using parse_table_type_1\n"
     ]
    },
    {
     "name": "stderr",
     "output_type": "stream",
     "text": [
      "\r",
      "  0%|          | 23/19052 [00:07<1:31:25,  3.47it/s]"
     ]
    },
    {
     "name": "stdout",
     "output_type": "stream",
     "text": [
      "https://www.fifteensquared.net/2021/01/10/everyman-3873/\n",
      "Parsing using parse_table_type_1\n"
     ]
    },
    {
     "name": "stderr",
     "output_type": "stream",
     "text": [
      "\r",
      "  0%|          | 24/19052 [00:07<1:26:58,  3.65it/s]"
     ]
    },
    {
     "name": "stdout",
     "output_type": "stream",
     "text": [
      "https://www.fifteensquared.net/2021/06/07/guardian-28465-vulcan/\n",
      "Parsing using parse_list_type_1\n"
     ]
    },
    {
     "name": "stderr",
     "output_type": "stream",
     "text": [
      "\r",
      "  0%|          | 25/19052 [00:07<1:39:52,  3.18it/s]"
     ]
    },
    {
     "name": "stdout",
     "output_type": "stream",
     "text": [
      "https://www.fifteensquared.net/2021/01/21/enigmatic-variations-no-1469-its-a-funny-old-game-by-gaston/\n"
     ]
    },
    {
     "name": "stderr",
     "output_type": "stream",
     "text": [
      "\r",
      "  0%|          | 26/19052 [00:08<1:38:21,  3.22it/s]"
     ]
    },
    {
     "name": "stdout",
     "output_type": "stream",
     "text": [
      "https://www.fifteensquared.net/2021/01/08/financial-times-16678-by-bradman/\n",
      "Parsing using parse_table_type_1\n"
     ]
    },
    {
     "name": "stderr",
     "output_type": "stream",
     "text": [
      "\r",
      "  0%|          | 27/19052 [00:08<1:28:22,  3.59it/s]"
     ]
    },
    {
     "name": "stdout",
     "output_type": "stream",
     "text": [
      "https://www.fifteensquared.net/2020/12/23/guardian-cryptic-28324-by-crucible/\n",
      "Parsing using parse_table_type_1\n"
     ]
    },
    {
     "name": "stderr",
     "output_type": "stream",
     "text": [
      "  0%|          | 29/19052 [00:09<1:23:32,  3.80it/s]"
     ]
    },
    {
     "name": "stdout",
     "output_type": "stream",
     "text": [
      "https://www.fifteensquared.net/2021/04/26/cyclops-700-crossword-fiend/\n",
      "Parsing using parse_table_type_3\n",
      "https://www.fifteensquared.net/2021/05/20/independent-10796-by-tees/\n"
     ]
    },
    {
     "name": "stderr",
     "output_type": "stream",
     "text": [
      "\r",
      "  0%|          | 30/19052 [00:09<1:38:08,  3.23it/s]"
     ]
    },
    {
     "name": "stdout",
     "output_type": "stream",
     "text": [
      "Parsing using parse_list_type_2\n",
      "https://www.fifteensquared.net/2021/02/25/guardian-28378-tramp/\n",
      "Parsing using parse_table_type_2\n"
     ]
    },
    {
     "name": "stderr",
     "output_type": "stream",
     "text": [
      "/Users/george/cryptic-info/cryptic_info/tables.py:197: SettingWithCopyWarning: \n",
      "A value is trying to be set on a copy of a slice from a DataFrame.\n",
      "Try using .loc[row_indexer,col_indexer] = value instead\n",
      "\n",
      "See the caveats in the documentation: https://pandas.pydata.org/pandas-docs/stable/user_guide/indexing.html#returning-a-view-versus-a-copy\n",
      "  table.iloc[across_index + 1 : down_index][\"clue_number\"] += \"a\"\n",
      "/Users/george/cryptic-info/cryptic_info/tables.py:198: SettingWithCopyWarning: \n",
      "A value is trying to be set on a copy of a slice from a DataFrame.\n",
      "Try using .loc[row_indexer,col_indexer] = value instead\n",
      "\n",
      "See the caveats in the documentation: https://pandas.pydata.org/pandas-docs/stable/user_guide/indexing.html#returning-a-view-versus-a-copy\n",
      "  table.iloc[down_index + 1 :][\"clue_number\"] += \"d\"\n",
      "\r",
      "  0%|          | 31/19052 [00:09<1:43:01,  3.08it/s]"
     ]
    },
    {
     "name": "stdout",
     "output_type": "stream",
     "text": [
      "https://www.fifteensquared.net/2021/02/13/independent-10714-by-monk/\n"
     ]
    },
    {
     "name": "stderr",
     "output_type": "stream",
     "text": [
      "\r",
      "  0%|          | 32/19052 [00:10<1:32:16,  3.44it/s]"
     ]
    },
    {
     "name": "stdout",
     "output_type": "stream",
     "text": [
      "https://www.fifteensquared.net/2021/02/20/guardian-28368-philistine/\n"
     ]
    },
    {
     "name": "stderr",
     "output_type": "stream",
     "text": [
      "\r",
      "  0%|          | 33/19052 [00:10<1:41:38,  3.12it/s]"
     ]
    },
    {
     "name": "stdout",
     "output_type": "stream",
     "text": [
      "https://www.fifteensquared.net/2020/10/02/financial-times-16597-by-neo/\n",
      "Parsing using parse_table_type_1\n"
     ]
    },
    {
     "name": "stderr",
     "output_type": "stream",
     "text": [
      "\r",
      "  0%|          | 34/19052 [00:10<1:30:35,  3.50it/s]"
     ]
    },
    {
     "name": "stdout",
     "output_type": "stream",
     "text": [
      "https://www.fifteensquared.net/2021/05/02/guardian-genius-214-by-puck/\n"
     ]
    },
    {
     "name": "stderr",
     "output_type": "stream",
     "text": [
      "\r",
      "  0%|          | 35/19052 [00:10<1:30:44,  3.49it/s]"
     ]
    },
    {
     "name": "stdout",
     "output_type": "stream",
     "text": [
      "https://www.fifteensquared.net/2021/04/13/guardian-cryptic-28418-by-picaroon/\n",
      "Parsing using parse_table_type_1\n"
     ]
    },
    {
     "name": "stderr",
     "output_type": "stream",
     "text": [
      "\r",
      "  0%|          | 36/19052 [00:11<1:37:00,  3.27it/s]"
     ]
    },
    {
     "name": "stdout",
     "output_type": "stream",
     "text": [
      "https://www.fifteensquared.net/2020/11/09/independent-10632-by-poins/\n",
      "Parsing using parse_table_type_1\n"
     ]
    },
    {
     "name": "stderr",
     "output_type": "stream",
     "text": [
      "\r",
      "  0%|          | 37/19052 [00:11<1:33:37,  3.38it/s]"
     ]
    },
    {
     "name": "stdout",
     "output_type": "stream",
     "text": [
      "https://www.fifteensquared.net/2020/10/20/guardian-cryptic-28269-by-brummie/\n",
      "Parsing using parse_table_type_1\n"
     ]
    },
    {
     "name": "stderr",
     "output_type": "stream",
     "text": [
      "  0%|          | 39/19052 [00:11<1:22:22,  3.85it/s]"
     ]
    },
    {
     "name": "stdout",
     "output_type": "stream",
     "text": [
      "https://www.fifteensquared.net/2020/10/13/financial-times-16606-by-flimsy/\n",
      "Parsing using parse_table_type_1\n",
      "https://www.fifteensquared.net/2021/02/02/independent-10704-alchemi/\n"
     ]
    },
    {
     "name": "stderr",
     "output_type": "stream",
     "text": [
      "\r",
      "  0%|          | 40/19052 [00:12<1:26:39,  3.66it/s]"
     ]
    },
    {
     "name": "stdout",
     "output_type": "stream",
     "text": [
      "https://www.fifteensquared.net/2021/04/15/independent-10766-tees/\n"
     ]
    },
    {
     "name": "stderr",
     "output_type": "stream",
     "text": [
      "\r",
      "  0%|          | 41/19052 [00:12<1:39:36,  3.18it/s]"
     ]
    },
    {
     "name": "stdout",
     "output_type": "stream",
     "text": [
      "https://www.fifteensquared.net/2021/02/11/enigmatic-variations-no-1472-test-match-by-ploy/\n"
     ]
    },
    {
     "name": "stderr",
     "output_type": "stream",
     "text": [
      "\r",
      "  0%|          | 42/19052 [00:13<1:50:29,  2.87it/s]"
     ]
    },
    {
     "name": "stdout",
     "output_type": "stream",
     "text": [
      "https://www.fifteensquared.net/2021/02/22/guardian-quiptic-1110-anto/\n",
      "Parsing using parse_list_type_1\n"
     ]
    },
    {
     "name": "stderr",
     "output_type": "stream",
     "text": [
      "  0%|          | 44/19052 [00:13<1:33:52,  3.37it/s]"
     ]
    },
    {
     "name": "stdout",
     "output_type": "stream",
     "text": [
      "https://www.fifteensquared.net/2021/01/14/financial-times-16673-by-mudd/\n",
      "Parsing using parse_table_type_1\n",
      "https://www.fifteensquared.net/2020/09/28/financial-times-16593-by-zamorca/\n"
     ]
    },
    {
     "name": "stderr",
     "output_type": "stream",
     "text": [
      "\r",
      "  0%|          | 45/19052 [00:13<1:36:09,  3.29it/s]"
     ]
    },
    {
     "name": "stdout",
     "output_type": "stream",
     "text": [
      "Parsing using parse_list_type_2\n",
      "https://www.fifteensquared.net/2021/03/21/independent-on-sunday-1621-tees/\n"
     ]
    },
    {
     "name": "stderr",
     "output_type": "stream",
     "text": [
      "\r",
      "  0%|          | 46/19052 [00:14<1:29:35,  3.54it/s]"
     ]
    },
    {
     "name": "stdout",
     "output_type": "stream",
     "text": [
      "Parsing using parse_list_type_1\n",
      "https://www.fifteensquared.net/2021/01/26/financial-times-16693-by-sleuth/\n",
      "Parsing using parse_table_type_1\n"
     ]
    },
    {
     "name": "stderr",
     "output_type": "stream",
     "text": [
      "\r",
      "  0%|          | 47/19052 [00:14<1:20:28,  3.94it/s]"
     ]
    },
    {
     "name": "stdout",
     "output_type": "stream",
     "text": [
      "https://www.fifteensquared.net/2021/04/05/financial-times-16751-by-zamorca/\n",
      "Parsing using parse_list_type_2\n"
     ]
    },
    {
     "name": "stderr",
     "output_type": "stream",
     "text": [
      "\r",
      "  0%|          | 48/19052 [00:14<1:24:01,  3.77it/s]"
     ]
    },
    {
     "name": "stdout",
     "output_type": "stream",
     "text": [
      "https://www.fifteensquared.net/2021/01/08/independent-10683-phi/\n"
     ]
    },
    {
     "name": "stderr",
     "output_type": "stream",
     "text": [
      "  0%|          | 50/19052 [00:15<1:24:33,  3.75it/s]"
     ]
    },
    {
     "name": "stdout",
     "output_type": "stream",
     "text": [
      "https://www.fifteensquared.net/2021/04/29/financial-times-16762-by-goliath/\n",
      "Parsing using parse_table_type_1\n",
      "https://www.fifteensquared.net/2021/04/05/guardian-quiptic-1116-philistine/\n"
     ]
    },
    {
     "name": "stderr",
     "output_type": "stream",
     "text": [
      "\r",
      "  0%|          | 51/19052 [00:15<1:33:00,  3.41it/s]"
     ]
    },
    {
     "name": "stdout",
     "output_type": "stream",
     "text": [
      "Parsing using parse_list_type_1\n",
      "https://www.fifteensquared.net/2021/05/31/financial-times-16799-by-falcon/\n"
     ]
    },
    {
     "name": "stderr",
     "output_type": "stream",
     "text": [
      "\r",
      "  0%|          | 52/19052 [00:15<1:41:15,  3.13it/s]"
     ]
    },
    {
     "name": "stdout",
     "output_type": "stream",
     "text": [
      "Parsing using parse_list_type_2\n",
      "https://www.fifteensquared.net/2020/10/14/guardian-cryptic-28264-by-picaroon/\n",
      "Parsing using parse_table_type_1\n"
     ]
    },
    {
     "name": "stderr",
     "output_type": "stream",
     "text": [
      "\r",
      "  0%|          | 53/19052 [00:16<1:37:45,  3.24it/s]"
     ]
    },
    {
     "name": "stdout",
     "output_type": "stream",
     "text": [
      "https://www.fifteensquared.net/2021/01/03/guardian-genius-no-210-by-soup/\n"
     ]
    },
    {
     "name": "stderr",
     "output_type": "stream",
     "text": [
      "\r",
      "  0%|          | 54/19052 [00:16<1:43:47,  3.05it/s]"
     ]
    },
    {
     "name": "stdout",
     "output_type": "stream",
     "text": [
      "Parsing using parse_list_type_2\n",
      "https://www.fifteensquared.net/2021/02/02/financial-times-16699-by-buccaneer/\n",
      "Parsing using parse_table_type_1\n"
     ]
    },
    {
     "name": "stderr",
     "output_type": "stream",
     "text": [
      "\r",
      "  0%|          | 55/19052 [00:16<1:34:03,  3.37it/s]"
     ]
    },
    {
     "name": "stdout",
     "output_type": "stream",
     "text": [
      "https://www.fifteensquared.net/2020/12/07/independent-10656-by-alchemi/\n",
      "Parsing using parse_table_type_1\n"
     ]
    },
    {
     "name": "stderr",
     "output_type": "stream",
     "text": [
      "\r",
      "  0%|          | 56/19052 [00:17<1:31:03,  3.48it/s]"
     ]
    },
    {
     "name": "stdout",
     "output_type": "stream",
     "text": [
      "https://www.fifteensquared.net/2020/11/05/enigmatic-variations-no-1458-cover-story-by-gaston/\n"
     ]
    },
    {
     "name": "stderr",
     "output_type": "stream",
     "text": [
      "\r",
      "  0%|          | 57/19052 [00:17<1:36:00,  3.30it/s]"
     ]
    },
    {
     "name": "stdout",
     "output_type": "stream",
     "text": [
      "https://www.fifteensquared.net/2021/04/12/private-eye-cyclops-699-protocol-breach/\n"
     ]
    },
    {
     "name": "stderr",
     "output_type": "stream",
     "text": [
      "\r",
      "  0%|          | 58/19052 [00:17<1:33:33,  3.38it/s]"
     ]
    },
    {
     "name": "stdout",
     "output_type": "stream",
     "text": [
      "https://www.fifteensquared.net/2020/10/29/financial-times-16610-by-chalmie/\n",
      "Parsing using parse_table_type_1\n"
     ]
    },
    {
     "name": "stderr",
     "output_type": "stream",
     "text": [
      "\r",
      "  0%|          | 59/19052 [00:17<1:25:50,  3.69it/s]"
     ]
    },
    {
     "name": "stdout",
     "output_type": "stream",
     "text": [
      "https://www.fifteensquared.net/2021/04/22/independent-10772-by-mev/\n"
     ]
    },
    {
     "name": "stderr",
     "output_type": "stream",
     "text": [
      "\r",
      "  0%|          | 60/19052 [00:18<1:40:39,  3.14it/s]"
     ]
    },
    {
     "name": "stdout",
     "output_type": "stream",
     "text": [
      "Parsing using parse_list_type_2\n",
      "https://www.fifteensquared.net/2021/03/13/guardian-prize-28386-by-picaroon/\n",
      "Parsing using parse_table_type_1\n"
     ]
    },
    {
     "name": "stderr",
     "output_type": "stream",
     "text": [
      "\r",
      "  0%|          | 61/19052 [00:18<1:36:56,  3.26it/s]"
     ]
    },
    {
     "name": "stdout",
     "output_type": "stream",
     "text": [
      "https://www.fifteensquared.net/2020/09/24/independent-10593-hob/\n"
     ]
    },
    {
     "name": "stderr",
     "output_type": "stream",
     "text": [
      "\r",
      "  0%|          | 62/19052 [00:18<1:39:37,  3.18it/s]"
     ]
    },
    {
     "name": "stdout",
     "output_type": "stream",
     "text": [
      "https://www.fifteensquared.net/2020/12/18/guardian-cryptic-28320-by-paul/\n",
      "Parsing using parse_table_type_1\n"
     ]
    },
    {
     "name": "stderr",
     "output_type": "stream",
     "text": [
      "\r",
      "  0%|          | 63/19052 [00:19<1:39:21,  3.19it/s]"
     ]
    },
    {
     "name": "stdout",
     "output_type": "stream",
     "text": [
      "https://www.fifteensquared.net/2020/09/21/guardian-cryptic-28244-by-vulcan/\n",
      "Parsing using parse_table_type_1\n"
     ]
    },
    {
     "name": "stderr",
     "output_type": "stream",
     "text": [
      "\r",
      "  0%|          | 64/19052 [00:19<1:41:40,  3.11it/s]"
     ]
    },
    {
     "name": "stdout",
     "output_type": "stream",
     "text": [
      "https://www.fifteensquared.net/2020/12/09/independent-10658-by-eccles/\n"
     ]
    },
    {
     "name": "stderr",
     "output_type": "stream",
     "text": [
      "\r",
      "  0%|          | 65/19052 [00:19<1:42:56,  3.07it/s]"
     ]
    },
    {
     "name": "stdout",
     "output_type": "stream",
     "text": [
      "Parsing using parse_list_type_2\n",
      "https://www.fifteensquared.net/2021/03/26/independent-10749-by-phi/\n",
      "Parsing using parse_table_type_1\n"
     ]
    },
    {
     "name": "stderr",
     "output_type": "stream",
     "text": [
      "\r",
      "  0%|          | 66/19052 [00:20<1:31:30,  3.46it/s]"
     ]
    },
    {
     "name": "stdout",
     "output_type": "stream",
     "text": [
      "https://www.fifteensquared.net/2020/12/03/guardian-28307-imogen/\n",
      "Parsing using parse_list_type_1\n"
     ]
    },
    {
     "name": "stderr",
     "output_type": "stream",
     "text": [
      "\r",
      "  0%|          | 67/19052 [00:20<2:05:54,  2.51it/s]"
     ]
    },
    {
     "name": "stdout",
     "output_type": "stream",
     "text": [
      "https://www.fifteensquared.net/2020/10/19/financial-times-16611-by-slormgorm/\n",
      "Parsing using parse_list_type_2\n"
     ]
    },
    {
     "name": "stderr",
     "output_type": "stream",
     "text": [
      "  0%|          | 69/19052 [00:21<1:34:48,  3.34it/s]"
     ]
    },
    {
     "name": "stdout",
     "output_type": "stream",
     "text": [
      "https://www.fifteensquared.net/2021/02/11/financial-times-16697-by-mudd/\n",
      "Parsing using parse_table_type_1\n",
      "https://www.fifteensquared.net/2021/03/29/guardian-quiptic-1115-pan/\n"
     ]
    },
    {
     "name": "stderr",
     "output_type": "stream",
     "text": [
      "\r",
      "  0%|          | 70/19052 [00:21<1:26:59,  3.64it/s]"
     ]
    },
    {
     "name": "stdout",
     "output_type": "stream",
     "text": [
      "https://www.fifteensquared.net/2021/02/04/enigmatic-variations-no-1471-whats-earned-by-jaques/\n"
     ]
    },
    {
     "name": "stderr",
     "output_type": "stream",
     "text": [
      "  0%|          | 72/19052 [00:22<1:24:17,  3.75it/s]"
     ]
    },
    {
     "name": "stdout",
     "output_type": "stream",
     "text": [
      "https://www.fifteensquared.net/2020/12/08/financial-times-16654-by-hamilton/\n",
      "Parsing using parse_table_type_1\n",
      "https://www.fifteensquared.net/2021/05/14/independent-10791-by-bluth/\n"
     ]
    },
    {
     "name": "stderr",
     "output_type": "stream",
     "text": [
      "\r",
      "  0%|          | 73/19052 [00:22<1:28:52,  3.56it/s]"
     ]
    },
    {
     "name": "stdout",
     "output_type": "stream",
     "text": [
      "Parsing using parse_list_type_2\n",
      "https://www.fifteensquared.net/2020/11/10/financial-times-16630-by-jason/\n",
      "Parsing using parse_table_type_1\n"
     ]
    },
    {
     "name": "stderr",
     "output_type": "stream",
     "text": [
      "\r",
      "  0%|          | 74/19052 [00:22<1:19:00,  4.00it/s]"
     ]
    },
    {
     "name": "stdout",
     "output_type": "stream",
     "text": [
      "https://www.fifteensquared.net/2021/04/07/guardian-cryptic-28413-by-brummie/\n",
      "Parsing using parse_table_type_1\n"
     ]
    },
    {
     "name": "stderr",
     "output_type": "stream",
     "text": [
      "  0%|          | 76/19052 [00:23<1:19:27,  3.98it/s]"
     ]
    },
    {
     "name": "stdout",
     "output_type": "stream",
     "text": [
      "https://www.fifteensquared.net/2021/04/23/financial-times-16767-by-bradman/\n",
      "Parsing using parse_table_type_1\n",
      "https://www.fifteensquared.net/2020/10/22/enigmatic-variations-no-1456-villains-by-stick-insect/\n"
     ]
    },
    {
     "name": "stderr",
     "output_type": "stream",
     "text": [
      "\r",
      "  0%|          | 77/19052 [00:23<1:28:50,  3.56it/s]"
     ]
    },
    {
     "name": "stdout",
     "output_type": "stream",
     "text": [
      "https://www.fifteensquared.net/2020/10/23/independent-10518-phi/\n"
     ]
    },
    {
     "name": "stderr",
     "output_type": "stream",
     "text": [
      "\r",
      "  0%|          | 78/19052 [00:23<1:29:26,  3.54it/s]"
     ]
    },
    {
     "name": "stdout",
     "output_type": "stream",
     "text": [
      "https://www.fifteensquared.net/2020/12/13/everyman-3869/\n",
      "Parsing using parse_table_type_1\n"
     ]
    },
    {
     "name": "stderr",
     "output_type": "stream",
     "text": [
      "  0%|          | 80/19052 [00:24<1:16:36,  4.13it/s]"
     ]
    },
    {
     "name": "stdout",
     "output_type": "stream",
     "text": [
      "https://www.fifteensquared.net/2021/01/31/guardian-genius-no-211-by-chameleon/\n",
      "Parsing using parse_table_type_1\n",
      "https://www.fifteensquared.net/2021/04/15/financial-times-16760-by-moo/\n"
     ]
    },
    {
     "name": "stderr",
     "output_type": "stream",
     "text": [
      "\r",
      "  0%|          | 81/19052 [00:24<1:12:41,  4.35it/s]"
     ]
    },
    {
     "name": "stdout",
     "output_type": "stream",
     "text": [
      "Parsing using parse_table_type_1\n",
      "https://www.fifteensquared.net/2021/06/04/guardian-28463-paul/\n",
      "Parsing using parse_list_type_1\n"
     ]
    },
    {
     "name": "stderr",
     "output_type": "stream",
     "text": [
      "  0%|          | 83/19052 [00:25<1:35:32,  3.31it/s]"
     ]
    },
    {
     "name": "stdout",
     "output_type": "stream",
     "text": [
      "https://www.fifteensquared.net/2020/10/07/financial-times-16601-by-basilisk/\n",
      "Parsing using parse_table_type_1\n",
      "https://www.fifteensquared.net/2020/12/28/independent-10673-by-vernon/\n"
     ]
    },
    {
     "name": "stderr",
     "output_type": "stream",
     "text": [
      "\r",
      "  0%|          | 84/19052 [00:25<1:27:25,  3.62it/s]"
     ]
    },
    {
     "name": "stdout",
     "output_type": "stream",
     "text": [
      "Parsing using parse_table_type_1\n",
      "https://www.fifteensquared.net/2021/05/03/independent-10781-by-skinny/\n"
     ]
    },
    {
     "name": "stderr",
     "output_type": "stream",
     "text": [
      "\r",
      "  0%|          | 85/19052 [00:25<1:20:40,  3.92it/s]"
     ]
    },
    {
     "name": "stdout",
     "output_type": "stream",
     "text": [
      "Parsing using parse_table_type_1\n",
      "https://www.fifteensquared.net/2021/03/29/independent-10751-angel/\n"
     ]
    },
    {
     "name": "stderr",
     "output_type": "stream",
     "text": [
      "\r",
      "  0%|          | 86/19052 [00:25<1:27:27,  3.61it/s]"
     ]
    },
    {
     "name": "stdout",
     "output_type": "stream",
     "text": [
      "Parsing using parse_list_type_1\n",
      "https://www.fifteensquared.net/2021/04/27/financial-times-16770-by-hamilton/\n"
     ]
    },
    {
     "name": "stderr",
     "output_type": "stream",
     "text": [
      "\r",
      "  0%|          | 87/19052 [00:26<1:19:10,  3.99it/s]"
     ]
    },
    {
     "name": "stdout",
     "output_type": "stream",
     "text": [
      "Parsing using parse_table_type_1\n",
      "https://www.fifteensquared.net/2021/04/30/guardian-28433-paul/\n",
      "Parsing using parse_list_type_1\n"
     ]
    },
    {
     "name": "stderr",
     "output_type": "stream",
     "text": [
      "\r",
      "  0%|          | 88/19052 [00:26<1:43:04,  3.07it/s]"
     ]
    },
    {
     "name": "stdout",
     "output_type": "stream",
     "text": [
      "https://www.fifteensquared.net/2020/12/24/guardian-cryptic-28325-paul/\n",
      "Parsing using parse_list_type_3\n"
     ]
    },
    {
     "name": "stderr",
     "output_type": "stream",
     "text": [
      "  0%|          | 90/19052 [00:27<2:02:22,  2.58it/s]"
     ]
    },
    {
     "name": "stdout",
     "output_type": "stream",
     "text": [
      "https://www.fifteensquared.net/2021/02/06/independent-10708-by-wiglaf-saturday-puzzle-6-february-2021/\n",
      "Parsing using parse_table_type_3\n",
      "https://www.fifteensquared.net/2021/04/27/independent-10776-hob/\n"
     ]
    },
    {
     "name": "stderr",
     "output_type": "stream",
     "text": [
      "\r",
      "  0%|          | 91/19052 [00:27<2:01:35,  2.60it/s]"
     ]
    },
    {
     "name": "stdout",
     "output_type": "stream",
     "text": [
      "https://www.fifteensquared.net/2020/11/19/enigmatic-variations-no-1460-a-human-connection-by-ranunculus/\n"
     ]
    },
    {
     "name": "stderr",
     "output_type": "stream",
     "text": [
      "\r",
      "  0%|          | 92/19052 [00:28<2:02:11,  2.59it/s]"
     ]
    },
    {
     "name": "stdout",
     "output_type": "stream",
     "text": [
      "https://www.fifteensquared.net/2020/12/10/enigmatic-variations-no-1463-drawing-parallels-by-kcit/\n"
     ]
    },
    {
     "name": "stderr",
     "output_type": "stream",
     "text": [
      "\r",
      "  0%|          | 93/19052 [00:28<2:04:07,  2.55it/s]"
     ]
    },
    {
     "name": "stdout",
     "output_type": "stream",
     "text": [
      "https://www.fifteensquared.net/2021/02/01/financial-times-16698-by-slormgorm/\n"
     ]
    },
    {
     "name": "stderr",
     "output_type": "stream",
     "text": [
      "\r",
      "  0%|          | 94/19052 [00:29<1:55:55,  2.73it/s]"
     ]
    },
    {
     "name": "stdout",
     "output_type": "stream",
     "text": [
      "Parsing using parse_list_type_2\n",
      "https://www.fifteensquared.net/2021/06/21/cyclops-704-regimental-quarantine/\n",
      "Parsing using parse_table_type_3\n"
     ]
    },
    {
     "name": "stderr",
     "output_type": "stream",
     "text": [
      "\r",
      "  0%|          | 95/19052 [00:29<1:41:44,  3.11it/s]"
     ]
    },
    {
     "name": "stdout",
     "output_type": "stream",
     "text": [
      "https://www.fifteensquared.net/2020/12/19/independent-10667-by-angel/\n",
      "Parsing using parse_list_type_1\n"
     ]
    },
    {
     "name": "stderr",
     "output_type": "stream",
     "text": [
      "\r",
      "  1%|          | 96/19052 [00:29<1:35:05,  3.32it/s]"
     ]
    },
    {
     "name": "stdout",
     "output_type": "stream",
     "text": [
      "https://www.fifteensquared.net/2021/04/14/guardian-28419-imogen/\n",
      "Parsing using parse_list_type_1\n"
     ]
    },
    {
     "name": "stderr",
     "output_type": "stream",
     "text": [
      "\r",
      "  1%|          | 97/19052 [00:30<1:53:01,  2.80it/s]"
     ]
    },
    {
     "name": "stdout",
     "output_type": "stream",
     "text": [
      "https://www.fifteensquared.net/2020/11/08/azed-2525/\n",
      "Parsing using parse_table_type_2\n"
     ]
    },
    {
     "name": "stderr",
     "output_type": "stream",
     "text": [
      "  1%|          | 99/19052 [00:30<1:26:26,  3.65it/s]"
     ]
    },
    {
     "name": "stdout",
     "output_type": "stream",
     "text": [
      "https://www.fifteensquared.net/2021/01/29/independent-10701-by-phi/\n",
      "Parsing using parse_table_type_1\n",
      "https://www.fifteensquared.net/2021/02/01/independent-10703-by-tees/\n"
     ]
    },
    {
     "name": "stderr",
     "output_type": "stream",
     "text": [
      "\r",
      "  1%|          | 100/19052 [00:30<1:17:56,  4.05it/s]"
     ]
    },
    {
     "name": "stdout",
     "output_type": "stream",
     "text": [
      "Parsing using parse_table_type_1\n",
      "https://www.fifteensquared.net/2021/01/28/financial-times-16695-by-moo/\n",
      "Parsing using parse_table_type_1\n"
     ]
    },
    {
     "name": "stderr",
     "output_type": "stream",
     "text": [
      "\r",
      "  1%|          | 101/19052 [00:30<1:19:34,  3.97it/s]"
     ]
    },
    {
     "name": "stdout",
     "output_type": "stream",
     "text": [
      "https://www.fifteensquared.net/2021/06/16/financial-times-16813-by-gozo/\n",
      "Parsing using parse_table_type_1\n"
     ]
    },
    {
     "name": "stderr",
     "output_type": "stream",
     "text": [
      "\r",
      "  1%|          | 102/19052 [00:31<1:16:18,  4.14it/s]"
     ]
    },
    {
     "name": "stdout",
     "output_type": "stream",
     "text": [
      "https://www.fifteensquared.net/2020/10/04/independent-on-sunday-1597-tees/\n",
      "Parsing using parse_list_type_1\n"
     ]
    },
    {
     "name": "stderr",
     "output_type": "stream",
     "text": [
      "  1%|          | 104/19052 [00:31<1:08:33,  4.61it/s]"
     ]
    },
    {
     "name": "stdout",
     "output_type": "stream",
     "text": [
      "https://www.fifteensquared.net/2021/04/30/financial-times-16773-by-buccaneer/\n",
      "Parsing using parse_table_type_1\n",
      "https://www.fifteensquared.net/2020/12/16/guardian-cryptic-28318-by-puck/\n"
     ]
    },
    {
     "name": "stderr",
     "output_type": "stream",
     "text": [
      "  1%|          | 106/19052 [00:32<1:30:38,  3.48it/s]"
     ]
    },
    {
     "name": "stdout",
     "output_type": "stream",
     "text": [
      "https://www.fifteensquared.net/2021/01/07/independent-10682-by-serpent/\n",
      "Parsing using parse_table_type_1\n",
      "https://www.fifteensquared.net/2021/02/16/inquisitor-1685-awol-by-kruger/\n"
     ]
    },
    {
     "name": "stderr",
     "output_type": "stream",
     "text": [
      "\r",
      "  1%|          | 107/19052 [00:32<1:37:02,  3.25it/s]"
     ]
    },
    {
     "name": "stdout",
     "output_type": "stream",
     "text": [
      "Parsing using parse_list_type_1\n",
      "https://www.fifteensquared.net/2021/06/14/financial-times-16811-by-moo/\n"
     ]
    },
    {
     "name": "stderr",
     "output_type": "stream",
     "text": [
      "\r",
      "  1%|          | 108/19052 [00:32<1:42:44,  3.07it/s]"
     ]
    },
    {
     "name": "stdout",
     "output_type": "stream",
     "text": [
      "Parsing using parse_list_type_2\n",
      "https://www.fifteensquared.net/2021/06/21/independent-10823-bluth/\n"
     ]
    },
    {
     "name": "stderr",
     "output_type": "stream",
     "text": [
      "\r",
      "  1%|          | 109/19052 [00:33<1:35:44,  3.30it/s]"
     ]
    },
    {
     "name": "stdout",
     "output_type": "stream",
     "text": [
      "Parsing using parse_list_type_1\n",
      "https://www.fifteensquared.net/2021/03/10/independent-10735-by-eccles/\n",
      "Parsing using parse_table_type_1\n"
     ]
    },
    {
     "name": "stderr",
     "output_type": "stream",
     "text": [
      "  1%|          | 111/19052 [00:33<1:18:22,  4.03it/s]"
     ]
    },
    {
     "name": "stdout",
     "output_type": "stream",
     "text": [
      "https://www.fifteensquared.net/2020/10/01/financial-times-16586-by-alberich/\n",
      "Parsing using parse_table_type_1\n",
      "https://www.fifteensquared.net/2020/11/08/everyman-3864/\n"
     ]
    },
    {
     "name": "stderr",
     "output_type": "stream",
     "text": [
      "\r",
      "  1%|          | 112/19052 [00:33<1:15:58,  4.15it/s]"
     ]
    },
    {
     "name": "stdout",
     "output_type": "stream",
     "text": [
      "Parsing using parse_table_type_1\n",
      "https://www.fifteensquared.net/2020/10/16/financial-times-16609-by-bradman/\n"
     ]
    },
    {
     "name": "stderr",
     "output_type": "stream",
     "text": [
      "\r",
      "  1%|          | 113/19052 [00:34<1:13:58,  4.27it/s]"
     ]
    },
    {
     "name": "stdout",
     "output_type": "stream",
     "text": [
      "Parsing using parse_table_type_1\n",
      "https://www.fifteensquared.net/2021/02/04/financial-times-16701-by-neo/\n"
     ]
    },
    {
     "name": "stderr",
     "output_type": "stream",
     "text": [
      "\r",
      "  1%|          | 114/19052 [00:34<1:11:13,  4.43it/s]"
     ]
    },
    {
     "name": "stdout",
     "output_type": "stream",
     "text": [
      "Parsing using parse_table_type_1\n",
      "https://www.fifteensquared.net/2021/02/12/financial-times-16708-by-julius/\n",
      "Parsing using parse_table_type_1\n"
     ]
    },
    {
     "name": "stderr",
     "output_type": "stream",
     "text": [
      "\r",
      "  1%|          | 115/19052 [00:34<1:09:30,  4.54it/s]"
     ]
    },
    {
     "name": "stdout",
     "output_type": "stream",
     "text": [
      "https://www.fifteensquared.net/2020/11/30/financial-times-16647-by-slormgorm/\n",
      "Parsing using parse_list_type_2\n"
     ]
    },
    {
     "name": "stderr",
     "output_type": "stream",
     "text": [
      "\r",
      "  1%|          | 116/19052 [00:34<1:14:04,  4.26it/s]"
     ]
    },
    {
     "name": "stdout",
     "output_type": "stream",
     "text": [
      "https://www.fifteensquared.net/2020/12/21/financial-times-16665-by-zamorca/\n",
      "Parsing using parse_list_type_2\n"
     ]
    },
    {
     "name": "stderr",
     "output_type": "stream",
     "text": [
      "\r",
      "  1%|          | 117/19052 [00:35<1:24:16,  3.74it/s]"
     ]
    },
    {
     "name": "stdout",
     "output_type": "stream",
     "text": [
      "https://www.fifteensquared.net/2021/03/14/azed-2543/\n",
      "Parsing using parse_table_type_2\n"
     ]
    },
    {
     "name": "stderr",
     "output_type": "stream",
     "text": [
      "  1%|          | 119/19052 [00:35<1:11:36,  4.41it/s]"
     ]
    },
    {
     "name": "stdout",
     "output_type": "stream",
     "text": [
      "https://www.fifteensquared.net/2021/01/15/financial-times-16684-by-goliath/\n",
      "Parsing using parse_table_type_1\n",
      "https://www.fifteensquared.net/2021/01/28/independent-10700-by-hob/\n"
     ]
    },
    {
     "name": "stderr",
     "output_type": "stream",
     "text": [
      "\r",
      "  1%|          | 120/19052 [00:35<1:15:58,  4.15it/s]"
     ]
    },
    {
     "name": "stdout",
     "output_type": "stream",
     "text": [
      "Parsing using parse_list_type_2\n",
      "https://www.fifteensquared.net/2021/02/20/independent-10720-by-tyrus-sat-20-feb-2021/\n"
     ]
    },
    {
     "name": "stderr",
     "output_type": "stream",
     "text": [
      "\r",
      "  1%|          | 121/19052 [00:36<1:24:11,  3.75it/s]"
     ]
    },
    {
     "name": "stdout",
     "output_type": "stream",
     "text": [
      "https://www.fifteensquared.net/2020/11/02/guardian-cryptic-28280-by-vulcan/\n",
      "Parsing using parse_table_type_1\n"
     ]
    },
    {
     "name": "stderr",
     "output_type": "stream",
     "text": [
      "\r",
      "  1%|          | 122/19052 [00:36<1:27:21,  3.61it/s]"
     ]
    },
    {
     "name": "stdout",
     "output_type": "stream",
     "text": [
      "https://www.fifteensquared.net/2021/01/13/guardian-28341-philistine/\n",
      "Parsing using parse_table_type_2\n"
     ]
    },
    {
     "name": "stderr",
     "output_type": "stream",
     "text": [
      "\r",
      "  1%|          | 123/19052 [00:36<1:33:45,  3.37it/s]"
     ]
    },
    {
     "name": "stdout",
     "output_type": "stream",
     "text": [
      "https://www.fifteensquared.net/2021/03/11/financial-times-16731-by-redshank/\n",
      "Parsing using parse_table_type_1\n"
     ]
    },
    {
     "name": "stderr",
     "output_type": "stream",
     "text": [
      "\r",
      "  1%|          | 124/19052 [00:36<1:25:49,  3.68it/s]"
     ]
    },
    {
     "name": "stdout",
     "output_type": "stream",
     "text": [
      "https://www.fifteensquared.net/2020/12/03/financial-times-16640-by-mudd/\n",
      "Parsing using parse_table_type_1\n"
     ]
    },
    {
     "name": "stderr",
     "output_type": "stream",
     "text": [
      "\r",
      "  1%|          | 125/19052 [00:37<1:22:57,  3.80it/s]"
     ]
    },
    {
     "name": "stdout",
     "output_type": "stream",
     "text": [
      "https://www.fifteensquared.net/2021/02/09/guardian-28364-nutmeg/\n",
      "Parsing using parse_table_type_2\n"
     ]
    },
    {
     "name": "stderr",
     "output_type": "stream",
     "text": [
      "  1%|          | 127/19052 [00:37<1:19:55,  3.95it/s]"
     ]
    },
    {
     "name": "stdout",
     "output_type": "stream",
     "text": [
      "https://www.fifteensquared.net/2021/05/22/independent-10798-by-alchemi-saturday-puzzle-22-may-2021/\n",
      "Parsing using parse_table_type_3\n",
      "https://www.fifteensquared.net/2021/06/18/financial-times-16815-by-wanderer/\n"
     ]
    },
    {
     "name": "stderr",
     "output_type": "stream",
     "text": [
      "\r",
      "  1%|          | 128/19052 [00:37<1:14:25,  4.24it/s]"
     ]
    },
    {
     "name": "stdout",
     "output_type": "stream",
     "text": [
      "Parsing using parse_table_type_1\n",
      "https://www.fifteensquared.net/2020/09/23/guardian-cryptic-28246-by-boatman/\n",
      "Parsing using parse_table_type_1\n"
     ]
    },
    {
     "name": "stderr",
     "output_type": "stream",
     "text": [
      "  1%|          | 130/19052 [00:38<1:20:51,  3.90it/s]"
     ]
    },
    {
     "name": "stdout",
     "output_type": "stream",
     "text": [
      "https://www.fifteensquared.net/2020/09/27/azed-2519/\n",
      "Parsing using parse_table_type_2\n",
      "https://www.fifteensquared.net/2021/05/15/guardian-28440-paul/\n"
     ]
    },
    {
     "name": "stderr",
     "output_type": "stream",
     "text": [
      "  1%|          | 132/19052 [00:38<1:15:58,  4.15it/s]"
     ]
    },
    {
     "name": "stdout",
     "output_type": "stream",
     "text": [
      "https://www.fifteensquared.net/2020/12/14/missing-paragraph-spaces/\n",
      "https://www.fifteensquared.net/2020/11/03/financial-times-16624-by-leonidas/\n",
      "Parsing using parse_table_type_1\n"
     ]
    },
    {
     "name": "stderr",
     "output_type": "stream",
     "text": [
      "\r",
      "  1%|          | 133/19052 [00:39<1:11:19,  4.42it/s]"
     ]
    },
    {
     "name": "stdout",
     "output_type": "stream",
     "text": [
      "https://www.fifteensquared.net/2021/01/03/everyman-3872/\n",
      "Parsing using parse_table_type_1\n"
     ]
    },
    {
     "name": "stderr",
     "output_type": "stream",
     "text": [
      "\r",
      "  1%|          | 134/19052 [00:39<1:14:14,  4.25it/s]"
     ]
    },
    {
     "name": "stdout",
     "output_type": "stream",
     "text": [
      "https://www.fifteensquared.net/2021/06/01/independent-10806-by-kairos/\n",
      "Parsing using parse_list_type_2\n"
     ]
    },
    {
     "name": "stderr",
     "output_type": "stream",
     "text": [
      "  1%|          | 136/19052 [00:39<1:10:00,  4.50it/s]"
     ]
    },
    {
     "name": "stdout",
     "output_type": "stream",
     "text": [
      "https://www.fifteensquared.net/2020/12/15/comments/\n",
      "https://www.fifteensquared.net/2020/11/03/independent-10627-gila/\n"
     ]
    },
    {
     "name": "stderr",
     "output_type": "stream",
     "text": [
      "\r",
      "  1%|          | 137/19052 [00:40<1:24:26,  3.73it/s]"
     ]
    },
    {
     "name": "stdout",
     "output_type": "stream",
     "text": [
      "https://www.fifteensquared.net/2021/04/05/independent-10757-by-italicus/\n",
      "Parsing using parse_table_type_1\n"
     ]
    },
    {
     "name": "stderr",
     "output_type": "stream",
     "text": [
      "\r",
      "  1%|          | 138/19052 [00:40<1:26:25,  3.65it/s]"
     ]
    },
    {
     "name": "stdout",
     "output_type": "stream",
     "text": [
      "https://www.fifteensquared.net/2020/11/14/guardian-prize-28285-by-paul-alphabetical-jigsaw/\n"
     ]
    },
    {
     "name": "stderr",
     "output_type": "stream",
     "text": [
      "\r",
      "  1%|          | 139/19052 [00:40<1:34:39,  3.33it/s]"
     ]
    },
    {
     "name": "stdout",
     "output_type": "stream",
     "text": [
      "https://www.fifteensquared.net/2021/03/26/financial-times-16744-by-wanderer/\n",
      "Parsing using parse_table_type_1\n"
     ]
    },
    {
     "name": "stderr",
     "output_type": "stream",
     "text": [
      "\r",
      "  1%|          | 140/19052 [00:41<1:29:46,  3.51it/s]"
     ]
    },
    {
     "name": "stdout",
     "output_type": "stream",
     "text": [
      "https://www.fifteensquared.net/2021/02/16/guardian-cryptic-28370-by-enigmatist-and-soup/\n",
      "Parsing using parse_table_type_1\n"
     ]
    },
    {
     "name": "stderr",
     "output_type": "stream",
     "text": [
      "  1%|          | 142/19052 [00:41<1:40:08,  3.15it/s]"
     ]
    },
    {
     "name": "stdout",
     "output_type": "stream",
     "text": [
      "https://www.fifteensquared.net/2021/01/10/independent-on-sunday-1611-by-tees/\n",
      "Parsing using parse_table_type_1\n",
      "https://www.fifteensquared.net/2021/05/10/private-eye-cyclops-701-clinical-savage/\n"
     ]
    },
    {
     "name": "stderr",
     "output_type": "stream",
     "text": [
      "\r",
      "  1%|          | 143/19052 [00:42<1:34:33,  3.33it/s]"
     ]
    },
    {
     "name": "stdout",
     "output_type": "stream",
     "text": [
      "https://www.fifteensquared.net/2020/11/11/independent-10634-by-eccles/\n"
     ]
    },
    {
     "name": "stderr",
     "output_type": "stream",
     "text": [
      "\r",
      "  1%|          | 144/19052 [00:42<1:42:44,  3.07it/s]"
     ]
    },
    {
     "name": "stdout",
     "output_type": "stream",
     "text": [
      "Parsing using parse_list_type_2\n",
      "https://www.fifteensquared.net/2020/10/07/guardian-cryptic-28258-by-nutmeg/\n",
      "Parsing using parse_table_type_1\n"
     ]
    },
    {
     "name": "stderr",
     "output_type": "stream",
     "text": [
      "\r",
      "  1%|          | 145/19052 [00:42<1:45:53,  2.98it/s]"
     ]
    },
    {
     "name": "stdout",
     "output_type": "stream",
     "text": [
      "https://www.fifteensquared.net/2021/05/03/guardian-quiptic-1120-pan/\n",
      "Parsing using parse_list_type_1\n"
     ]
    },
    {
     "name": "stderr",
     "output_type": "stream",
     "text": [
      "\r",
      "  1%|          | 146/19052 [00:43<1:42:51,  3.06it/s]"
     ]
    },
    {
     "name": "stdout",
     "output_type": "stream",
     "text": [
      "https://www.fifteensquared.net/2021/02/07/everyman-3877/\n",
      "Parsing using parse_table_type_1\n"
     ]
    },
    {
     "name": "stderr",
     "output_type": "stream",
     "text": [
      "\r",
      "  1%|          | 147/19052 [00:43<1:36:43,  3.26it/s]"
     ]
    },
    {
     "name": "stdout",
     "output_type": "stream",
     "text": [
      "https://www.fifteensquared.net/2020/11/06/financial-times-16627-by-velia/\n",
      "Parsing using parse_table_type_1\n"
     ]
    },
    {
     "name": "stderr",
     "output_type": "stream",
     "text": [
      "\r",
      "  1%|          | 148/19052 [00:43<1:29:30,  3.52it/s]"
     ]
    },
    {
     "name": "stdout",
     "output_type": "stream",
     "text": [
      "https://www.fifteensquared.net/2021/02/23/guardian-cryptic-28376-by-matilda/\n",
      "Parsing using parse_table_type_1\n"
     ]
    },
    {
     "name": "stderr",
     "output_type": "stream",
     "text": [
      "  1%|          | 150/19052 [00:44<1:22:04,  3.84it/s]"
     ]
    },
    {
     "name": "stdout",
     "output_type": "stream",
     "text": [
      "https://www.fifteensquared.net/2021/03/25/financial-times-16733-by-mudd/\n",
      "Parsing using parse_table_type_1\n",
      "https://www.fifteensquared.net/2020/10/03/the-increase-in-comments/\n"
     ]
    },
    {
     "name": "stderr",
     "output_type": "stream",
     "text": [
      "  1%|          | 152/19052 [00:44<1:25:08,  3.70it/s]"
     ]
    },
    {
     "name": "stdout",
     "output_type": "stream",
     "text": [
      "https://www.fifteensquared.net/2020/09/10/financial-times-16578-by-basilisk/\n",
      "Parsing using parse_table_type_1\n",
      "https://www.fifteensquared.net/2021/06/18/independent-10821-by-phi/\n"
     ]
    },
    {
     "name": "stderr",
     "output_type": "stream",
     "text": [
      "\r",
      "  1%|          | 153/19052 [00:45<1:23:07,  3.79it/s]"
     ]
    },
    {
     "name": "stdout",
     "output_type": "stream",
     "text": [
      "Parsing using parse_table_type_1\n",
      "https://www.fifteensquared.net/2021/01/04/financial-times-16674-by-slormgorm/\n"
     ]
    },
    {
     "name": "stderr",
     "output_type": "stream",
     "text": [
      "\r",
      "  1%|          | 154/19052 [00:45<1:33:27,  3.37it/s]"
     ]
    },
    {
     "name": "stdout",
     "output_type": "stream",
     "text": [
      "Parsing using parse_list_type_2\n",
      "https://www.fifteensquared.net/2021/04/28/financial-times-16771-by-io/\n",
      "Parsing using parse_table_type_1\n"
     ]
    },
    {
     "name": "stderr",
     "output_type": "stream",
     "text": [
      "\r",
      "  1%|          | 155/19052 [00:45<1:21:34,  3.86it/s]"
     ]
    },
    {
     "name": "stdout",
     "output_type": "stream",
     "text": [
      "https://www.fifteensquared.net/2020/09/11/financial-times-16579-by-bradman/\n",
      "Parsing using parse_table_type_1\n"
     ]
    },
    {
     "name": "stderr",
     "output_type": "stream",
     "text": [
      "\r",
      "  1%|          | 156/19052 [00:45<1:19:41,  3.95it/s]"
     ]
    },
    {
     "name": "stdout",
     "output_type": "stream",
     "text": [
      "https://www.fifteensquared.net/2021/01/06/independent-10681-by-bluth/\n",
      "Parsing using parse_list_type_2"
     ]
    },
    {
     "name": "stderr",
     "output_type": "stream",
     "text": [
      "\r",
      "  1%|          | 157/19052 [00:46<1:36:28,  3.26it/s]"
     ]
    },
    {
     "name": "stdout",
     "output_type": "stream",
     "text": [
      "\n",
      "https://www.fifteensquared.net/2021/01/24/azed-no-2536-plain/\n",
      "Parsing using parse_table_type_1\n"
     ]
    },
    {
     "name": "stderr",
     "output_type": "stream",
     "text": [
      "\r",
      "  1%|          | 158/19052 [00:46<1:34:02,  3.35it/s]"
     ]
    },
    {
     "name": "stdout",
     "output_type": "stream",
     "text": [
      "https://www.fifteensquared.net/2021/04/10/independent-10762-by-serpent/\n",
      "Parsing using parse_list_type_2\n"
     ]
    },
    {
     "name": "stderr",
     "output_type": "stream",
     "text": [
      "\r",
      "  1%|          | 159/19052 [00:46<1:39:23,  3.17it/s]"
     ]
    },
    {
     "name": "stdout",
     "output_type": "stream",
     "text": [
      "https://www.fifteensquared.net/2020/12/07/guardian-cryptic-28310-by-matilda/\n",
      "Parsing using parse_table_type_1\n"
     ]
    },
    {
     "name": "stderr",
     "output_type": "stream",
     "text": [
      "\r",
      "  1%|          | 160/19052 [00:47<2:05:37,  2.51it/s]"
     ]
    },
    {
     "name": "stdout",
     "output_type": "stream",
     "text": [
      "https://www.fifteensquared.net/2021/02/22/independent-10721-by-bluth/\n",
      "Parsing using parse_table_type_1\n"
     ]
    },
    {
     "name": "stderr",
     "output_type": "stream",
     "text": [
      "\r",
      "  1%|          | 161/19052 [00:47<2:03:57,  2.54it/s]"
     ]
    },
    {
     "name": "stdout",
     "output_type": "stream",
     "text": [
      "https://www.fifteensquared.net/2021/06/21/guardian-28477-vulcan/\n",
      "Parsing using parse_table_type_2\n"
     ]
    },
    {
     "name": "stderr",
     "output_type": "stream",
     "text": [
      "\r",
      "  1%|          | 162/19052 [00:48<2:02:27,  2.57it/s]"
     ]
    },
    {
     "name": "stdout",
     "output_type": "stream",
     "text": [
      "https://www.fifteensquared.net/2020/11/12/guardian-28289-imogen/\n",
      "Parsing using parse_table_type_2\n"
     ]
    },
    {
     "name": "stderr",
     "output_type": "stream",
     "text": [
      "\r",
      "  1%|          | 163/19052 [00:48<2:08:56,  2.44it/s]"
     ]
    },
    {
     "name": "stdout",
     "output_type": "stream",
     "text": [
      "https://www.fifteensquared.net/2020/09/16/independent-10586-by-eccles/\n",
      "Parsing using parse_list_type_2\n"
     ]
    },
    {
     "name": "stderr",
     "output_type": "stream",
     "text": [
      "\r",
      "  1%|          | 164/19052 [00:49<2:02:53,  2.56it/s]"
     ]
    },
    {
     "name": "stdout",
     "output_type": "stream",
     "text": [
      "https://www.fifteensquared.net/2021/02/05/financial-times-16702-by-wanderer/\n",
      "Parsing using parse_table_type_1\n"
     ]
    },
    {
     "name": "stderr",
     "output_type": "stream",
     "text": [
      "\r",
      "  1%|          | 165/19052 [00:49<1:46:37,  2.95it/s]"
     ]
    },
    {
     "name": "stdout",
     "output_type": "stream",
     "text": [
      "https://www.fifteensquared.net/2020/10/23/guardian-cryptic-28272-vlad/\n",
      "Parsing using parse_list_type_3\n"
     ]
    },
    {
     "name": "stderr",
     "output_type": "stream",
     "text": [
      "  1%|          | 167/19052 [00:50<2:10:20,  2.41it/s]"
     ]
    },
    {
     "name": "stdout",
     "output_type": "stream",
     "text": [
      "https://www.fifteensquared.net/2020/11/06/independent-10630-by-phi/\n",
      "Parsing using parse_table_type_1\n",
      "https://www.fifteensquared.net/2021/01/23/independent-10696-by-bluth/\n"
     ]
    },
    {
     "name": "stderr",
     "output_type": "stream",
     "text": [
      "\r",
      "  1%|          | 168/19052 [00:50<2:00:08,  2.62it/s]"
     ]
    },
    {
     "name": "stdout",
     "output_type": "stream",
     "text": [
      "Parsing using parse_list_type_1\n",
      "https://www.fifteensquared.net/2020/09/25/guardian-cryptic-28248-by-nutmeg/\n",
      "Parsing using parse_table_type_1\n"
     ]
    },
    {
     "name": "stderr",
     "output_type": "stream",
     "text": [
      "\r",
      "  1%|          | 169/19052 [00:51<1:59:32,  2.63it/s]"
     ]
    },
    {
     "name": "stdout",
     "output_type": "stream",
     "text": [
      "https://www.fifteensquared.net/2020/11/09/guardian-28286-carpathian/\n",
      "Parsing using parse_list_type_1\n"
     ]
    },
    {
     "name": "stderr",
     "output_type": "stream",
     "text": [
      "\r",
      "  1%|          | 170/19052 [00:51<2:12:50,  2.37it/s]"
     ]
    },
    {
     "name": "stdout",
     "output_type": "stream",
     "text": [
      "https://www.fifteensquared.net/2020/12/16/independent-10664-by-tees/\n",
      "Parsing using parse_table_type_1\n"
     ]
    },
    {
     "name": "stderr",
     "output_type": "stream",
     "text": [
      "\r",
      "  1%|          | 171/19052 [00:51<1:56:40,  2.70it/s]"
     ]
    },
    {
     "name": "stdout",
     "output_type": "stream",
     "text": [
      "https://www.fifteensquared.net/2020/09/15/guardian-cryptic-28239-by-brendan/\n",
      "Parsing using parse_table_type_1\n"
     ]
    },
    {
     "name": "stderr",
     "output_type": "stream",
     "text": [
      "\r",
      "  1%|          | 172/19052 [00:52<2:04:55,  2.52it/s]"
     ]
    },
    {
     "name": "stdout",
     "output_type": "stream",
     "text": [
      "https://www.fifteensquared.net/2020/11/04/independent-10628-klingsor/\n"
     ]
    },
    {
     "name": "stderr",
     "output_type": "stream",
     "text": [
      "\r",
      "  1%|          | 173/19052 [00:52<1:59:55,  2.62it/s]"
     ]
    },
    {
     "name": "stdout",
     "output_type": "stream",
     "text": [
      "https://www.fifteensquared.net/2020/09/14/__trashed-6/\n"
     ]
    },
    {
     "name": "stderr",
     "output_type": "stream",
     "text": [
      "\r",
      "  1%|          | 174/19052 [00:52<1:58:01,  2.67it/s]"
     ]
    },
    {
     "name": "stdout",
     "output_type": "stream",
     "text": [
      "Parsing using parse_list_type_3\n",
      "https://www.fifteensquared.net/2020/12/28/guardian-quiptic-1102-carpathian/\n",
      "Parsing using parse_list_type_1\n"
     ]
    },
    {
     "name": "stderr",
     "output_type": "stream",
     "text": [
      "\r",
      "  1%|          | 175/19052 [00:53<2:01:03,  2.60it/s]"
     ]
    },
    {
     "name": "stdout",
     "output_type": "stream",
     "text": [
      "https://www.fifteensquared.net/2020/09/10/independent-10581-by-serpent/\n"
     ]
    },
    {
     "name": "stderr",
     "output_type": "stream",
     "text": [
      "\r",
      "  1%|          | 176/19052 [00:53<2:01:48,  2.58it/s]"
     ]
    },
    {
     "name": "stdout",
     "output_type": "stream",
     "text": [
      "Parsing using parse_list_type_2\n",
      "https://www.fifteensquared.net/2020/12/06/everyman-3868/\n",
      "Parsing using parse_table_type_1\n"
     ]
    },
    {
     "name": "stderr",
     "output_type": "stream",
     "text": [
      "\r",
      "  1%|          | 177/19052 [00:54<1:48:58,  2.89it/s]"
     ]
    },
    {
     "name": "stdout",
     "output_type": "stream",
     "text": [
      "https://www.fifteensquared.net/2021/04/08/independent-10760-rodriguez/\n",
      "Parsing using parse_list_type_1\n"
     ]
    },
    {
     "name": "stderr",
     "output_type": "stream",
     "text": [
      "\r",
      "  1%|          | 178/19052 [00:54<2:05:22,  2.51it/s]"
     ]
    },
    {
     "name": "stdout",
     "output_type": "stream",
     "text": [
      "https://www.fifteensquared.net/2021/06/09/financial-times-16807-by-monk/\n",
      "Parsing using parse_table_type_1\n"
     ]
    },
    {
     "name": "stderr",
     "output_type": "stream",
     "text": [
      "\r",
      "  1%|          | 179/19052 [00:54<1:55:31,  2.72it/s]"
     ]
    },
    {
     "name": "stdout",
     "output_type": "stream",
     "text": [
      "https://www.fifteensquared.net/2021/03/20/independent-10744-by-knut/\n"
     ]
    },
    {
     "name": "stderr",
     "output_type": "stream",
     "text": [
      "\r",
      "  1%|          | 180/19052 [00:55<1:51:50,  2.81it/s]"
     ]
    },
    {
     "name": "stdout",
     "output_type": "stream",
     "text": [
      "https://www.fifteensquared.net/2020/10/20/inquisitor-1668-q-by-vismut/\n"
     ]
    },
    {
     "name": "stderr",
     "output_type": "stream",
     "text": [
      "\r",
      "  1%|          | 181/19052 [00:55<2:00:19,  2.61it/s]"
     ]
    },
    {
     "name": "stdout",
     "output_type": "stream",
     "text": [
      "https://www.fifteensquared.net/2020/11/18/independent-10640-by-rodriguez/\n",
      "Parsing using parse_table_type_1\n"
     ]
    },
    {
     "name": "stderr",
     "output_type": "stream",
     "text": [
      "\r",
      "  1%|          | 182/19052 [00:56<2:05:22,  2.51it/s]"
     ]
    },
    {
     "name": "stdout",
     "output_type": "stream",
     "text": [
      "https://www.fifteensquared.net/2020/10/18/independent-on-sunday-1599-by-tees/\n",
      "Parsing using parse_table_type_1\n"
     ]
    },
    {
     "name": "stderr",
     "output_type": "stream",
     "text": [
      "\r",
      "  1%|          | 183/19052 [00:56<2:00:07,  2.62it/s]"
     ]
    },
    {
     "name": "stdout",
     "output_type": "stream",
     "text": [
      "https://www.fifteensquared.net/2021/01/30/inquisitor-review-of-the-year-2019-20/\n"
     ]
    },
    {
     "name": "stderr",
     "output_type": "stream",
     "text": [
      "\r",
      "  1%|          | 184/19052 [00:56<2:06:22,  2.49it/s]"
     ]
    },
    {
     "name": "stdout",
     "output_type": "stream",
     "text": [
      "https://www.fifteensquared.net/2021/05/06/financial-times-16778-by-neo/\n",
      "Parsing using parse_table_type_1\n"
     ]
    },
    {
     "name": "stderr",
     "output_type": "stream",
     "text": [
      "\r",
      "  1%|          | 185/19052 [00:57<1:52:35,  2.79it/s]"
     ]
    },
    {
     "name": "stdout",
     "output_type": "stream",
     "text": [
      "https://www.fifteensquared.net/2021/02/01/cyclops-694-flirty-oomph/\n",
      "Parsing using parse_table_type_3\n"
     ]
    },
    {
     "name": "stderr",
     "output_type": "stream",
     "text": [
      "\r",
      "  1%|          | 186/19052 [00:57<1:38:06,  3.20it/s]"
     ]
    },
    {
     "name": "stdout",
     "output_type": "stream",
     "text": [
      "https://www.fifteensquared.net/2020/12/10/financial-times-16656-by-orense/\n",
      "Parsing using parse_table_type_1\n"
     ]
    },
    {
     "name": "stderr",
     "output_type": "stream",
     "text": [
      "\r",
      "  1%|          | 187/19052 [00:57<1:30:30,  3.47it/s]"
     ]
    },
    {
     "name": "stdout",
     "output_type": "stream",
     "text": [
      "https://www.fifteensquared.net/2021/01/22/independent-10695-by-phi/\n"
     ]
    },
    {
     "name": "stderr",
     "output_type": "stream",
     "text": [
      "\r",
      "  1%|          | 188/19052 [00:57<1:40:19,  3.13it/s]"
     ]
    },
    {
     "name": "stdout",
     "output_type": "stream",
     "text": [
      "Parsing using parse_list_type_2\n",
      "https://www.fifteensquared.net/2021/01/13/independent-10687-by-eccles/\n",
      "Parsing using parse_table_type_1\n"
     ]
    },
    {
     "name": "stderr",
     "output_type": "stream",
     "text": [
      "\r",
      "  1%|          | 189/19052 [00:58<1:42:36,  3.06it/s]"
     ]
    },
    {
     "name": "stdout",
     "output_type": "stream",
     "text": [
      "https://www.fifteensquared.net/2021/03/08/guardian-quiptic-1112-matilda/\n",
      "Parsing using parse_list_type_1\n"
     ]
    },
    {
     "name": "stderr",
     "output_type": "stream",
     "text": [
      "\r",
      "  1%|          | 190/19052 [00:58<1:45:54,  2.97it/s]"
     ]
    },
    {
     "name": "stdout",
     "output_type": "stream",
     "text": [
      "https://www.fifteensquared.net/2021/04/05/guardian-cryptic-28411-by-vulcan/\n",
      "Parsing using parse_table_type_1\n"
     ]
    },
    {
     "name": "stderr",
     "output_type": "stream",
     "text": [
      "\r",
      "  1%|          | 191/19052 [00:59<1:53:03,  2.78it/s]"
     ]
    },
    {
     "name": "stdout",
     "output_type": "stream",
     "text": [
      "https://www.fifteensquared.net/2021/01/28/financial-times-16685-by-mudd/\n"
     ]
    },
    {
     "name": "stderr",
     "output_type": "stream",
     "text": [
      "\r",
      "  1%|          | 192/19052 [00:59<1:39:48,  3.15it/s]"
     ]
    },
    {
     "name": "stdout",
     "output_type": "stream",
     "text": [
      "https://www.fifteensquared.net/2020/12/17/guardian-28319-philistine/\n",
      "Parsing using parse_table_type_2\n"
     ]
    },
    {
     "name": "stderr",
     "output_type": "stream",
     "text": [
      "\r",
      "  1%|          | 193/19052 [00:59<2:08:05,  2.45it/s]"
     ]
    },
    {
     "name": "stdout",
     "output_type": "stream",
     "text": [
      "https://www.fifteensquared.net/2021/01/24/independent-on-sunday-1613-peter/\n",
      "Parsing using parse_list_type_1\n"
     ]
    },
    {
     "name": "stderr",
     "output_type": "stream",
     "text": [
      "\r",
      "  1%|          | 194/19052 [01:00<2:12:19,  2.38it/s]"
     ]
    },
    {
     "name": "stdout",
     "output_type": "stream",
     "text": [
      "https://www.fifteensquared.net/2021/05/16/azed-2552/\n",
      "Parsing using parse_list_type_1\n"
     ]
    },
    {
     "name": "stderr",
     "output_type": "stream",
     "text": [
      "\r",
      "  1%|          | 195/19052 [01:00<2:21:38,  2.22it/s]"
     ]
    },
    {
     "name": "stdout",
     "output_type": "stream",
     "text": [
      "https://www.fifteensquared.net/2021/01/01/inquisitor-index-2021/\n"
     ]
    },
    {
     "name": "stderr",
     "output_type": "stream",
     "text": [
      "\r",
      "  1%|          | 196/19052 [01:01<2:17:51,  2.28it/s]"
     ]
    },
    {
     "name": "stdout",
     "output_type": "stream",
     "text": [
      "https://www.fifteensquared.net/2020/10/25/everyman-3862-18-october/\n"
     ]
    },
    {
     "name": "stderr",
     "output_type": "stream",
     "text": [
      "\r",
      "  1%|          | 197/19052 [01:01<2:16:10,  2.31it/s]"
     ]
    },
    {
     "name": "stdout",
     "output_type": "stream",
     "text": [
      "Parsing using parse_list_type_1\n",
      "https://www.fifteensquared.net/2021/03/20/guardian-28392-paul/\n"
     ]
    },
    {
     "name": "stderr",
     "output_type": "stream",
     "text": [
      "\r",
      "  1%|          | 198/19052 [01:02<2:15:53,  2.31it/s]"
     ]
    },
    {
     "name": "stdout",
     "output_type": "stream",
     "text": [
      "https://www.fifteensquared.net/2021/01/09/independent-10684-by-tyrus/\n"
     ]
    },
    {
     "name": "stderr",
     "output_type": "stream",
     "text": [
      "\r",
      "  1%|          | 199/19052 [01:02<2:00:10,  2.61it/s]"
     ]
    },
    {
     "name": "stdout",
     "output_type": "stream",
     "text": [
      "https://www.fifteensquared.net/2020/09/21/financial-times-16587-by-velia/\n"
     ]
    },
    {
     "name": "stderr",
     "output_type": "stream",
     "text": [
      "\r",
      "  1%|          | 200/19052 [01:02<1:57:28,  2.67it/s]"
     ]
    },
    {
     "name": "stdout",
     "output_type": "stream",
     "text": [
      "Parsing using parse_list_type_2\n",
      "https://www.fifteensquared.net/2020/12/22/financial-times-16666-by-moo/\n",
      "Parsing using parse_table_type_1\n"
     ]
    },
    {
     "name": "stderr",
     "output_type": "stream",
     "text": [
      "\r",
      "  1%|          | 201/19052 [01:02<1:41:12,  3.10it/s]"
     ]
    },
    {
     "name": "stdout",
     "output_type": "stream",
     "text": [
      "https://www.fifteensquared.net/2021/04/13/financial-times-16758-by-sleuth/\n",
      "Parsing using parse_table_type_1\n"
     ]
    },
    {
     "name": "stderr",
     "output_type": "stream",
     "text": [
      "\r",
      "  1%|          | 202/19052 [01:03<1:36:29,  3.26it/s]"
     ]
    },
    {
     "name": "stdout",
     "output_type": "stream",
     "text": [
      "https://www.fifteensquared.net/2021/06/03/independant-10808-serpent/\n"
     ]
    },
    {
     "name": "stderr",
     "output_type": "stream",
     "text": [
      "\r",
      "  1%|          | 203/19052 [01:03<1:48:19,  2.90it/s]"
     ]
    },
    {
     "name": "stdout",
     "output_type": "stream",
     "text": [
      "Parsing using parse_list_type_1\n",
      "https://www.fifteensquared.net/2020/09/26/guardian-prize-28243-by-philistine/\n",
      "Parsing using parse_table_type_1\n"
     ]
    },
    {
     "name": "stderr",
     "output_type": "stream",
     "text": [
      "\r",
      "  1%|          | 204/19052 [01:04<1:55:30,  2.72it/s]"
     ]
    },
    {
     "name": "stdout",
     "output_type": "stream",
     "text": [
      "https://www.fifteensquared.net/2020/09/14/independent-10584-by-atrica/\n",
      "Parsing using parse_table_type_1\n"
     ]
    },
    {
     "name": "stderr",
     "output_type": "stream",
     "text": [
      "\r",
      "  1%|          | 205/19052 [01:04<1:43:59,  3.02it/s]"
     ]
    },
    {
     "name": "stdout",
     "output_type": "stream",
     "text": [
      "https://www.fifteensquared.net/2021/01/16/guardian-prize-28338-by-pan/\n",
      "Parsing using parse_table_type_1\n"
     ]
    },
    {
     "name": "stderr",
     "output_type": "stream",
     "text": [
      "\r",
      "  1%|          | 206/19052 [01:04<1:42:22,  3.07it/s]"
     ]
    },
    {
     "name": "stdout",
     "output_type": "stream",
     "text": [
      "https://www.fifteensquared.net/2020/11/02/guardian-quiptic-1094-anto/\n",
      "Parsing using parse_list_type_1\n"
     ]
    },
    {
     "name": "stderr",
     "output_type": "stream",
     "text": [
      "\r",
      "  1%|          | 207/19052 [01:04<1:43:32,  3.03it/s]"
     ]
    },
    {
     "name": "stdout",
     "output_type": "stream",
     "text": [
      "https://www.fifteensquared.net/2021/04/18/azed-no-2548-plain/\n",
      "Parsing using parse_table_type_1\n"
     ]
    },
    {
     "name": "stderr",
     "output_type": "stream",
     "text": [
      "\r",
      "  1%|          | 208/19052 [01:05<1:35:10,  3.30it/s]"
     ]
    },
    {
     "name": "stdout",
     "output_type": "stream",
     "text": [
      "https://www.fifteensquared.net/2021/01/18/financial-times-16686-by-gurney/\n"
     ]
    },
    {
     "name": "stderr",
     "output_type": "stream",
     "text": [
      "\r",
      "  1%|          | 209/19052 [01:05<1:45:45,  2.97it/s]"
     ]
    },
    {
     "name": "stdout",
     "output_type": "stream",
     "text": [
      "Parsing using parse_list_type_2\n",
      "https://www.fifteensquared.net/2021/06/22/inquisitor-1703-war-and-peace-by-extent/\n"
     ]
    },
    {
     "name": "stderr",
     "output_type": "stream",
     "text": [
      "\r",
      "  1%|          | 210/19052 [01:06<1:54:58,  2.73it/s]"
     ]
    },
    {
     "name": "stdout",
     "output_type": "stream",
     "text": [
      "https://www.fifteensquared.net/2020/10/15/enigmatic-variations-no-1455-golden-oldies-by-skylark/\n"
     ]
    },
    {
     "name": "stderr",
     "output_type": "stream",
     "text": [
      "\r",
      "  1%|          | 211/19052 [01:06<1:49:07,  2.88it/s]"
     ]
    },
    {
     "name": "stdout",
     "output_type": "stream",
     "text": [
      "https://www.fifteensquared.net/2020/12/21/guardian-cryptic-28322-by-pan/\n",
      "Parsing using parse_table_type_1\n"
     ]
    },
    {
     "name": "stderr",
     "output_type": "stream",
     "text": [
      "\r",
      "  1%|          | 212/19052 [01:06<1:57:38,  2.67it/s]"
     ]
    },
    {
     "name": "stdout",
     "output_type": "stream",
     "text": [
      "https://www.fifteensquared.net/2021/05/11/inquisitor-1697-sold-down-the-river-by-ifor/\n"
     ]
    },
    {
     "name": "stderr",
     "output_type": "stream",
     "text": [
      "\r",
      "  1%|          | 213/19052 [01:07<2:24:27,  2.17it/s]"
     ]
    },
    {
     "name": "stdout",
     "output_type": "stream",
     "text": [
      "https://www.fifteensquared.net/2021/06/08/independent-10812-by-hypnos/\n",
      "Parsing using parse_table_type_1\n"
     ]
    },
    {
     "name": "stderr",
     "output_type": "stream",
     "text": [
      "\r",
      "  1%|          | 214/19052 [01:07<2:05:15,  2.51it/s]"
     ]
    },
    {
     "name": "stdout",
     "output_type": "stream",
     "text": [
      "https://www.fifteensquared.net/2021/05/09/azed-no-2551-spoonerisms-competition-puzzle/\n"
     ]
    },
    {
     "name": "stderr",
     "output_type": "stream",
     "text": [
      "\r",
      "  1%|          | 215/19052 [01:08<1:59:24,  2.63it/s]"
     ]
    },
    {
     "name": "stdout",
     "output_type": "stream",
     "text": [
      "https://www.fifteensquared.net/2020/09/21/independent-10590-klingsor/\n",
      "Parsing using parse_list_type_1\n"
     ]
    },
    {
     "name": "stderr",
     "output_type": "stream",
     "text": [
      "\r",
      "  1%|          | 216/19052 [01:08<1:46:16,  2.95it/s]"
     ]
    },
    {
     "name": "stdout",
     "output_type": "stream",
     "text": [
      "https://www.fifteensquared.net/2021/06/04/financial-times-16803-by-bradman/\n",
      "Parsing using parse_table_type_1\n"
     ]
    },
    {
     "name": "stderr",
     "output_type": "stream",
     "text": [
      "\r",
      "  1%|          | 217/19052 [01:08<1:34:54,  3.31it/s]"
     ]
    },
    {
     "name": "stdout",
     "output_type": "stream",
     "text": [
      "https://www.fifteensquared.net/2021/06/02/financial-times-16801-by-io/\n",
      "Parsing using parse_table_type_1\n"
     ]
    },
    {
     "name": "stderr",
     "output_type": "stream",
     "text": [
      "\r",
      "  1%|          | 218/19052 [01:08<1:26:17,  3.64it/s]"
     ]
    },
    {
     "name": "stdout",
     "output_type": "stream",
     "text": [
      "https://www.fifteensquared.net/2020/11/25/guardian-28300-nutmeg/\n",
      "Parsing using parse_list_type_1\n"
     ]
    },
    {
     "name": "stderr",
     "output_type": "stream",
     "text": [
      "\r",
      "  1%|          | 219/19052 [01:09<1:50:30,  2.84it/s]"
     ]
    },
    {
     "name": "stdout",
     "output_type": "stream",
     "text": [
      "https://www.fifteensquared.net/2021/06/09/guardian-cryptic-28467-by-puck/\n",
      "Parsing using parse_table_type_1\n"
     ]
    },
    {
     "name": "stderr",
     "output_type": "stream",
     "text": [
      "\r",
      "  1%|          | 220/19052 [01:09<1:54:09,  2.75it/s]"
     ]
    },
    {
     "name": "stdout",
     "output_type": "stream",
     "text": [
      "https://www.fifteensquared.net/2021/05/28/guardian-cryptic-28457-by-enigmatist/\n",
      "Parsing using parse_table_type_1\n"
     ]
    },
    {
     "name": "stderr",
     "output_type": "stream",
     "text": [
      "  1%|          | 222/19052 [01:10<1:40:09,  3.13it/s]"
     ]
    },
    {
     "name": "stdout",
     "output_type": "stream",
     "text": [
      "https://www.fifteensquared.net/2020/11/12/financial-times-16622-by-bradman/\n",
      "Parsing using parse_table_type_1\n",
      "https://www.fifteensquared.net/2021/03/16/independent-10740-by-bluth/\n"
     ]
    },
    {
     "name": "stderr",
     "output_type": "stream",
     "text": [
      "\r",
      "  1%|          | 223/19052 [01:10<1:32:14,  3.40it/s]"
     ]
    },
    {
     "name": "stdout",
     "output_type": "stream",
     "text": [
      "Parsing using parse_table_type_1\n",
      "https://www.fifteensquared.net/2020/09/19/independent-10589-by-tees-saturday-puzzle-19-september-2020/\n"
     ]
    },
    {
     "name": "stderr",
     "output_type": "stream",
     "text": [
      "\r",
      "  1%|          | 224/19052 [01:10<1:22:02,  3.83it/s]"
     ]
    },
    {
     "name": "stdout",
     "output_type": "stream",
     "text": [
      "Parsing using parse_table_type_3\n",
      "https://www.fifteensquared.net/2021/06/01/inquisitor-1700-hms-conqueror-by-pink/\n"
     ]
    },
    {
     "name": "stderr",
     "output_type": "stream",
     "text": [
      "  1%|          | 226/19052 [01:11<1:20:46,  3.88it/s]"
     ]
    },
    {
     "name": "stdout",
     "output_type": "stream",
     "text": [
      "https://www.fifteensquared.net/2020/10/08/financial-times-16592-by-mudd/\n",
      "Parsing using parse_table_type_1\n",
      "https://www.fifteensquared.net/2021/05/18/inquisitor-1698-spooky-manifestations-by-kruger/\n"
     ]
    },
    {
     "name": "stderr",
     "output_type": "stream",
     "text": [
      "  1%|          | 228/19052 [01:11<1:30:58,  3.45it/s]"
     ]
    },
    {
     "name": "stdout",
     "output_type": "stream",
     "text": [
      "https://www.fifteensquared.net/2020/10/07/comment-guidelines/\n",
      "https://www.fifteensquared.net/2020/10/14/independent-10610-by-eccles/\n"
     ]
    },
    {
     "name": "stderr",
     "output_type": "stream",
     "text": [
      "\r",
      "  1%|          | 229/19052 [01:12<1:31:40,  3.42it/s]"
     ]
    },
    {
     "name": "stdout",
     "output_type": "stream",
     "text": [
      "Parsing using parse_list_type_2\n",
      "https://www.fifteensquared.net/2021/01/31/independent-on-sunday-1614-by-kairos/\n"
     ]
    },
    {
     "name": "stderr",
     "output_type": "stream",
     "text": [
      "\r",
      "  1%|          | 230/19052 [01:12<1:40:46,  3.11it/s]"
     ]
    },
    {
     "name": "stdout",
     "output_type": "stream",
     "text": [
      "Parsing using parse_list_type_1\n",
      "https://www.fifteensquared.net/2020/12/17/financial-times-16652-by-mudd/\n"
     ]
    },
    {
     "name": "stderr",
     "output_type": "stream",
     "text": [
      "\r",
      "  1%|          | 231/19052 [01:12<1:30:40,  3.46it/s]"
     ]
    },
    {
     "name": "stdout",
     "output_type": "stream",
     "text": [
      "Parsing using parse_table_type_1\n",
      "https://www.fifteensquared.net/2020/12/01/guardian-28305-qaos/\n",
      "Parsing using parse_table_type_2\n"
     ]
    },
    {
     "name": "stderr",
     "output_type": "stream",
     "text": [
      "\r",
      "  1%|          | 232/19052 [01:13<1:39:14,  3.16it/s]"
     ]
    },
    {
     "name": "stdout",
     "output_type": "stream",
     "text": [
      "https://www.fifteensquared.net/2020/09/22/financial-times-16588-sleuth/\n"
     ]
    },
    {
     "name": "stderr",
     "output_type": "stream",
     "text": [
      "\r",
      "  1%|          | 233/19052 [01:13<1:31:27,  3.43it/s]"
     ]
    },
    {
     "name": "stdout",
     "output_type": "stream",
     "text": [
      "https://www.fifteensquared.net/2020/12/04/financial-times-16651-by-wanderer/\n",
      "Parsing using parse_table_type_1\n"
     ]
    },
    {
     "name": "stderr",
     "output_type": "stream",
     "text": [
      "\r",
      "  1%|          | 234/19052 [01:13<1:26:31,  3.62it/s]"
     ]
    },
    {
     "name": "stdout",
     "output_type": "stream",
     "text": [
      "https://www.fifteensquared.net/2020/10/18/azed-2522/\n"
     ]
    },
    {
     "name": "stderr",
     "output_type": "stream",
     "text": [
      "\r",
      "  1%|          | 235/19052 [01:14<1:41:10,  3.10it/s]"
     ]
    },
    {
     "name": "stdout",
     "output_type": "stream",
     "text": [
      "https://www.fifteensquared.net/2020/10/04/everyman-3859/\n",
      "Parsing using parse_table_type_1\n"
     ]
    },
    {
     "name": "stderr",
     "output_type": "stream",
     "text": [
      "  1%|          | 237/19052 [01:14<1:22:59,  3.78it/s]"
     ]
    },
    {
     "name": "stdout",
     "output_type": "stream",
     "text": [
      "https://www.fifteensquared.net/2020/11/28/independent-10649-by-nimrod-saturday-puzzle-28-november-2020/\n",
      "Parsing using parse_table_type_3\n",
      "https://www.fifteensquared.net/2021/03/19/independent-10743-by-phi/\n"
     ]
    },
    {
     "name": "stderr",
     "output_type": "stream",
     "text": [
      "\r",
      "  1%|          | 238/19052 [01:14<1:29:23,  3.51it/s]"
     ]
    },
    {
     "name": "stdout",
     "output_type": "stream",
     "text": [
      "Parsing using parse_list_type_2\n",
      "https://www.fifteensquared.net/2020/10/01/independent-10599-serpent/\n"
     ]
    },
    {
     "name": "stderr",
     "output_type": "stream",
     "text": [
      "\r",
      "  1%|▏         | 239/19052 [01:15<1:29:49,  3.49it/s]"
     ]
    },
    {
     "name": "stdout",
     "output_type": "stream",
     "text": [
      "https://www.fifteensquared.net/2020/10/16/guardian-28266-philistine/\n",
      "Parsing using parse_table_type_2\n"
     ]
    },
    {
     "name": "stderr",
     "output_type": "stream",
     "text": [
      "\r",
      "  1%|▏         | 240/19052 [01:15<1:36:40,  3.24it/s]"
     ]
    },
    {
     "name": "stdout",
     "output_type": "stream",
     "text": [
      "https://www.fifteensquared.net/2021/03/21/azed-no-2544-plain/\n",
      "Parsing using parse_table_type_1\n"
     ]
    },
    {
     "name": "stderr",
     "output_type": "stream",
     "text": [
      "\r",
      "  1%|▏         | 241/19052 [01:15<1:28:06,  3.56it/s]"
     ]
    },
    {
     "name": "stdout",
     "output_type": "stream",
     "text": [
      "https://www.fifteensquared.net/2020/11/05/financial-times-16626-by-neo/\n",
      "Parsing using parse_table_type_1\n"
     ]
    },
    {
     "name": "stderr",
     "output_type": "stream",
     "text": [
      "\r",
      "  1%|▏         | 242/19052 [01:15<1:24:55,  3.69it/s]"
     ]
    },
    {
     "name": "stdout",
     "output_type": "stream",
     "text": [
      "https://www.fifteensquared.net/2020/09/22/inquisitor-1664-codenames-by-phi/\n"
     ]
    },
    {
     "name": "stderr",
     "output_type": "stream",
     "text": [
      "  1%|▏         | 244/19052 [01:16<1:18:01,  4.02it/s]"
     ]
    },
    {
     "name": "stdout",
     "output_type": "stream",
     "text": [
      "https://www.fifteensquared.net/2020/10/09/financial-times-16603-by-wanderer/\n",
      "Parsing using parse_table_type_1\n",
      "https://www.fifteensquared.net/2020/09/08/guardian-28233-nutmeg/\n",
      "Parsing using parse_list_type_1\n"
     ]
    },
    {
     "name": "stderr",
     "output_type": "stream",
     "text": [
      "  1%|▏         | 246/19052 [01:17<1:26:59,  3.60it/s]"
     ]
    },
    {
     "name": "stdout",
     "output_type": "stream",
     "text": [
      "https://www.fifteensquared.net/2021/01/20/financial-times-16688-by-julius/\n",
      "Parsing using parse_table_type_1\n",
      "https://www.fifteensquared.net/2021/04/08/enigmatic-variations-no-1480-spoiler-alert-by-kcit/\n"
     ]
    },
    {
     "name": "stderr",
     "output_type": "stream",
     "text": [
      "\r",
      "  1%|▏         | 247/19052 [01:17<1:36:42,  3.24it/s]"
     ]
    },
    {
     "name": "stdout",
     "output_type": "stream",
     "text": [
      "Parsing using parse_list_type_1\n",
      "https://www.fifteensquared.net/2021/04/30/independent-10779-silvanus/\n"
     ]
    },
    {
     "name": "stderr",
     "output_type": "stream",
     "text": [
      "\r",
      "  1%|▏         | 248/19052 [01:17<1:41:21,  3.09it/s]"
     ]
    },
    {
     "name": "stdout",
     "output_type": "stream",
     "text": [
      "Parsing using parse_list_type_1\n",
      "https://www.fifteensquared.net/2020/11/19/financial-times-16628-by-mudd/\n",
      "Parsing using parse_table_type_1\n"
     ]
    },
    {
     "name": "stderr",
     "output_type": "stream",
     "text": [
      "\r",
      "  1%|▏         | 249/19052 [01:18<1:33:37,  3.35it/s]"
     ]
    },
    {
     "name": "stdout",
     "output_type": "stream",
     "text": [
      "https://www.fifteensquared.net/2021/01/31/general-discussion-8/\n"
     ]
    },
    {
     "name": "stderr",
     "output_type": "stream",
     "text": [
      "\r",
      "  1%|▏         | 250/19052 [01:18<2:03:52,  2.53it/s]"
     ]
    },
    {
     "name": "stdout",
     "output_type": "stream",
     "text": [
      "https://www.fifteensquared.net/2021/05/11/independent-10788-by-phi/\n",
      "Parsing using parse_table_type_1\n"
     ]
    },
    {
     "name": "stderr",
     "output_type": "stream",
     "text": [
      "  1%|▏         | 252/19052 [01:19<1:36:26,  3.25it/s]"
     ]
    },
    {
     "name": "stdout",
     "output_type": "stream",
     "text": [
      "https://www.fifteensquared.net/2020/12/10/financial-times-16646-by-julius/\n",
      "Parsing using parse_list_type_1\n",
      "https://www.fifteensquared.net/2021/02/10/independent-10711-by-eccles/\n"
     ]
    },
    {
     "name": "stderr",
     "output_type": "stream",
     "text": [
      "\r",
      "  1%|▏         | 253/19052 [01:19<1:27:26,  3.58it/s]"
     ]
    },
    {
     "name": "stdout",
     "output_type": "stream",
     "text": [
      "Parsing using parse_table_type_1\n",
      "https://www.fifteensquared.net/2021/02/27/guardian-saturday-puzzle-28374-qaos/\n",
      "Parsing using parse_list_type_1\n"
     ]
    },
    {
     "name": "stderr",
     "output_type": "stream",
     "text": [
      "\r",
      "  1%|▏         | 254/19052 [01:19<1:42:11,  3.07it/s]"
     ]
    },
    {
     "name": "stdout",
     "output_type": "stream",
     "text": [
      "https://www.fifteensquared.net/2021/02/28/independent-on-sunday-1618-by-nitsy/\n"
     ]
    },
    {
     "name": "stderr",
     "output_type": "stream",
     "text": [
      "\r",
      "  1%|▏         | 255/19052 [01:20<1:35:34,  3.28it/s]"
     ]
    },
    {
     "name": "stdout",
     "output_type": "stream",
     "text": [
      "https://www.fifteensquared.net/2021/05/28/independent-10803/\n"
     ]
    },
    {
     "name": "stderr",
     "output_type": "stream",
     "text": [
      "\r",
      "  1%|▏         | 256/19052 [01:20<1:47:22,  2.92it/s]"
     ]
    },
    {
     "name": "stdout",
     "output_type": "stream",
     "text": [
      "Parsing using parse_list_type_1\n",
      "https://www.fifteensquared.net/2020/10/22/financial-times-16604-by-mudd/\n"
     ]
    },
    {
     "name": "stderr",
     "output_type": "stream",
     "text": [
      "\r",
      "  1%|▏         | 257/19052 [01:20<1:32:40,  3.38it/s]"
     ]
    }
   ],
   "source": [
    "for url in tqdm.tqdm(urls):\n",
    "    with sqlite3.connect(\"cryptic_info/cryptics.sqlite3\") as conn:\n",
    "        cursor = conn.cursor()\n",
    "        cursor.execute(f\"SELECT html FROM raw_fifteensquared WHERE url = '{url}';\")\n",
    "        html, = cursor.fetchone()\n",
    "\n",
    "    try:\n",
    "        data = try_parse(html, url)\n",
    "    except:\n",
    "        pass\n",
    "    \n",
    "    if data is None:\n",
    "        continue\n",
    "\n",
    "    with sqlite3.connect(\"cryptic_info/cryptics.sqlite3\") as conn:\n",
    "        data.to_sql(\"parsed_fifteensquared\", conn, if_exists=\"append\", index=False)\n",
    "\n",
    "        cursor = conn.cursor()\n",
    "        sql = f\"UPDATE raw_fifteensquared SET is_parsed = TRUE, datetime_parsed = datetime('now') WHERE url = '{url}';\"\n",
    "        cursor.execute(sql)"
   ]
  },
  {
   "cell_type": "code",
   "execution_count": null,
   "metadata": {},
   "outputs": [],
   "source": []
  },
  {
   "cell_type": "code",
   "execution_count": null,
   "metadata": {},
   "outputs": [],
   "source": []
  },
  {
   "cell_type": "markdown",
   "metadata": {},
   "source": [
    "# Indexing Crosswords"
   ]
  },
  {
   "cell_type": "code",
   "execution_count": 1,
   "metadata": {},
   "outputs": [
    {
     "data": {
      "application/javascript": [
       "\n",
       "            setTimeout(function() {\n",
       "                var nbb_cell_id = 1;\n",
       "                var nbb_unformatted_code = \"%load_ext nb_black\\n\\nimport traceback\\nimport datetime\\nimport os\\nimport re\\nimport time\\nimport random\\nimport json\\nfrom collections import defaultdict\\n\\nimport requests\\nimport bs4\\nimport numpy as np\\nimport pandas as pd\\n\\nimport ipdb\\n\\nfrom cryptic_info.parse import try_parse\";\n",
       "                var nbb_formatted_code = \"%load_ext nb_black\\n\\nimport traceback\\nimport datetime\\nimport os\\nimport re\\nimport time\\nimport random\\nimport json\\nfrom collections import defaultdict\\n\\nimport requests\\nimport bs4\\nimport numpy as np\\nimport pandas as pd\\n\\nimport ipdb\\n\\nfrom cryptic_info.parse import try_parse\";\n",
       "                var nbb_cells = Jupyter.notebook.get_cells();\n",
       "                for (var i = 0; i < nbb_cells.length; ++i) {\n",
       "                    if (nbb_cells[i].input_prompt_number == nbb_cell_id) {\n",
       "                        if (nbb_cells[i].get_text() == nbb_unformatted_code) {\n",
       "                             nbb_cells[i].set_text(nbb_formatted_code);\n",
       "                        }\n",
       "                        break;\n",
       "                    }\n",
       "                }\n",
       "            }, 500);\n",
       "            "
      ],
      "text/plain": [
       "<IPython.core.display.Javascript object>"
      ]
     },
     "metadata": {},
     "output_type": "display_data"
    }
   ],
   "source": [
    "%load_ext nb_black\n",
    "\n",
    "import traceback\n",
    "import datetime\n",
    "import os\n",
    "import re\n",
    "import time\n",
    "import random\n",
    "import json\n",
    "from collections import defaultdict\n",
    "\n",
    "import requests\n",
    "import bs4\n",
    "import numpy as np\n",
    "import pandas as pd\n",
    "\n",
    "import ipdb\n",
    "\n",
    "from cryptic_info.parse import try_parse"
   ]
  },
  {
   "cell_type": "code",
   "execution_count": 2,
   "metadata": {},
   "outputs": [
    {
     "data": {
      "application/javascript": [
       "\n",
       "            setTimeout(function() {\n",
       "                var nbb_cell_id = 2;\n",
       "                var nbb_unformatted_code = \"from cryptic_info.tables import *\\nfrom cryptic_info.text import *\\nfrom cryptic_info.lists import *\\nfrom cryptic_info.utils import extract_puzzle_url\";\n",
       "                var nbb_formatted_code = \"from cryptic_info.tables import *\\nfrom cryptic_info.text import *\\nfrom cryptic_info.lists import *\\nfrom cryptic_info.utils import extract_puzzle_url\";\n",
       "                var nbb_cells = Jupyter.notebook.get_cells();\n",
       "                for (var i = 0; i < nbb_cells.length; ++i) {\n",
       "                    if (nbb_cells[i].input_prompt_number == nbb_cell_id) {\n",
       "                        if (nbb_cells[i].get_text() == nbb_unformatted_code) {\n",
       "                             nbb_cells[i].set_text(nbb_formatted_code);\n",
       "                        }\n",
       "                        break;\n",
       "                    }\n",
       "                }\n",
       "            }, 500);\n",
       "            "
      ],
      "text/plain": [
       "<IPython.core.display.Javascript object>"
      ]
     },
     "metadata": {},
     "output_type": "display_data"
    }
   ],
   "source": [
    "from cryptic_info.tables import *\n",
    "from cryptic_info.text import *\n",
    "from cryptic_info.lists import *\n",
    "from cryptic_info.utils import extract_puzzle_url"
   ]
  },
  {
   "cell_type": "code",
   "execution_count": 3,
   "metadata": {},
   "outputs": [
    {
     "data": {
      "application/javascript": [
       "\n",
       "            setTimeout(function() {\n",
       "                var nbb_cell_id = 3;\n",
       "                var nbb_unformatted_code = \"headers = {\\n    \\\"User-Agent\\\": \\\"Mozilla/5.0 (X11; Linux x86_64)\\\",\\n    \\\"Accept-Encoding\\\": \\\"gzip\\\",\\n}\";\n",
       "                var nbb_formatted_code = \"headers = {\\n    \\\"User-Agent\\\": \\\"Mozilla/5.0 (X11; Linux x86_64)\\\",\\n    \\\"Accept-Encoding\\\": \\\"gzip\\\",\\n}\";\n",
       "                var nbb_cells = Jupyter.notebook.get_cells();\n",
       "                for (var i = 0; i < nbb_cells.length; ++i) {\n",
       "                    if (nbb_cells[i].input_prompt_number == nbb_cell_id) {\n",
       "                        if (nbb_cells[i].get_text() == nbb_unformatted_code) {\n",
       "                             nbb_cells[i].set_text(nbb_formatted_code);\n",
       "                        }\n",
       "                        break;\n",
       "                    }\n",
       "                }\n",
       "            }, 500);\n",
       "            "
      ],
      "text/plain": [
       "<IPython.core.display.Javascript object>"
      ]
     },
     "metadata": {},
     "output_type": "display_data"
    }
   ],
   "source": [
    "headers = {\n",
    "    \"User-Agent\": \"Mozilla/5.0 (X11; Linux x86_64)\",\n",
    "    \"Accept-Encoding\": \"gzip\",\n",
    "}"
   ]
  },
  {
   "cell_type": "markdown",
   "metadata": {},
   "source": [
    "## Getting URLs"
   ]
  },
  {
   "cell_type": "raw",
   "metadata": {},
   "source": [
    "# Create initial metadata JSON\n",
    "\n",
    "metadata = dict()\n",
    "\n",
    "metadata[\"last_run\"] = (\n",
    "    datetime.datetime.now().astimezone(datetime.timezone.utc).strftime(\"%c %Z\")\n",
    ")\n",
    "metadata[\"unindexed_urls\"] = []\n",
    "metadata[\"indexed_urls\"] = []\n",
    "metadata[\"errored_urls\"] = []\n",
    "\n",
    "SITEMAP_URL = \"https://www.fifteensquared.net/wp-sitemap.xml\"\n",
    "\n",
    "# with open(\"cryptic_info/metadata.json\") as f:\n",
    "#     metadata = json.load(f)\n",
    "\n",
    "response = requests.get(SITEMAP_URL, headers=headers)\n",
    "soup = bs4.BeautifulSoup(response.text)\n",
    "\n",
    "# Just do sitemaps 9 and 10 for now\n",
    "sitemaps = list(\n",
    "    reversed(\n",
    "        [\n",
    "            sitemap.text\n",
    "            for sitemap in soup.find_all(\"sitemap\")\n",
    "            if re.search(\n",
    "                r\"https://www.fifteensquared.net/wp-sitemap-posts-post-(9|10).xml\",\n",
    "                sitemap.text,\n",
    "            )\n",
    "        ]\n",
    "    )\n",
    ")\n",
    "\n",
    "for sitemap in sitemaps:\n",
    "    response = requests.get(sitemap, headers=headers)\n",
    "    soup = bs4.BeautifulSoup(response.text)\n",
    "    urls = [url.text for url in soup.find_all(\"url\")]\n",
    "    metadata[\"unindexed_urls\"].extend(urls)\n",
    "\n",
    "with open(\"cryptic_info/metadata.json\", \"w+\") as f:\n",
    "    json.dump(metadata, f)"
   ]
  },
  {
   "cell_type": "code",
   "execution_count": null,
   "metadata": {},
   "outputs": [],
   "source": []
  },
  {
   "cell_type": "markdown",
   "metadata": {},
   "source": [
    "## Testing out"
   ]
  },
  {
   "cell_type": "raw",
   "metadata": {},
   "source": [
    "# Tables - type 1\n",
    "# source_url = (\n",
    "# \"https://www.fifteensquared.net/2021/05/20/financial-times-16790-by-leonidas/\"\n",
    "# \"https://www.fifteensquared.net/2021/05/21/financial-times-16791-by-buccaneer/\"\n",
    "# \"https://www.fifteensquared.net/2021/05/21/independent-10797-by-phi/\"\n",
    "# \"https://www.fifteensquared.net/2021/05/23/azed-no-2553-plain/\"\n",
    "# \"https://www.fifteensquared.net/2021/05/23/everyman-3892/\"\n",
    "# \"https://www.fifteensquared.net/2021/05/30/azed-no-2554-plain/\"\n",
    "# )\n",
    "\n",
    "# Tables - type 2\n",
    "# source_url = \"https://www.fifteensquared.net/2021/05/17/guardian-28447-anto/\"\n",
    "\n",
    "# Table - type 3\n",
    "# source_url = \"http://www.fifteensquared.net/2021/05/22/independent-10798-by-alchemi-saturday-puzzle-22-may-2021/\"\n",
    "# source_url = \"http://www.fifteensquared.net/2021/05/24/cyclops-702-gigantic-hiccup/\"\n",
    "\n",
    "# Table - type 4\n",
    "source_url = \"https://www.fifteensquared.net/2020/09/06/azed-2516/\"\n",
    "source_url = \"https://www.fifteensquared.net/2020/09/02/independent-10574-eccles/\"\n",
    "source_url = \"https://www.fifteensquared.net/2020/09/08/independent-10579-kairos/\"\n",
    "\n",
    "# List - type 1\n",
    "# source_url = (\n",
    "# \"https://www.fifteensquared.net/2021/05/22/guardian-saturday-puzzle-28446-tramp/\"\n",
    "# \"https://www.fifteensquared.net/2021/05/23/independent-on-sunday-1630-by-raich/\"\n",
    "# \"https://www.fifteensquared.net/2021/05/19/guardian-28449-pasquale/\"\n",
    "# \"https://www.fifteensquared.net/2021/05/17/guardian-quiptic-1122-hectence/\"\n",
    "# \"https://www.fifteensquared.net/2021/05/16/independent-on-sunday-1629-hoskins/\"\n",
    "# )\n",
    "\n",
    "# List - type 2\n",
    "# source_url = (\n",
    "# \"https://www.fifteensquared.net/2021/05/20/independent-10796-by-tees/\"\n",
    "# \"https://www.fifteensquared.net/2021/05/17/financial-times-16787-by-peto/\"\n",
    "# \"https://www.fifteensquared.net/2021/06/02/guardian-28461-imogen/\"\n",
    "# \"https://www.fifteensquared.net/2021/06/01/independent-10806-by-kairos/\"\n",
    "# \"http://www.fifteensquared.net/2021/05/15/independent-10792-by-monk/\"\n",
    "# )\n",
    "\n",
    "# List - type 3\n",
    "# source_url = \"https://www.fifteensquared.net/2021/06/01/financial-times-16800-chalmie/\"\n",
    "# source_url = \"https://www.fifteensquared.net/2021/05/21/guardian-cryptic-28451-puck/\"\n",
    "# source_url = \"https://www.fifteensquared.net/2021/05/24/guardian-quiptic-1123-matilda/\"\n",
    "\n",
    "# Hihoba does hard themed puzzles, and formats their posts fairly inconsistently, depending on the theme\n",
    "# https://www.fifteensquared.net/author/hihoba/\n",
    "# source_url = \"https://www.fifteensquared.net/2021/05/18/inquisitor-1698-spooky-manifestations-by-kruger/\"\n",
    "\n",
    "# RatkojaRiku does not include clues with their posts.\n",
    "# https://www.fifteensquared.net/author/ratkojariku/\n",
    "# source_url = \"https://www.fifteensquared.net/2021/05/13/independent-10790-serpent/\"\n",
    "\n",
    "# FIXME: why does the extract_definitions fail? Not urgent\n",
    "# source_url = \"https://www.fifteensquared.net/2021/05/16/everyman-3891/\"\n",
    "\n",
    "# TODO\n",
    "# source_url = \"https://www.fifteensquared.net/2020/09/03/independent-10575-dalibor/\"\n",
    "# source_url = \"https://www.fifteensquared.net/2020/09/05/guardian-prize-28225-by-maskarade/\"\n",
    "# source_url = \"https://www.fifteensquared.net/2020/09/09/independent-10580-tees/\"\n",
    "\n",
    "response = requests.get(source_url, headers=headers)"
   ]
  },
  {
   "cell_type": "code",
   "execution_count": 4,
   "metadata": {},
   "outputs": [
    {
     "data": {
      "application/javascript": [
       "\n",
       "            setTimeout(function() {\n",
       "                var nbb_cell_id = 4;\n",
       "                var nbb_unformatted_code = \"# source_url = \\\"https://times-xwd-times.livejournal.com/2550896.html\\\"\\nsource_url = \\\"https://times-xwd-times.livejournal.com/2557034.html\\\"\\n\\n# FIXME: weird mobile format thing?\\n# source_url = \\\"https://times-xwd-times.livejournal.com/2558118.html\\\"\\n\\n# FIXME: three-line\\n# source_url = \\\"https://times-xwd-times.livejournal.com/2558684.html\\\"\\nresponse = requests.get(source_url, headers=headers)\";\n",
       "                var nbb_formatted_code = \"# source_url = \\\"https://times-xwd-times.livejournal.com/2550896.html\\\"\\nsource_url = \\\"https://times-xwd-times.livejournal.com/2557034.html\\\"\\n\\n# FIXME: weird mobile format thing?\\n# source_url = \\\"https://times-xwd-times.livejournal.com/2558118.html\\\"\\n\\n# FIXME: three-line\\n# source_url = \\\"https://times-xwd-times.livejournal.com/2558684.html\\\"\\nresponse = requests.get(source_url, headers=headers)\";\n",
       "                var nbb_cells = Jupyter.notebook.get_cells();\n",
       "                for (var i = 0; i < nbb_cells.length; ++i) {\n",
       "                    if (nbb_cells[i].input_prompt_number == nbb_cell_id) {\n",
       "                        if (nbb_cells[i].get_text() == nbb_unformatted_code) {\n",
       "                             nbb_cells[i].set_text(nbb_formatted_code);\n",
       "                        }\n",
       "                        break;\n",
       "                    }\n",
       "                }\n",
       "            }, 500);\n",
       "            "
      ],
      "text/plain": [
       "<IPython.core.display.Javascript object>"
      ]
     },
     "metadata": {},
     "output_type": "display_data"
    }
   ],
   "source": [
    "# source_url = \"https://times-xwd-times.livejournal.com/2550896.html\"\n",
    "\n",
    "# FIXME: weird mobile format thing?\n",
    "# source_url = \"https://times-xwd-times.livejournal.com/2558118.html\"\n",
    "\n",
    "# FIXME: three-line\n",
    "# source_url = \"https://times-xwd-times.livejournal.com/2558684.html\"\n",
    "response = requests.get(source_url, headers=headers)"
   ]
  },
  {
   "cell_type": "code",
   "execution_count": 5,
   "metadata": {
    "scrolled": true
   },
   "outputs": [
    {
     "data": {
      "application/javascript": [
       "\n",
       "            setTimeout(function() {\n",
       "                var nbb_cell_id = 5;\n",
       "                var nbb_unformatted_code = \"data = try_parse(response, source_url)\\ndata\";\n",
       "                var nbb_formatted_code = \"data = try_parse(response, source_url)\\ndata\";\n",
       "                var nbb_cells = Jupyter.notebook.get_cells();\n",
       "                for (var i = 0; i < nbb_cells.length; ++i) {\n",
       "                    if (nbb_cells[i].input_prompt_number == nbb_cell_id) {\n",
       "                        if (nbb_cells[i].get_text() == nbb_unformatted_code) {\n",
       "                             nbb_cells[i].set_text(nbb_formatted_code);\n",
       "                        }\n",
       "                        break;\n",
       "                    }\n",
       "                }\n",
       "            }, 500);\n",
       "            "
      ],
      "text/plain": [
       "<IPython.core.display.Javascript object>"
      ]
     },
     "metadata": {},
     "output_type": "display_data"
    }
   ],
   "source": [
    "data = try_parse(response, source_url)\n",
    "data"
   ]
  },
  {
   "cell_type": "code",
   "execution_count": 6,
   "metadata": {
    "scrolled": true
   },
   "outputs": [
    {
     "ename": "IndexError",
     "evalue": "list index out of range",
     "output_type": "error",
     "traceback": [
      "\u001b[0;31m---------------------------------------------------------------------------\u001b[0m",
      "\u001b[0;31mIndexError\u001b[0m                                Traceback (most recent call last)",
      "\u001b[0;32m<ipython-input-6-5dbab3d4512f>\u001b[0m in \u001b[0;36m<module>\u001b[0;34m\u001b[0m\n\u001b[0;32m----> 1\u001b[0;31m \u001b[0mparse_text_type_1\u001b[0m\u001b[0;34m(\u001b[0m\u001b[0mresponse\u001b[0m\u001b[0;34m)\u001b[0m\u001b[0;34m\u001b[0m\u001b[0;34m\u001b[0m\u001b[0m\n\u001b[0m",
      "\u001b[0;32m~/cryptic-info/cryptic_info/text.py\u001b[0m in \u001b[0;36mparse_text_type_1\u001b[0;34m(response)\u001b[0m\n\u001b[1;32m     37\u001b[0m     \u001b[0;31m# Get rid of preamble\u001b[0m\u001b[0;34m\u001b[0m\u001b[0;34m\u001b[0m\u001b[0;34m\u001b[0m\u001b[0m\n\u001b[1;32m     38\u001b[0m     \u001b[0mlines\u001b[0m \u001b[0;34m=\u001b[0m \u001b[0;34m[\u001b[0m\u001b[0mline\u001b[0m\u001b[0;34m.\u001b[0m\u001b[0mstrip\u001b[0m\u001b[0;34m(\u001b[0m\u001b[0;34m)\u001b[0m \u001b[0;32mfor\u001b[0m \u001b[0mline\u001b[0m \u001b[0;32min\u001b[0m \u001b[0masset_body\u001b[0m\u001b[0;34m.\u001b[0m\u001b[0mtext\u001b[0m\u001b[0;34m.\u001b[0m\u001b[0msplitlines\u001b[0m\u001b[0;34m(\u001b[0m\u001b[0;34m)\u001b[0m \u001b[0;32mif\u001b[0m \u001b[0mline\u001b[0m\u001b[0;34m.\u001b[0m\u001b[0mstrip\u001b[0m\u001b[0;34m(\u001b[0m\u001b[0;34m)\u001b[0m\u001b[0;34m]\u001b[0m\u001b[0;34m\u001b[0m\u001b[0;34m\u001b[0m\u001b[0m\n\u001b[0;32m---> 39\u001b[0;31m     \u001b[0;32mwhile\u001b[0m \u001b[0mlines\u001b[0m\u001b[0;34m[\u001b[0m\u001b[0;36m0\u001b[0m\u001b[0;34m]\u001b[0m\u001b[0;34m.\u001b[0m\u001b[0mlower\u001b[0m\u001b[0;34m(\u001b[0m\u001b[0;34m)\u001b[0m \u001b[0;32mnot\u001b[0m \u001b[0;32min\u001b[0m \u001b[0;34m[\u001b[0m\u001b[0;34m\"across\"\u001b[0m\u001b[0;34m,\u001b[0m \u001b[0;34m\"down\"\u001b[0m\u001b[0;34m]\u001b[0m\u001b[0;34m:\u001b[0m\u001b[0;34m\u001b[0m\u001b[0;34m\u001b[0m\u001b[0m\n\u001b[0m\u001b[1;32m     40\u001b[0m         \u001b[0mlines\u001b[0m\u001b[0;34m.\u001b[0m\u001b[0mpop\u001b[0m\u001b[0;34m(\u001b[0m\u001b[0;36m0\u001b[0m\u001b[0;34m)\u001b[0m\u001b[0;34m\u001b[0m\u001b[0;34m\u001b[0m\u001b[0m\n\u001b[1;32m     41\u001b[0m \u001b[0;34m\u001b[0m\u001b[0m\n",
      "\u001b[0;31mIndexError\u001b[0m: list index out of range"
     ]
    },
    {
     "data": {
      "application/javascript": [
       "\n",
       "            setTimeout(function() {\n",
       "                var nbb_cell_id = 6;\n",
       "                var nbb_unformatted_code = \"parse_text_type_1(response)\";\n",
       "                var nbb_formatted_code = \"parse_text_type_1(response)\";\n",
       "                var nbb_cells = Jupyter.notebook.get_cells();\n",
       "                for (var i = 0; i < nbb_cells.length; ++i) {\n",
       "                    if (nbb_cells[i].input_prompt_number == nbb_cell_id) {\n",
       "                        if (nbb_cells[i].get_text() == nbb_unformatted_code) {\n",
       "                             nbb_cells[i].set_text(nbb_formatted_code);\n",
       "                        }\n",
       "                        break;\n",
       "                    }\n",
       "                }\n",
       "            }, 500);\n",
       "            "
      ],
      "text/plain": [
       "<IPython.core.display.Javascript object>"
      ]
     },
     "metadata": {},
     "output_type": "display_data"
    }
   ],
   "source": [
    "parse_text_type_1(response)"
   ]
  },
  {
   "cell_type": "code",
   "execution_count": null,
   "metadata": {},
   "outputs": [],
   "source": []
  },
  {
   "cell_type": "raw",
   "metadata": {},
   "source": [
    "def is_parsable_text_type_1(response):\n",
    "    soup = bs4.BeautifulSoup(response.text, \"html.parser\")\n",
    "    asset_body = soup.find(\"div\", attrs={\"class\": \"asset-body\"})\n",
    "    for br in asset_body.find_all(\"br\"):\n",
    "        br.replace_with(\"\\n\")\n",
    "\n",
    "    if not 20 <= len(asset_body.find_all(\"u\")) <= 40:\n",
    "        return False\n",
    "\n",
    "    for tag in asset_body.find_all():\n",
    "        tag.extract()\n",
    "\n",
    "    if not 100 <= len(asset_body):\n",
    "        return False\n",
    "\n",
    "    return True"
   ]
  },
  {
   "cell_type": "raw",
   "metadata": {},
   "source": [
    "def parse_text_type_1(response):\n",
    "    soup = bs4.BeautifulSoup(response.text, \"html.parser\")\n",
    "    asset_body = soup.find(\"div\", attrs={\"class\": \"asset-body\"})\n",
    "    for br in asset_body.find_all(\"br\"):\n",
    "        br.replace_with(\"\\n\")\n",
    "\n",
    "    # Get rid of preamble\n",
    "    lines = [line.strip() for line in asset_body.text.splitlines() if line.strip()]\n",
    "    while lines[0].lower() not in [\"across\", \"down\"]:\n",
    "        lines.pop(0)\n",
    "\n",
    "    annotations = []\n",
    "    answers = []\n",
    "    clues = []\n",
    "    clue_numbers = []\n",
    "\n",
    "    while lines:\n",
    "        if lines[0].lower() in [\"across\", \"down\"]:\n",
    "            clue_direction = lines.pop(0)\n",
    "            clue_direction = \"a\" if clue_direction.lower() == \"across\" else \"d\"\n",
    "        else:\n",
    "            line_1 = lines.pop(0)\n",
    "            line_2 = lines.pop(0)\n",
    "\n",
    "            clue_number, clue = line_1.split(maxsplit=1)\n",
    "            match = re.search(\"^[A-Z ]*\", line_2)\n",
    "            answer = line_2[: match.end()].strip()\n",
    "            annotation = line_2[match.end() :].strip(\n",
    "                string.whitespace + string.punctuation\n",
    "            )\n",
    "\n",
    "            clue_numbers.append(clue_number.strip(string.punctuation) + clue_direction)\n",
    "            clues.append(clue)\n",
    "            answers.append(answer)\n",
    "            annotations.append(annotation)\n",
    "\n",
    "    definitions = extract_definitions(asset_body, clues, 2)\n",
    "\n",
    "    table = pd.DataFrame([clue_numbers, clues, definitions, answers, annotations]).T\n",
    "    table.columns = [\"ClueNumber\", \"Clue\", \"Definition\", \"Answer\", \"Annotation\"]\n",
    "\n",
    "    return table"
   ]
  },
  {
   "cell_type": "code",
   "execution_count": null,
   "metadata": {},
   "outputs": [],
   "source": []
  },
  {
   "cell_type": "code",
   "execution_count": 81,
   "metadata": {},
   "outputs": [
    {
     "data": {
      "application/javascript": [
       "\n",
       "            setTimeout(function() {\n",
       "                var nbb_cell_id = 81;\n",
       "                var nbb_unformatted_code = \"import string\";\n",
       "                var nbb_formatted_code = \"import string\";\n",
       "                var nbb_cells = Jupyter.notebook.get_cells();\n",
       "                for (var i = 0; i < nbb_cells.length; ++i) {\n",
       "                    if (nbb_cells[i].input_prompt_number == nbb_cell_id) {\n",
       "                        if (nbb_cells[i].get_text() == nbb_unformatted_code) {\n",
       "                             nbb_cells[i].set_text(nbb_formatted_code);\n",
       "                        }\n",
       "                        break;\n",
       "                    }\n",
       "                }\n",
       "            }, 500);\n",
       "            "
      ],
      "text/plain": [
       "<IPython.core.display.Javascript object>"
      ]
     },
     "metadata": {},
     "output_type": "display_data"
    }
   ],
   "source": [
    "import string"
   ]
  },
  {
   "cell_type": "code",
   "execution_count": 84,
   "metadata": {},
   "outputs": [
    {
     "data": {
      "application/javascript": [
       "\n",
       "            setTimeout(function() {\n",
       "                var nbb_cell_id = 84;\n",
       "                var nbb_unformatted_code = \"from cryptic_info.tables import extract_definitions\";\n",
       "                var nbb_formatted_code = \"from cryptic_info.tables import extract_definitions\";\n",
       "                var nbb_cells = Jupyter.notebook.get_cells();\n",
       "                for (var i = 0; i < nbb_cells.length; ++i) {\n",
       "                    if (nbb_cells[i].input_prompt_number == nbb_cell_id) {\n",
       "                        if (nbb_cells[i].get_text() == nbb_unformatted_code) {\n",
       "                             nbb_cells[i].set_text(nbb_formatted_code);\n",
       "                        }\n",
       "                        break;\n",
       "                    }\n",
       "                }\n",
       "            }, 500);\n",
       "            "
      ],
      "text/plain": [
       "<IPython.core.display.Javascript object>"
      ]
     },
     "metadata": {},
     "output_type": "display_data"
    }
   ],
   "source": [
    "from cryptic_info.tables import extract_definitions"
   ]
  },
  {
   "cell_type": "code",
   "execution_count": null,
   "metadata": {},
   "outputs": [],
   "source": []
  },
  {
   "cell_type": "code",
   "execution_count": null,
   "metadata": {},
   "outputs": [],
   "source": []
  },
  {
   "cell_type": "code",
   "execution_count": null,
   "metadata": {},
   "outputs": [],
   "source": []
  },
  {
   "cell_type": "code",
   "execution_count": null,
   "metadata": {},
   "outputs": [],
   "source": []
  },
  {
   "cell_type": "code",
   "execution_count": null,
   "metadata": {},
   "outputs": [],
   "source": []
  },
  {
   "cell_type": "code",
   "execution_count": 23,
   "metadata": {},
   "outputs": [
    {
     "data": {
      "application/javascript": [
       "\n",
       "            setTimeout(function() {\n",
       "                var nbb_cell_id = 23;\n",
       "                var nbb_unformatted_code = \"annotations = []\\nanswers = []\\nclues = []\\nclue_numbers = []\\ndefinitions = []\";\n",
       "                var nbb_formatted_code = \"annotations = []\\nanswers = []\\nclues = []\\nclue_numbers = []\\ndefinitions = []\";\n",
       "                var nbb_cells = Jupyter.notebook.get_cells();\n",
       "                for (var i = 0; i < nbb_cells.length; ++i) {\n",
       "                    if (nbb_cells[i].input_prompt_number == nbb_cell_id) {\n",
       "                        if (nbb_cells[i].get_text() == nbb_unformatted_code) {\n",
       "                             nbb_cells[i].set_text(nbb_formatted_code);\n",
       "                        }\n",
       "                        break;\n",
       "                    }\n",
       "                }\n",
       "            }, 500);\n",
       "            "
      ],
      "text/plain": [
       "<IPython.core.display.Javascript object>"
      ]
     },
     "metadata": {},
     "output_type": "display_data"
    }
   ],
   "source": []
  },
  {
   "cell_type": "code",
   "execution_count": null,
   "metadata": {},
   "outputs": [],
   "source": []
  },
  {
   "cell_type": "code",
   "execution_count": null,
   "metadata": {},
   "outputs": [],
   "source": []
  },
  {
   "cell_type": "code",
   "execution_count": null,
   "metadata": {},
   "outputs": [],
   "source": []
  }
 ],
 "metadata": {
  "kernelspec": {
   "display_name": "Python 3",
   "language": "python",
   "name": "python3"
  },
  "language_info": {
   "codemirror_mode": {
    "name": "ipython",
    "version": 3
   },
   "file_extension": ".py",
   "mimetype": "text/x-python",
   "name": "python",
   "nbconvert_exporter": "python",
   "pygments_lexer": "ipython3",
   "version": "3.7.6"
  }
 },
 "nbformat": 4,
 "nbformat_minor": 4
}
