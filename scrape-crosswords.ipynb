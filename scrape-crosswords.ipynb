{
 "cells": [
  {
   "cell_type": "code",
   "execution_count": 1,
   "metadata": {},
   "outputs": [
    {
     "data": {
      "application/javascript": [
       "\n",
       "            setTimeout(function() {\n",
       "                var nbb_cell_id = 1;\n",
       "                var nbb_unformatted_code = \"%load_ext nb_black\\n\\nimport os\\nimport re\\nimport time\\nimport random\\n\\nimport requests\\nimport bs4\\nimport numpy as np\\nimport pandas as pd\";\n",
       "                var nbb_formatted_code = \"%load_ext nb_black\\n\\nimport os\\nimport re\\nimport time\\nimport random\\n\\nimport requests\\nimport bs4\\nimport numpy as np\\nimport pandas as pd\";\n",
       "                var nbb_cells = Jupyter.notebook.get_cells();\n",
       "                for (var i = 0; i < nbb_cells.length; ++i) {\n",
       "                    if (nbb_cells[i].input_prompt_number == nbb_cell_id) {\n",
       "                        if (nbb_cells[i].get_text() == nbb_unformatted_code) {\n",
       "                             nbb_cells[i].set_text(nbb_formatted_code);\n",
       "                        }\n",
       "                        break;\n",
       "                    }\n",
       "                }\n",
       "            }, 500);\n",
       "            "
      ],
      "text/plain": [
       "<IPython.core.display.Javascript object>"
      ]
     },
     "metadata": {},
     "output_type": "display_data"
    }
   ],
   "source": [
    "%load_ext nb_black\n",
    "\n",
    "import os\n",
    "import re\n",
    "import time\n",
    "import random\n",
    "\n",
    "import requests\n",
    "import bs4\n",
    "import numpy as np\n",
    "import pandas as pd"
   ]
  },
  {
   "cell_type": "code",
   "execution_count": 2,
   "metadata": {},
   "outputs": [
    {
     "data": {
      "application/javascript": [
       "\n",
       "            setTimeout(function() {\n",
       "                var nbb_cell_id = 2;\n",
       "                var nbb_unformatted_code = \"headers = {\\n    \\\"User-Agent\\\": \\\"Mozilla/5.0 (X11; Linux x86_64)\\\",\\n    \\\"Accept-Encoding\\\": \\\"gzip\\\",\\n}\";\n",
       "                var nbb_formatted_code = \"headers = {\\n    \\\"User-Agent\\\": \\\"Mozilla/5.0 (X11; Linux x86_64)\\\",\\n    \\\"Accept-Encoding\\\": \\\"gzip\\\",\\n}\";\n",
       "                var nbb_cells = Jupyter.notebook.get_cells();\n",
       "                for (var i = 0; i < nbb_cells.length; ++i) {\n",
       "                    if (nbb_cells[i].input_prompt_number == nbb_cell_id) {\n",
       "                        if (nbb_cells[i].get_text() == nbb_unformatted_code) {\n",
       "                             nbb_cells[i].set_text(nbb_formatted_code);\n",
       "                        }\n",
       "                        break;\n",
       "                    }\n",
       "                }\n",
       "            }, 500);\n",
       "            "
      ],
      "text/plain": [
       "<IPython.core.display.Javascript object>"
      ]
     },
     "metadata": {},
     "output_type": "display_data"
    }
   ],
   "source": [
    "headers = {\n",
    "    \"User-Agent\": \"Mozilla/5.0 (X11; Linux x86_64)\",\n",
    "    \"Accept-Encoding\": \"gzip\",\n",
    "}"
   ]
  },
  {
   "cell_type": "markdown",
   "metadata": {},
   "source": [
    "## Tables"
   ]
  },
  {
   "cell_type": "code",
   "execution_count": 154,
   "metadata": {},
   "outputs": [
    {
     "data": {
      "application/javascript": [
       "\n",
       "            setTimeout(function() {\n",
       "                var nbb_cell_id = 154;\n",
       "                var nbb_unformatted_code = \"def is_parsable_table(table):\\n    \\\"\\\"\\\"\\n    Identifies if a table looks like this:\\n\\n            0          1                                                                    2\\n    0  ACROSS     ACROSS                                                               ACROSS\\n    1       1   ORGANIST                              Key worker possibly having to pedal (8)\\n    2     NaN        NaN                                                   Cryptic definition\\n    3       6     MEASLY                 Paltry bite to eat finally snaffled with cunning (6)\\n    4     NaN        NaN        MEA(l) (\\\"bite to eat\\\", finally snaffled) with SLY (\\\"cunning\\\")\\n                                             ...\\n    33   DOWN       DOWN                                                                 DOWN\\n    34      2  REPROBATE                              Record loot hoarded by rank villain (9)\\n    35    NaN        NaN  EP (extended play \\\"record\\\") + ROB (\\\"loot\\\") hoarded by RATE (\\\"rank\\\")\\n    36      3      ADIOS                       Spanish Cheers run dropped from broadcasts (5)\\n    37    NaN        NaN             R (run, in cricket) dropped from (r)ADIOS (\\\"broadcasts\\\")\\n                                             ...\\n    \\\"\\\"\\\"\\n    return all(\\n        [\\n            # There is a row that says ACROSS in all cells\\n            (table.astype(str).applymap(str.lower) == \\\"across\\\").all(axis=1).any(),\\n            # There is a row that says DOWN in all cells\\n            (table.astype(str).applymap(str.lower) == \\\"down\\\").all(axis=1).any(),\\n            # Asides from the ACROSS and DOWN rows, the first two colums are exactly half NaN\\n            2 * table[[0, 1]].isna().all(axis=1).sum() == table.shape[0] - 2,\\n            # The first column (except for the ACROSS and DOWN rows) is all numeric\\n            # This is what we expect to be the clue numbers\\n            # FIXME: double entry?\\n            all(\\n                [\\n                    s in [\\\"ACROSS\\\", \\\"DOWN\\\"] or any([c.isdigit() for c in s])\\n                    for s in table[0].dropna()\\n                ]\\n            ),\\n            # The second column (except for the ACROSS and DOWN rows) is all uppercase\\n            # This is what we expect to be the answers\\n            all([s in [\\\"ACROSS\\\", \\\"DOWN\\\"] or s.isupper() for s in table[1].dropna()]),\\n            # The third column (except for the ACROSS and DOWN rows) has around half of its\\n            # rows ending in enumerations, give or take 4\\n            # FIXME: some enumerations can be (10, hyph.) or (12, two wds.)\\n            np.abs(\\n                (\\n                    sum(\\n                        [\\n                            s in [\\\"ACROSS\\\", \\\"DOWN\\\"]\\n                            or bool(re.findall(\\\"\\\\([0-9,\\\\- ]+\\\\)$\\\", s))\\n                            for s in table[2].dropna()\\n                        ]\\n                    )\\n                    - 2\\n                )\\n                - ((table.shape[0] - 2) / 2)\\n            )\\n            <= 4,\\n        ]\\n    )\";\n",
       "                var nbb_formatted_code = \"def is_parsable_table(table):\\n    \\\"\\\"\\\"\\n    Identifies if a table looks like this:\\n\\n            0          1                                                                    2\\n    0  ACROSS     ACROSS                                                               ACROSS\\n    1       1   ORGANIST                              Key worker possibly having to pedal (8)\\n    2     NaN        NaN                                                   Cryptic definition\\n    3       6     MEASLY                 Paltry bite to eat finally snaffled with cunning (6)\\n    4     NaN        NaN        MEA(l) (\\\"bite to eat\\\", finally snaffled) with SLY (\\\"cunning\\\")\\n                                             ...\\n    33   DOWN       DOWN                                                                 DOWN\\n    34      2  REPROBATE                              Record loot hoarded by rank villain (9)\\n    35    NaN        NaN  EP (extended play \\\"record\\\") + ROB (\\\"loot\\\") hoarded by RATE (\\\"rank\\\")\\n    36      3      ADIOS                       Spanish Cheers run dropped from broadcasts (5)\\n    37    NaN        NaN             R (run, in cricket) dropped from (r)ADIOS (\\\"broadcasts\\\")\\n                                             ...\\n    \\\"\\\"\\\"\\n    return all(\\n        [\\n            # There is a row that says ACROSS in all cells\\n            (table.astype(str).applymap(str.lower) == \\\"across\\\").all(axis=1).any(),\\n            # There is a row that says DOWN in all cells\\n            (table.astype(str).applymap(str.lower) == \\\"down\\\").all(axis=1).any(),\\n            # Asides from the ACROSS and DOWN rows, the first two colums are exactly half NaN\\n            2 * table[[0, 1]].isna().all(axis=1).sum() == table.shape[0] - 2,\\n            # The first column (except for the ACROSS and DOWN rows) is all numeric\\n            # This is what we expect to be the clue numbers\\n            # FIXME: double entry?\\n            all(\\n                [\\n                    s in [\\\"ACROSS\\\", \\\"DOWN\\\"] or any([c.isdigit() for c in s])\\n                    for s in table[0].dropna()\\n                ]\\n            ),\\n            # The second column (except for the ACROSS and DOWN rows) is all uppercase\\n            # This is what we expect to be the answers\\n            all([s in [\\\"ACROSS\\\", \\\"DOWN\\\"] or s.isupper() for s in table[1].dropna()]),\\n            # The third column (except for the ACROSS and DOWN rows) has around half of its\\n            # rows ending in enumerations, give or take 4\\n            # FIXME: some enumerations can be (10, hyph.) or (12, two wds.)\\n            np.abs(\\n                (\\n                    sum(\\n                        [\\n                            s in [\\\"ACROSS\\\", \\\"DOWN\\\"]\\n                            or bool(re.findall(\\\"\\\\([0-9,\\\\- ]+\\\\)$\\\", s))\\n                            for s in table[2].dropna()\\n                        ]\\n                    )\\n                    - 2\\n                )\\n                - ((table.shape[0] - 2) / 2)\\n            )\\n            <= 4,\\n        ]\\n    )\";\n",
       "                var nbb_cells = Jupyter.notebook.get_cells();\n",
       "                for (var i = 0; i < nbb_cells.length; ++i) {\n",
       "                    if (nbb_cells[i].input_prompt_number == nbb_cell_id) {\n",
       "                        if (nbb_cells[i].get_text() == nbb_unformatted_code) {\n",
       "                             nbb_cells[i].set_text(nbb_formatted_code);\n",
       "                        }\n",
       "                        break;\n",
       "                    }\n",
       "                }\n",
       "            }, 500);\n",
       "            "
      ],
      "text/plain": [
       "<IPython.core.display.Javascript object>"
      ]
     },
     "metadata": {},
     "output_type": "display_data"
    }
   ],
   "source": [
    "def is_parsable_table(table):\n",
    "    \"\"\"\n",
    "    Identifies if a table looks like this:\n",
    "\n",
    "            0          1                                                                    2\n",
    "    0  ACROSS     ACROSS                                                               ACROSS\n",
    "    1       1   ORGANIST                              Key worker possibly having to pedal (8)\n",
    "    2     NaN        NaN                                                   Cryptic definition\n",
    "    3       6     MEASLY                 Paltry bite to eat finally snaffled with cunning (6)\n",
    "    4     NaN        NaN        MEA(l) (\"bite to eat\", finally snaffled) with SLY (\"cunning\")\n",
    "                                             ...\n",
    "    33   DOWN       DOWN                                                                 DOWN\n",
    "    34      2  REPROBATE                              Record loot hoarded by rank villain (9)\n",
    "    35    NaN        NaN  EP (extended play \"record\") + ROB (\"loot\") hoarded by RATE (\"rank\")\n",
    "    36      3      ADIOS                       Spanish Cheers run dropped from broadcasts (5)\n",
    "    37    NaN        NaN             R (run, in cricket) dropped from (r)ADIOS (\"broadcasts\")\n",
    "                                             ...\n",
    "    \"\"\"\n",
    "    return all(\n",
    "        [\n",
    "            # There is a row that says ACROSS in all cells\n",
    "            (table.astype(str).applymap(str.lower) == \"across\").all(axis=1).any(),\n",
    "            # There is a row that says DOWN in all cells\n",
    "            (table.astype(str).applymap(str.lower) == \"down\").all(axis=1).any(),\n",
    "            # Asides from the ACROSS and DOWN rows, the first two colums are exactly half NaN\n",
    "            2 * table[[0, 1]].isna().all(axis=1).sum() == table.shape[0] - 2,\n",
    "            # The first column (except for the ACROSS and DOWN rows) is all numeric\n",
    "            # This is what we expect to be the clue numbers\n",
    "            # FIXME: double entry?\n",
    "            all(\n",
    "                [\n",
    "                    s in [\"ACROSS\", \"DOWN\"] or any([c.isdigit() for c in s])\n",
    "                    for s in table[0].dropna()\n",
    "                ]\n",
    "            ),\n",
    "            # The second column (except for the ACROSS and DOWN rows) is all uppercase\n",
    "            # This is what we expect to be the answers\n",
    "            all([s in [\"ACROSS\", \"DOWN\"] or s.isupper() for s in table[1].dropna()]),\n",
    "            # The third column (except for the ACROSS and DOWN rows) has around half of its\n",
    "            # rows ending in enumerations, give or take 4\n",
    "            # FIXME: some enumerations can be (10, hyph.) or (12, two wds.)\n",
    "            np.abs(\n",
    "                (\n",
    "                    sum(\n",
    "                        [\n",
    "                            s in [\"ACROSS\", \"DOWN\"]\n",
    "                            or bool(re.findall(\"\\([0-9,\\- ]+\\)$\", s))\n",
    "                            for s in table[2].dropna()\n",
    "                        ]\n",
    "                    )\n",
    "                    - 2\n",
    "                )\n",
    "                - ((table.shape[0] - 2) / 2)\n",
    "            )\n",
    "            <= 4,\n",
    "        ]\n",
    "    )"
   ]
  },
  {
   "cell_type": "code",
   "execution_count": 155,
   "metadata": {},
   "outputs": [
    {
     "data": {
      "application/javascript": [
       "\n",
       "            setTimeout(function() {\n",
       "                var nbb_cell_id = 155;\n",
       "                var nbb_unformatted_code = \"def extract_definitions(soup, clues):\\n    raw_definitions = [\\n        tag.text\\n        for tag in soup.find_all(\\n            \\\"span\\\",\\n            attrs={\\\"style\\\": (lambda s: \\\"underline\\\" in s if s is not None else False)},\\n        )\\n    ]\\n\\n    definitions = []\\n    i = 0\\n\\n    while raw_definitions:\\n        definition = raw_definitions.pop(0)\\n        if definition in clues[i]:\\n            if len(definitions) > 0:\\n                definitions[-1] = \\\"/\\\".join([definitions[-1], definition])\\n            else:\\n                definitions.append(definition)\\n        elif definition in clues[i + 1]:\\n            definitions.append(definition)\\n            i += 1\\n        elif definition in clues[i + 2]:\\n            definitions.append(\\\"nan\\\")\\n            raw_definitions = [definition] + raw_definitions\\n            i += 1\\n\\n    if len(definitions) < len(clues):\\n        while len(definitions) < len(clues):\\n            definitions.append(\\\"nan\\\")\\n    elif len(definitions) > len(clues):\\n        return None\\n\\n    if all(\\n        [\\n            all([s.lower() in clue.lower() for s in definition.split(\\\"/\\\")])\\n            or definition == \\\"nan\\\"\\n            for (definition, clue) in zip(definitions, clues)\\n        ]\\n    ):\\n        return definitions\\n    else:\\n        return None\";\n",
       "                var nbb_formatted_code = \"def extract_definitions(soup, clues):\\n    raw_definitions = [\\n        tag.text\\n        for tag in soup.find_all(\\n            \\\"span\\\",\\n            attrs={\\\"style\\\": (lambda s: \\\"underline\\\" in s if s is not None else False)},\\n        )\\n    ]\\n\\n    definitions = []\\n    i = 0\\n\\n    while raw_definitions:\\n        definition = raw_definitions.pop(0)\\n        if definition in clues[i]:\\n            if len(definitions) > 0:\\n                definitions[-1] = \\\"/\\\".join([definitions[-1], definition])\\n            else:\\n                definitions.append(definition)\\n        elif definition in clues[i + 1]:\\n            definitions.append(definition)\\n            i += 1\\n        elif definition in clues[i + 2]:\\n            definitions.append(\\\"nan\\\")\\n            raw_definitions = [definition] + raw_definitions\\n            i += 1\\n\\n    if len(definitions) < len(clues):\\n        while len(definitions) < len(clues):\\n            definitions.append(\\\"nan\\\")\\n    elif len(definitions) > len(clues):\\n        return None\\n\\n    if all(\\n        [\\n            all([s.lower() in clue.lower() for s in definition.split(\\\"/\\\")])\\n            or definition == \\\"nan\\\"\\n            for (definition, clue) in zip(definitions, clues)\\n        ]\\n    ):\\n        return definitions\\n    else:\\n        return None\";\n",
       "                var nbb_cells = Jupyter.notebook.get_cells();\n",
       "                for (var i = 0; i < nbb_cells.length; ++i) {\n",
       "                    if (nbb_cells[i].input_prompt_number == nbb_cell_id) {\n",
       "                        if (nbb_cells[i].get_text() == nbb_unformatted_code) {\n",
       "                             nbb_cells[i].set_text(nbb_formatted_code);\n",
       "                        }\n",
       "                        break;\n",
       "                    }\n",
       "                }\n",
       "            }, 500);\n",
       "            "
      ],
      "text/plain": [
       "<IPython.core.display.Javascript object>"
      ]
     },
     "metadata": {},
     "output_type": "display_data"
    }
   ],
   "source": [
    "def extract_definitions(soup, clues):\n",
    "    raw_definitions = [\n",
    "        tag.text\n",
    "        for tag in soup.find_all(\n",
    "            \"span\",\n",
    "            attrs={\"style\": (lambda s: \"underline\" in s if s is not None else False)},\n",
    "        )\n",
    "    ]\n",
    "\n",
    "    definitions = []\n",
    "    i = 0\n",
    "\n",
    "    while raw_definitions:\n",
    "        definition = raw_definitions.pop(0)\n",
    "        if definition in clues[i]:\n",
    "            if len(definitions) > 0:\n",
    "                definitions[-1] = \"/\".join([definitions[-1], definition])\n",
    "            else:\n",
    "                definitions.append(definition)\n",
    "        elif definition in clues[i + 1]:\n",
    "            definitions.append(definition)\n",
    "            i += 1\n",
    "        elif definition in clues[i + 2]:\n",
    "            definitions.append(\"nan\")\n",
    "            raw_definitions = [definition] + raw_definitions\n",
    "            i += 1\n",
    "\n",
    "    if len(definitions) < len(clues):\n",
    "        while len(definitions) < len(clues):\n",
    "            definitions.append(\"nan\")\n",
    "    elif len(definitions) > len(clues):\n",
    "        return None\n",
    "\n",
    "    if all(\n",
    "        [\n",
    "            all([s.lower() in clue.lower() for s in definition.split(\"/\")])\n",
    "            or definition == \"nan\"\n",
    "            for (definition, clue) in zip(definitions, clues)\n",
    "        ]\n",
    "    ):\n",
    "        return definitions\n",
    "    else:\n",
    "        return None"
   ]
  },
  {
   "cell_type": "code",
   "execution_count": 161,
   "metadata": {},
   "outputs": [
    {
     "data": {
      "application/javascript": [
       "\n",
       "            setTimeout(function() {\n",
       "                var nbb_cell_id = 161;\n",
       "                var nbb_unformatted_code = \"def parse_table(table, soup):\\n    (across_index,) = np.where(table[0].str.lower() == \\\"across\\\")[0]\\n    (down_index,) = np.where(table[0].str.lower() == \\\"down\\\")[0]\\n\\n    # Clue numbers\\n    raw_clue_numbers = table[0].astype(str)\\n\\n    clue_numbers = []\\n    for i, row in enumerate(raw_clue_numbers):\\n        if i == across_index or i == down_index:\\n            continue\\n        elif row != \\\"nan\\\" and across_index < i < down_index:\\n            clue_numbers.append(row + \\\"a\\\")\\n        elif row != \\\"nan\\\":\\n            clue_numbers.append(row + \\\"d\\\")\\n\\n    # Answers\\n    raw_answers = table[1].str.upper().drop([across_index, down_index])\\n    answers = raw_answers[::2].tolist()\\n\\n    # Clues and annotations\\n    clues_and_annotations = table[2].drop([across_index, down_index])\\n    clues = clues_and_annotations[::2].tolist()\\n    annotations = clues_and_annotations[1::2].tolist()\\n    definitions = extract_definitions(soup, clues)\\n\\n    out = pd.DataFrame(\\n        data=np.transpose(np.array([clue_numbers, answers, clues, annotations])),\\n        columns=[\\\"ClueNumber\\\", \\\"Answer\\\", \\\"Clue\\\", \\\"Annotation\\\"],\\n    )\\n    if definitions is not None:\\n        out[\\\"Definition\\\"] = definitions\\n\\n    return out\";\n",
       "                var nbb_formatted_code = \"def parse_table(table, soup):\\n    (across_index,) = np.where(table[0].str.lower() == \\\"across\\\")[0]\\n    (down_index,) = np.where(table[0].str.lower() == \\\"down\\\")[0]\\n\\n    # Clue numbers\\n    raw_clue_numbers = table[0].astype(str)\\n\\n    clue_numbers = []\\n    for i, row in enumerate(raw_clue_numbers):\\n        if i == across_index or i == down_index:\\n            continue\\n        elif row != \\\"nan\\\" and across_index < i < down_index:\\n            clue_numbers.append(row + \\\"a\\\")\\n        elif row != \\\"nan\\\":\\n            clue_numbers.append(row + \\\"d\\\")\\n\\n    # Answers\\n    raw_answers = table[1].str.upper().drop([across_index, down_index])\\n    answers = raw_answers[::2].tolist()\\n\\n    # Clues and annotations\\n    clues_and_annotations = table[2].drop([across_index, down_index])\\n    clues = clues_and_annotations[::2].tolist()\\n    annotations = clues_and_annotations[1::2].tolist()\\n    definitions = extract_definitions(soup, clues)\\n\\n    out = pd.DataFrame(\\n        data=np.transpose(np.array([clue_numbers, answers, clues, annotations])),\\n        columns=[\\\"ClueNumber\\\", \\\"Answer\\\", \\\"Clue\\\", \\\"Annotation\\\"],\\n    )\\n    if definitions is not None:\\n        out[\\\"Definition\\\"] = definitions\\n\\n    return out\";\n",
       "                var nbb_cells = Jupyter.notebook.get_cells();\n",
       "                for (var i = 0; i < nbb_cells.length; ++i) {\n",
       "                    if (nbb_cells[i].input_prompt_number == nbb_cell_id) {\n",
       "                        if (nbb_cells[i].get_text() == nbb_unformatted_code) {\n",
       "                             nbb_cells[i].set_text(nbb_formatted_code);\n",
       "                        }\n",
       "                        break;\n",
       "                    }\n",
       "                }\n",
       "            }, 500);\n",
       "            "
      ],
      "text/plain": [
       "<IPython.core.display.Javascript object>"
      ]
     },
     "metadata": {},
     "output_type": "display_data"
    }
   ],
   "source": [
    "def parse_table(table, soup):\n",
    "    (across_index,) = np.where(table[0].str.lower() == \"across\")[0]\n",
    "    (down_index,) = np.where(table[0].str.lower() == \"down\")[0]\n",
    "\n",
    "    # Clue numbers\n",
    "    raw_clue_numbers = table[0].astype(str)\n",
    "\n",
    "    clue_numbers = []\n",
    "    for i, row in enumerate(raw_clue_numbers):\n",
    "        if i == across_index or i == down_index:\n",
    "            continue\n",
    "        elif row != \"nan\" and across_index < i < down_index:\n",
    "            clue_numbers.append(row + \"a\")\n",
    "        elif row != \"nan\":\n",
    "            clue_numbers.append(row + \"d\")\n",
    "\n",
    "    # Answers\n",
    "    raw_answers = table[1].str.upper().drop([across_index, down_index])\n",
    "    answers = raw_answers[::2].tolist()\n",
    "\n",
    "    # Clues and annotations\n",
    "    clues_and_annotations = table[2].drop([across_index, down_index])\n",
    "    clues = clues_and_annotations[::2].tolist()\n",
    "    annotations = clues_and_annotations[1::2].tolist()\n",
    "    definitions = extract_definitions(soup, clues)\n",
    "\n",
    "    out = pd.DataFrame(\n",
    "        data=np.transpose(np.array([clue_numbers, answers, clues, annotations])),\n",
    "        columns=[\"ClueNumber\", \"Answer\", \"Clue\", \"Annotation\"],\n",
    "    )\n",
    "    if definitions is not None:\n",
    "        out[\"Definition\"] = definitions\n",
    "\n",
    "    return out"
   ]
  },
  {
   "cell_type": "code",
   "execution_count": 162,
   "metadata": {},
   "outputs": [
    {
     "data": {
      "application/javascript": [
       "\n",
       "            setTimeout(function() {\n",
       "                var nbb_cell_id = 162;\n",
       "                var nbb_unformatted_code = \"def get_puzzle_url(soup):\\n    puzzle_url_regexes = [\\n        \\\"^https?://www.theguardian.com/crosswords/.+\\\",\\n        \\\"^https?://puzzles.independent.co.uk/games/cryptic-crossword-independent/.+\\\",\\n        \\\"^https?://www.ft.com/content/.+\\\",\\n        \\\"^https?://www.thetimes.co.uk/puzzles/.+\\\",\\n    ]\\n\\n    puzzle_urls = [\\n        link.get(\\\"href\\\")\\n        for link in soup.find_all(\\n            \\\"a\\\",\\n            attrs={\\n                \\\"href\\\": lambda s: any(\\n                    [\\n                        bool(re.findall(puzzle_url_regex, s))\\n                        for puzzle_url_regex in puzzle_url_regexes\\n                    ]\\n                )\\n            },\\n        )\\n    ]\\n\\n    if len(puzzle_urls) == 1:\\n        return puzzle_urls[0]\\n\\n    return None\";\n",
       "                var nbb_formatted_code = \"def get_puzzle_url(soup):\\n    puzzle_url_regexes = [\\n        \\\"^https?://www.theguardian.com/crosswords/.+\\\",\\n        \\\"^https?://puzzles.independent.co.uk/games/cryptic-crossword-independent/.+\\\",\\n        \\\"^https?://www.ft.com/content/.+\\\",\\n        \\\"^https?://www.thetimes.co.uk/puzzles/.+\\\",\\n    ]\\n\\n    puzzle_urls = [\\n        link.get(\\\"href\\\")\\n        for link in soup.find_all(\\n            \\\"a\\\",\\n            attrs={\\n                \\\"href\\\": lambda s: any(\\n                    [\\n                        bool(re.findall(puzzle_url_regex, s))\\n                        for puzzle_url_regex in puzzle_url_regexes\\n                    ]\\n                )\\n            },\\n        )\\n    ]\\n\\n    if len(puzzle_urls) == 1:\\n        return puzzle_urls[0]\\n\\n    return None\";\n",
       "                var nbb_cells = Jupyter.notebook.get_cells();\n",
       "                for (var i = 0; i < nbb_cells.length; ++i) {\n",
       "                    if (nbb_cells[i].input_prompt_number == nbb_cell_id) {\n",
       "                        if (nbb_cells[i].get_text() == nbb_unformatted_code) {\n",
       "                             nbb_cells[i].set_text(nbb_formatted_code);\n",
       "                        }\n",
       "                        break;\n",
       "                    }\n",
       "                }\n",
       "            }, 500);\n",
       "            "
      ],
      "text/plain": [
       "<IPython.core.display.Javascript object>"
      ]
     },
     "metadata": {},
     "output_type": "display_data"
    }
   ],
   "source": [
    "def get_puzzle_url(soup):\n",
    "    puzzle_url_regexes = [\n",
    "        \"^https?://www.theguardian.com/crosswords/.+\",\n",
    "        \"^https?://puzzles.independent.co.uk/games/cryptic-crossword-independent/.+\",\n",
    "        \"^https?://www.ft.com/content/.+\",\n",
    "        \"^https?://www.thetimes.co.uk/puzzles/.+\",\n",
    "    ]\n",
    "\n",
    "    puzzle_urls = [\n",
    "        link.get(\"href\")\n",
    "        for link in soup.find_all(\n",
    "            \"a\",\n",
    "            attrs={\n",
    "                \"href\": lambda s: any(\n",
    "                    [\n",
    "                        bool(re.findall(puzzle_url_regex, s))\n",
    "                        for puzzle_url_regex in puzzle_url_regexes\n",
    "                    ]\n",
    "                )\n",
    "            },\n",
    "        )\n",
    "    ]\n",
    "\n",
    "    if len(puzzle_urls) == 1:\n",
    "        return puzzle_urls[0]\n",
    "\n",
    "    return None"
   ]
  },
  {
   "cell_type": "code",
   "execution_count": null,
   "metadata": {},
   "outputs": [],
   "source": []
  },
  {
   "cell_type": "code",
   "execution_count": null,
   "metadata": {},
   "outputs": [],
   "source": []
  },
  {
   "cell_type": "code",
   "execution_count": null,
   "metadata": {},
   "outputs": [],
   "source": []
  },
  {
   "cell_type": "code",
   "execution_count": 165,
   "metadata": {},
   "outputs": [
    {
     "data": {
      "application/javascript": [
       "\n",
       "            setTimeout(function() {\n",
       "                var nbb_cell_id = 165;\n",
       "                var nbb_unformatted_code = \"# Tables\\n# source_url = \\\"https://www.fifteensquared.net/2021/05/20/financial-times-16790-by-leonidas/\\\"\\n# source_url = \\\"https://www.fifteensquared.net/2021/05/21/financial-times-16791-by-buccaneer/\\\"\\n# source_url = \\\"https://www.fifteensquared.net/2021/05/21/independent-10797-by-phi/\\\"\\n# source_url = \\\"https://www.fifteensquared.net/2021/05/23/azed-no-2553-plain/\\\"\\n# source_url = \\\"https://www.fifteensquared.net/2021/05/23/everyman-3892/\\\"\\n\\n# List\\nsource_url = \\\"https://www.fifteensquared.net/2021/05/19/guardian-28449-pasquale/\\\"\\nresponse = requests.get(source_url, headers=headers)\";\n",
       "                var nbb_formatted_code = \"# Tables\\n# source_url = \\\"https://www.fifteensquared.net/2021/05/20/financial-times-16790-by-leonidas/\\\"\\n# source_url = \\\"https://www.fifteensquared.net/2021/05/21/financial-times-16791-by-buccaneer/\\\"\\n# source_url = \\\"https://www.fifteensquared.net/2021/05/21/independent-10797-by-phi/\\\"\\n# source_url = \\\"https://www.fifteensquared.net/2021/05/23/azed-no-2553-plain/\\\"\\n# source_url = \\\"https://www.fifteensquared.net/2021/05/23/everyman-3892/\\\"\\n\\n# List\\nsource_url = \\\"https://www.fifteensquared.net/2021/05/19/guardian-28449-pasquale/\\\"\\nresponse = requests.get(source_url, headers=headers)\";\n",
       "                var nbb_cells = Jupyter.notebook.get_cells();\n",
       "                for (var i = 0; i < nbb_cells.length; ++i) {\n",
       "                    if (nbb_cells[i].input_prompt_number == nbb_cell_id) {\n",
       "                        if (nbb_cells[i].get_text() == nbb_unformatted_code) {\n",
       "                             nbb_cells[i].set_text(nbb_formatted_code);\n",
       "                        }\n",
       "                        break;\n",
       "                    }\n",
       "                }\n",
       "            }, 500);\n",
       "            "
      ],
      "text/plain": [
       "<IPython.core.display.Javascript object>"
      ]
     },
     "metadata": {},
     "output_type": "display_data"
    }
   ],
   "source": [
    "# Tables\n",
    "# source_url = \"https://www.fifteensquared.net/2021/05/20/financial-times-16790-by-leonidas/\"\n",
    "# source_url = \"https://www.fifteensquared.net/2021/05/21/financial-times-16791-by-buccaneer/\"\n",
    "# source_url = \"https://www.fifteensquared.net/2021/05/21/independent-10797-by-phi/\"\n",
    "# source_url = \"https://www.fifteensquared.net/2021/05/23/azed-no-2553-plain/\"\n",
    "# source_url = \"https://www.fifteensquared.net/2021/05/23/everyman-3892/\"\n",
    "\n",
    "# List\n",
    "source_url = \"https://www.fifteensquared.net/2021/05/19/guardian-28449-pasquale/\"\n",
    "response = requests.get(source_url, headers=headers)"
   ]
  },
  {
   "cell_type": "code",
   "execution_count": 168,
   "metadata": {},
   "outputs": [
    {
     "data": {
      "application/javascript": [
       "\n",
       "            setTimeout(function() {\n",
       "                var nbb_cell_id = 168;\n",
       "                var nbb_unformatted_code = \"data = None\\n\\nsoup = bs4.BeautifulSoup(response.text, \\\"html.parser\\\")\\ntables = pd.read_html(response.text)\\n\\nfor table in tables:\\n    table_is_parsable = False\\n    try:\\n        table_is_parsable = is_parsable_table(table)\\n    except:\\n        pass\\n\\n    if table_is_parsable:\\n        print(\\\"Parsable!\\\")\\n        data = parse_table(table, soup)\\n        data[\\\"PuzzleURL\\\"] = get_puzzle_url(soup)\\n        data[\\\"SourceURL\\\"] = source_url\";\n",
       "                var nbb_formatted_code = \"data = None\\n\\nsoup = bs4.BeautifulSoup(response.text, \\\"html.parser\\\")\\ntables = pd.read_html(response.text)\\n\\nfor table in tables:\\n    table_is_parsable = False\\n    try:\\n        table_is_parsable = is_parsable_table(table)\\n    except:\\n        pass\\n\\n    if table_is_parsable:\\n        print(\\\"Parsable!\\\")\\n        data = parse_table(table, soup)\\n        data[\\\"PuzzleURL\\\"] = get_puzzle_url(soup)\\n        data[\\\"SourceURL\\\"] = source_url\";\n",
       "                var nbb_cells = Jupyter.notebook.get_cells();\n",
       "                for (var i = 0; i < nbb_cells.length; ++i) {\n",
       "                    if (nbb_cells[i].input_prompt_number == nbb_cell_id) {\n",
       "                        if (nbb_cells[i].get_text() == nbb_unformatted_code) {\n",
       "                             nbb_cells[i].set_text(nbb_formatted_code);\n",
       "                        }\n",
       "                        break;\n",
       "                    }\n",
       "                }\n",
       "            }, 500);\n",
       "            "
      ],
      "text/plain": [
       "<IPython.core.display.Javascript object>"
      ]
     },
     "metadata": {},
     "output_type": "display_data"
    }
   ],
   "source": [
    "data = None\n",
    "\n",
    "soup = bs4.BeautifulSoup(response.text, \"html.parser\")\n",
    "tables = pd.read_html(response.text)\n",
    "\n",
    "for table in tables:\n",
    "    table_is_parsable = False\n",
    "    try:\n",
    "        table_is_parsable = is_parsable_table(table)\n",
    "    except:\n",
    "        pass\n",
    "\n",
    "    if table_is_parsable:\n",
    "        print(\"Parsable!\")\n",
    "        data = parse_table(table, soup)\n",
    "        data[\"PuzzleURL\"] = get_puzzle_url(soup)\n",
    "        data[\"SourceURL\"] = source_url"
   ]
  },
  {
   "cell_type": "code",
   "execution_count": null,
   "metadata": {},
   "outputs": [],
   "source": []
  },
  {
   "cell_type": "markdown",
   "metadata": {},
   "source": [
    "## List"
   ]
  },
  {
   "cell_type": "code",
   "execution_count": 185,
   "metadata": {
    "scrolled": false
   },
   "outputs": [
    {
     "data": {
      "application/javascript": [
       "\n",
       "            setTimeout(function() {\n",
       "                var nbb_cell_id = 185;\n",
       "                var nbb_unformatted_code = \"entry_content = soup.find(\\\"div\\\", \\\"entry-content\\\")\\nparagraphs = entry_content.find_all(\\\"p\\\")\";\n",
       "                var nbb_formatted_code = \"entry_content = soup.find(\\\"div\\\", \\\"entry-content\\\")\\nparagraphs = entry_content.find_all(\\\"p\\\")\";\n",
       "                var nbb_cells = Jupyter.notebook.get_cells();\n",
       "                for (var i = 0; i < nbb_cells.length; ++i) {\n",
       "                    if (nbb_cells[i].input_prompt_number == nbb_cell_id) {\n",
       "                        if (nbb_cells[i].get_text() == nbb_unformatted_code) {\n",
       "                             nbb_cells[i].set_text(nbb_formatted_code);\n",
       "                        }\n",
       "                        break;\n",
       "                    }\n",
       "                }\n",
       "            }, 500);\n",
       "            "
      ],
      "text/plain": [
       "<IPython.core.display.Javascript object>"
      ]
     },
     "metadata": {},
     "output_type": "display_data"
    }
   ],
   "source": [
    "entry_content = soup.find(\"div\", \"entry-content\")\n",
    "paragraphs = entry_content.find_all(\"p\")"
   ]
  },
  {
   "cell_type": "code",
   "execution_count": 187,
   "metadata": {
    "scrolled": false
   },
   "outputs": [
    {
     "data": {
      "application/javascript": [
       "\n",
       "            setTimeout(function() {\n",
       "                var nbb_cell_id = 187;\n",
       "                var nbb_unformatted_code = \"for paragraph in paragraphs:\\n    pass\";\n",
       "                var nbb_formatted_code = \"for paragraph in paragraphs:\\n    pass\";\n",
       "                var nbb_cells = Jupyter.notebook.get_cells();\n",
       "                for (var i = 0; i < nbb_cells.length; ++i) {\n",
       "                    if (nbb_cells[i].input_prompt_number == nbb_cell_id) {\n",
       "                        if (nbb_cells[i].get_text() == nbb_unformatted_code) {\n",
       "                             nbb_cells[i].set_text(nbb_formatted_code);\n",
       "                        }\n",
       "                        break;\n",
       "                    }\n",
       "                }\n",
       "            }, 500);\n",
       "            "
      ],
      "text/plain": [
       "<IPython.core.display.Javascript object>"
      ]
     },
     "metadata": {},
     "output_type": "display_data"
    }
   ],
   "source": [
    "for paragraph in paragraphs:\n",
    "    pass"
   ]
  },
  {
   "cell_type": "code",
   "execution_count": 188,
   "metadata": {},
   "outputs": [
    {
     "data": {
      "text/plain": [
       "<p>21<span style=\"color: #3366ff\"> <span style=\"text-decoration: underline\">Avoid</span> newspaper offered around hotel (4)</span><br/>\n",
       "<strong>SHUN</strong><br/>\n",
       "SUN (newspaper) round H (hotel)</p>"
      ]
     },
     "execution_count": 188,
     "metadata": {},
     "output_type": "execute_result"
    },
    {
     "data": {
      "application/javascript": [
       "\n",
       "            setTimeout(function() {\n",
       "                var nbb_cell_id = 188;\n",
       "                var nbb_unformatted_code = \"paragraph\";\n",
       "                var nbb_formatted_code = \"paragraph\";\n",
       "                var nbb_cells = Jupyter.notebook.get_cells();\n",
       "                for (var i = 0; i < nbb_cells.length; ++i) {\n",
       "                    if (nbb_cells[i].input_prompt_number == nbb_cell_id) {\n",
       "                        if (nbb_cells[i].get_text() == nbb_unformatted_code) {\n",
       "                             nbb_cells[i].set_text(nbb_formatted_code);\n",
       "                        }\n",
       "                        break;\n",
       "                    }\n",
       "                }\n",
       "            }, 500);\n",
       "            "
      ],
      "text/plain": [
       "<IPython.core.display.Javascript object>"
      ]
     },
     "metadata": {},
     "output_type": "display_data"
    }
   ],
   "source": [
    "paragraph"
   ]
  },
  {
   "cell_type": "code",
   "execution_count": null,
   "metadata": {},
   "outputs": [],
   "source": []
  }
 ],
 "metadata": {
  "kernelspec": {
   "display_name": "Python 3",
   "language": "python",
   "name": "python3"
  },
  "language_info": {
   "codemirror_mode": {
    "name": "ipython",
    "version": 3
   },
   "file_extension": ".py",
   "mimetype": "text/x-python",
   "name": "python",
   "nbconvert_exporter": "python",
   "pygments_lexer": "ipython3",
   "version": "3.7.6"
  }
 },
 "nbformat": 4,
 "nbformat_minor": 4
}
